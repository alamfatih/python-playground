{
 "cells": [
  {
   "cell_type": "markdown",
   "id": "32d76740-3135-4e4d-a23f-7815971dd859",
   "metadata": {},
   "source": [
    "# ⚙️ Implementasi Sistem Manajemen Karyawan Berbasis Objek dengan Inheritance di Python"
   ]
  },
  {
   "cell_type": "markdown",
   "id": "322cce4e-cb0b-49e9-8bdb-66edfd09075b",
   "metadata": {},
   "source": [
    "Berikut adalah skrip Python yang mengimplementasikan sistem manajemen karyawan menggunakan konsep kelas, objek, dan pewarisan:\n",
    "\n",
    "* **Kelas `Employee` (Kelas Dasar):**\n",
    "    * Menginisialisasi objek karyawan dengan nama, ID karyawan, dan gaji.\n",
    "    * Memiliki metode `display_info()` untuk menampilkan detail dasar karyawan.\n",
    "    * Memiliki metode `calculate_bonus()` untuk menghitung bonus (10% dari gaji untuk karyawan reguler).\n",
    "* **Kelas `Manager` (Kelas Turunan dari `Employee`):**\n",
    "    * Mewarisi dari kelas `Employee` dan menambahkan atribut `department`.\n",
    "    * Mengoverride metode `display_info()` untuk menampilkan informasi departemen.\n",
    "    * Mengoverride metode `calculate_bonus()` untuk menghitung bonus (20% dari gaji untuk manajer).\n",
    "* **Kelas `Developer` (Kelas Turunan dari `Employee`):**\n",
    "    * Mewarisi dari kelas `Employee` dan menambahkan atribut `programming_language`.\n",
    "    * Mengoverride metode `display_info()` untuk menampilkan bahasa pemrograman.\n",
    "    * Mengoverride metode `calculate_bonus()` untuk menghitung bonus (50% dari gaji untuk developer).\n",
    "* **Program Utama:**\n",
    "    * Menggunakan list `employees` untuk menyimpan objek-objek karyawan.\n",
    "    * Fungsi `add_employee()` memungkinkan pengguna menambahkan berbagai jenis karyawan berdasarkan pilihan menu.\n",
    "    * Fungsi `display_all_employees()` menampilkan informasi lengkap semua karyawan beserta bonus mereka.\n",
    "    * Loop utama menampilkan menu dan memungkinkan pengguna berinteraksi dengan sistem.\n",
    "\n",
    "Jalankan sel kode di bawah untuk memulai pengelolaan data karyawanmu!"
   ]
  },
  {
   "cell_type": "code",
   "execution_count": 2,
   "id": "b33bce60-6aa9-44c9-9ad3-336826a36e67",
   "metadata": {},
   "outputs": [
    {
     "name": "stdout",
     "output_type": "stream",
     "text": [
      "\n",
      "--- Employee Management System ---\n",
      "1. Add Employee\n",
      "2. Display All Employees\n",
      "3. Exit\n"
     ]
    },
    {
     "name": "stdin",
     "output_type": "stream",
     "text": [
      "Enter your choice(1-3):  1\n"
     ]
    },
    {
     "name": "stdout",
     "output_type": "stream",
     "text": [
      "\n",
      "--- Choose Employee Type ---\n",
      "1. Regular Employee\n",
      "2. Manager\n",
      "3. Developer\n"
     ]
    },
    {
     "name": "stdin",
     "output_type": "stream",
     "text": [
      "Enter your choice:  1\n",
      "Enter Employee Name:  Nur Fatih Alam\n",
      "Enter Employee ID:  1234\n",
      "Enter Employee Salary:  10000\n"
     ]
    },
    {
     "name": "stdout",
     "output_type": "stream",
     "text": [
      "\n",
      "--- Employee Management System ---\n",
      "1. Add Employee\n",
      "2. Display All Employees\n",
      "3. Exit\n"
     ]
    },
    {
     "name": "stdin",
     "output_type": "stream",
     "text": [
      "Enter your choice(1-3):  1\n"
     ]
    },
    {
     "name": "stdout",
     "output_type": "stream",
     "text": [
      "\n",
      "--- Choose Employee Type ---\n",
      "1. Regular Employee\n",
      "2. Manager\n",
      "3. Developer\n"
     ]
    },
    {
     "name": "stdin",
     "output_type": "stream",
     "text": [
      "Enter your choice:  2\n",
      "Enter Employee Name:  Huson A S\n",
      "Enter Employee ID:  1235\n",
      "Enter Employee Salary:  8000\n",
      "Enter Department:  Finance\n"
     ]
    },
    {
     "name": "stdout",
     "output_type": "stream",
     "text": [
      "\n",
      "--- Employee Management System ---\n",
      "1. Add Employee\n",
      "2. Display All Employees\n",
      "3. Exit\n"
     ]
    },
    {
     "name": "stdin",
     "output_type": "stream",
     "text": [
      "Enter your choice(1-3):  1\n"
     ]
    },
    {
     "name": "stdout",
     "output_type": "stream",
     "text": [
      "\n",
      "--- Choose Employee Type ---\n",
      "1. Regular Employee\n",
      "2. Manager\n",
      "3. Developer\n"
     ]
    },
    {
     "name": "stdin",
     "output_type": "stream",
     "text": [
      "Enter your choice:  3\n",
      "Enter Employee Name:  Jax B C\n",
      "Enter Employee ID:  1236\n",
      "Enter Employee Salary:  15000\n",
      "Enter Programming Language:  Python\n"
     ]
    },
    {
     "name": "stdout",
     "output_type": "stream",
     "text": [
      "\n",
      "--- Employee Management System ---\n",
      "1. Add Employee\n",
      "2. Display All Employees\n",
      "3. Exit\n"
     ]
    },
    {
     "name": "stdin",
     "output_type": "stream",
     "text": [
      "Enter your choice(1-3):  2\n"
     ]
    },
    {
     "name": "stdout",
     "output_type": "stream",
     "text": [
      "\n",
      "--- All Employees ---\n",
      "\n",
      "--- Employee Details ---\n",
      "Name: Nur Fatih Alam\n",
      "Employee ID: 1234\n",
      "Salary: 10000.0\n",
      "Bonus: 1000.0\n",
      "\n",
      "--- Employee Details ---\n",
      "Name: Huson A S\n",
      "Employee ID: 1235\n",
      "Salary: 8000.0\n",
      "Department: Finance\n",
      "Bonus: 1600.0\n",
      "\n",
      "--- Employee Details ---\n",
      "Name: Jax B C\n",
      "Employee ID: 1236\n",
      "Salary: 15000.0\n",
      "Bonus: 7500.0\n",
      "\n",
      "--- Employee Management System ---\n",
      "1. Add Employee\n",
      "2. Display All Employees\n",
      "3. Exit\n"
     ]
    },
    {
     "name": "stdin",
     "output_type": "stream",
     "text": [
      "Enter your choice(1-3):  3\n"
     ]
    },
    {
     "name": "stdout",
     "output_type": "stream",
     "text": [
      "Exiting the program.\n"
     ]
    }
   ],
   "source": [
    "# Employee Management System\n",
    "\n",
    "# Base Class: Employee\n",
    "class Employee:\n",
    "  def __init__(self, name, emp_id, salary):\n",
    "    self.name = name\n",
    "    self.emp_id = emp_id\n",
    "    self.salary = salary\n",
    "\n",
    "  def display_info(self):\n",
    "    print(\"\\n--- Employee Details ---\")\n",
    "    print(f\"Name: {self.name}\")\n",
    "    print(f\"Employee ID: {self.emp_id}\")\n",
    "    print(f\"Salary: {self.salary}\")\n",
    "\n",
    "  def calculate_bonus(self):\n",
    "    return self.salary * 0.1\n",
    "\n",
    "#Derived Class: Manager\n",
    "class Manager(Employee):\n",
    "  def __init__(self, name, emp_id, salary, department):\n",
    "    super().__init__(name, emp_id, salary)\n",
    "    self.department = department\n",
    "\n",
    "  def display_info(self):\n",
    "    super().display_info()\n",
    "    print(f\"Department: {self.department}\")\n",
    "\n",
    "  def calculate_bonus(self):\n",
    "    return self.salary * 0.2\n",
    "\n",
    "#Derived Class: Developer\n",
    "class Developer(Employee):\n",
    "  def __init__(self, name, emp_id, salary, programming_language):\n",
    "    super().__init__(name, emp_id, salary)\n",
    "    self.programming_language = programming_language\n",
    "\n",
    "  def display_info(self):\n",
    "    return super().display_info()\n",
    "    print(f\"Programming Language: {self.programming_language}\")\n",
    "\n",
    "  def calculate_bonus(self):\n",
    "    return self.salary * 0.5\n",
    "\n",
    "# Main Program\n",
    "employees = []\n",
    "\n",
    "def add_employee():\n",
    "  print(\"\\n--- Choose Employee Type ---\")\n",
    "  print(\"1. Regular Employee\")\n",
    "  print(\"2. Manager\")\n",
    "  print(\"3. Developer\")\n",
    "  choice = int(input(\"Enter your choice: \").strip())\n",
    "\n",
    "  name = input(\"Enter Employee Name: \").strip()\n",
    "  emp_id = input(\"Enter Employee ID: \").strip()\n",
    "  salary = float(input(\"Enter Employee Salary: \").strip())\n",
    "\n",
    "  if choice == 1:\n",
    "    employees.append(Employee(name, emp_id, salary))\n",
    "  elif choice == 2:\n",
    "    department = input(\"Enter Department: \").strip()\n",
    "    employees.append(Manager(name, emp_id, salary, department))\n",
    "  elif choice == 3:\n",
    "    programming_language = input(\"Enter Programming Language: \").strip()\n",
    "    employees.append(Developer(name, emp_id, salary, programming_language))\n",
    "  else:\n",
    "    print(\"Invalid choice\")\n",
    "\n",
    "def display_all_employees():\n",
    "  print(\"\\n--- All Employees ---\")\n",
    "  for employee in employees:\n",
    "    employee.display_info()\n",
    "    print(f\"Bonus: {employee.calculate_bonus()}\")\n",
    "\n",
    "# Menu\n",
    "while True:\n",
    "  print(\"\\n--- Employee Management System ---\")\n",
    "  print(\"1. Add Employee\")\n",
    "  print(\"2. Display All Employees\")\n",
    "  print(\"3. Exit\")\n",
    "  choice = int(input(\"Enter your choice(1-3): \").strip())\n",
    "\n",
    "  if choice == 1:\n",
    "    add_employee()\n",
    "  elif choice == 2:\n",
    "    display_all_employees()\n",
    "  elif choice == 3:\n",
    "    print(\"Exiting the program.\")\n",
    "    break\n",
    "  else:\n",
    "    print(\"Invalid choice\")"
   ]
  }
 ],
 "metadata": {
  "kernelspec": {
   "display_name": "Python [conda env:base] *",
   "language": "python",
   "name": "conda-base-py"
  },
  "language_info": {
   "codemirror_mode": {
    "name": "ipython",
    "version": 3
   },
   "file_extension": ".py",
   "mimetype": "text/x-python",
   "name": "python",
   "nbconvert_exporter": "python",
   "pygments_lexer": "ipython3",
   "version": "3.12.7"
  }
 },
 "nbformat": 4,
 "nbformat_minor": 5
}
