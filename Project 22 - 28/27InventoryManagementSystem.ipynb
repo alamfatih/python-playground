{
 "cells": [
  {
   "cell_type": "markdown",
   "id": "d4074245-5843-41b8-b192-df6e67b118d4",
   "metadata": {},
   "source": [
    "# ⚙️ Implementasi Sistem Manajemen Inventaris Berbasis Objek dengan Static & Class Methods di Python"
   ]
  },
  {
   "cell_type": "markdown",
   "id": "39ce76ab-2c2c-48fb-96fe-8f12914cdc87",
   "metadata": {},
   "source": [
    "Berikut adalah skrip Python yang mengimplementasikan sistem manajemen inventaris menggunakan konsep kelas, objek, metode instance, metode statis, dan metode kelas:\n",
    "\n",
    "* **Kelas `Inventory`:**\n",
    "    * Menginisialisasi objek produk dengan nama, harga, dan jumlah.\n",
    "    * Menggunakan variabel kelas `total_items` untuk melacak total item di inventaris.\n",
    "    * Memiliki metode instance `show_product_details()` untuk menampilkan detail produk.\n",
    "    * Memiliki metode instance `sell_product()` untuk mengurangi stok saat penjualan.\n",
    "    * Memiliki metode statis `calculate_discount()` untuk menghitung harga setelah diskon.\n",
    "    * Memiliki metode kelas `total_items_report()` untuk menampilkan laporan total item.\n",
    "* **Program Utama:**\n",
    "    * Menggunakan list `products` untuk menyimpan objek-objek `Inventory`.\n",
    "    * Fungsi `add_product()` menambahkan produk baru ke inventaris.\n",
    "    * Fungsi `view_products()` menampilkan semua produk dalam inventaris.\n",
    "    * Fungsi `sell_product()` memungkinkan penjualan produk.\n",
    "    * Fungsi `discount_price()` menghitung harga diskon.\n",
    "    * Loop utama menampilkan menu interaktif untuk melakukan berbagai operasi inventaris.\n",
    "\n",
    "Jalankan sel kode di bawah untuk mengelola inventarismu dengan lebih baik!"
   ]
  },
  {
   "cell_type": "code",
   "execution_count": 1,
   "id": "5713460b-5904-4cdb-88d4-f82874767f92",
   "metadata": {},
   "outputs": [
    {
     "name": "stdout",
     "output_type": "stream",
     "text": [
      "\n",
      "--- Inventory Management System ---\n",
      "1. Add Product\n",
      "2. View Products\n",
      "3. Sell Product\n",
      "4. Calculate Discount\n",
      "5. Total Items Report\n",
      "6. Exit\n"
     ]
    },
    {
     "name": "stdin",
     "output_type": "stream",
     "text": [
      "Enter your choice(1-6):  1\n",
      "Enter product name:  Sugar\n",
      "Enter price:  25\n",
      "Enter quantity:  5\n"
     ]
    },
    {
     "name": "stdout",
     "output_type": "stream",
     "text": [
      "5 Sugar(s) added to inventory.\n",
      "\n",
      "--- Inventory Management System ---\n",
      "1. Add Product\n",
      "2. View Products\n",
      "3. Sell Product\n",
      "4. Calculate Discount\n",
      "5. Total Items Report\n",
      "6. Exit\n"
     ]
    },
    {
     "name": "stdin",
     "output_type": "stream",
     "text": [
      "Enter your choice(1-6):  4\n",
      "Enter price:  25\n",
      "Enter discount percentage:  0.1\n"
     ]
    },
    {
     "name": "stdout",
     "output_type": "stream",
     "text": [
      "Discounted Price: 24.975\n",
      "\n",
      "--- Inventory Management System ---\n",
      "1. Add Product\n",
      "2. View Products\n",
      "3. Sell Product\n",
      "4. Calculate Discount\n",
      "5. Total Items Report\n",
      "6. Exit\n"
     ]
    },
    {
     "name": "stdin",
     "output_type": "stream",
     "text": [
      "Enter your choice(1-6):  5\n"
     ]
    },
    {
     "name": "stdout",
     "output_type": "stream",
     "text": [
      "\n",
      "Total Items: 5\n",
      "\n",
      "--- Inventory Management System ---\n",
      "1. Add Product\n",
      "2. View Products\n",
      "3. Sell Product\n",
      "4. Calculate Discount\n",
      "5. Total Items Report\n",
      "6. Exit\n"
     ]
    },
    {
     "name": "stdin",
     "output_type": "stream",
     "text": [
      "Enter your choice(1-6):  3\n",
      "Enter product name to sell:  Sugar\n",
      "Enter amount to sell:  2\n"
     ]
    },
    {
     "name": "stdout",
     "output_type": "stream",
     "text": [
      "2 Sugar(s) sold.\n",
      "\n",
      "--- Inventory Management System ---\n",
      "1. Add Product\n",
      "2. View Products\n",
      "3. Sell Product\n",
      "4. Calculate Discount\n",
      "5. Total Items Report\n",
      "6. Exit\n"
     ]
    },
    {
     "name": "stdin",
     "output_type": "stream",
     "text": [
      "Enter your choice(1-6):  2\n"
     ]
    },
    {
     "name": "stdout",
     "output_type": "stream",
     "text": [
      "\n",
      "--- Inventory ---\n",
      "\n",
      "--- Product Details ---\n",
      "Product Name: Sugar\n",
      "Price: 25.0\n",
      "Quantity: 3\n",
      "\n",
      "--- Inventory Management System ---\n",
      "1. Add Product\n",
      "2. View Products\n",
      "3. Sell Product\n",
      "4. Calculate Discount\n",
      "5. Total Items Report\n",
      "6. Exit\n"
     ]
    },
    {
     "name": "stdin",
     "output_type": "stream",
     "text": [
      "Enter your choice(1-6):  6\n"
     ]
    },
    {
     "name": "stdout",
     "output_type": "stream",
     "text": [
      "Exiting the program.\n"
     ]
    }
   ],
   "source": [
    "# Inventory Management System\n",
    "\n",
    "class Inventory:\n",
    "  total_items = 0\n",
    "\n",
    "  def __init__(self, product_name, price, quantity):\n",
    "    self.product_name = product_name\n",
    "    self.price = price\n",
    "    self.quantity = quantity\n",
    "    Inventory.total_items += quantity\n",
    "\n",
    "  # Instance Method: Show Product Details\n",
    "  def show_product_details(self):\n",
    "    print(\"\\n--- Product Details ---\")\n",
    "    print(f\"Product Name: {self.product_name}\")\n",
    "    print(f\"Price: {self.price}\")\n",
    "    print(f\"Quantity: {self.quantity}\")\n",
    "\n",
    "  # Instance Method: Sell Product\n",
    "  def sell_product(self, amount):\n",
    "    if amount <= self.quantity:\n",
    "      self.quantity -= amount\n",
    "      Inventory.total_items -= amount\n",
    "      print(f\"{amount} {self.product_name}(s) sold.\")\n",
    "    else:\n",
    "      print(\"Insufficient quantity.\")\n",
    "\n",
    "  # Static Method: Calculate Discount\n",
    "  @staticmethod\n",
    "  def calculate_discount(price, discount_percentage):\n",
    "    return price * (1 - discount_percentage / 100)\n",
    "\n",
    "  # Class Method: Total Items Report\n",
    "  @classmethod\n",
    "  def total_items_report(cls):\n",
    "    print(f\"\\nTotal Items: {cls.total_items}\")\n",
    "\n",
    "# Main Program\n",
    "products = []\n",
    "\n",
    "# Add Product to inventory\n",
    "def add_product():\n",
    "  product_name = input(\"Enter product name: \")\n",
    "  price = float(input(\"Enter price: \"))\n",
    "  quantity = int(input(\"Enter quantity: \"))\n",
    "  product = Inventory(product_name, price, quantity)\n",
    "  products.append(product)\n",
    "  print(f\"{quantity} {product_name}(s) added to inventory.\")\n",
    "\n",
    "#Display All Products\n",
    "def view_products():\n",
    "  print(\"\\n--- Inventory ---\")\n",
    "  if not products:\n",
    "    print(\"No products in inventory.\")\n",
    "  else:\n",
    "    for product in products:\n",
    "      product.show_product_details()\n",
    "\n",
    "# Sell Product\n",
    "def sell_product():\n",
    "  product_name = input(\"Enter product name to sell: \")\n",
    "  for product in products:\n",
    "    if product.product_name == product_name:\n",
    "      amount = int(input(\"Enter amount to sell: \"))\n",
    "      product.sell_product(amount)\n",
    "      break\n",
    "  else:\n",
    "    print(\"Product not found in inventory.\")\n",
    "\n",
    "# Calculate Discount\n",
    "def discount_price():\n",
    "  price = float(input(\"Enter price: \"))\n",
    "  discount_percentage = float(input(\"Enter discount percentage: \"))\n",
    "  discounted_price = Inventory.calculate_discount(price, discount_percentage)\n",
    "  print(f\"Discounted Price: {discounted_price}\")\n",
    "\n",
    "\n",
    "# Main Menu\n",
    "while True:\n",
    "  print(\"\\n--- Inventory Management System ---\")\n",
    "  print(\"1. Add Product\")\n",
    "  print(\"2. View Products\")\n",
    "  print(\"3. Sell Product\")\n",
    "  print(\"4. Calculate Discount\")\n",
    "  print(\"5. Total Items Report\")\n",
    "  print(\"6. Exit\")\n",
    "\n",
    "  choice = input(\"Enter your choice(1-6): \")\n",
    "\n",
    "  if choice == \"1\":\n",
    "    add_product()\n",
    "  elif choice == \"2\":\n",
    "    view_products()\n",
    "  elif choice == \"3\":\n",
    "    sell_product()\n",
    "  elif choice == \"4\":\n",
    "    discount_price()\n",
    "  elif choice == \"5\":\n",
    "    Inventory.total_items_report()\n",
    "  elif choice == \"6\":\n",
    "    print(\"Exiting the program.\")\n",
    "    break\n",
    "  else:\n",
    "    print(\"Invalid choice. Please try again.\")"
   ]
  }
 ],
 "metadata": {
  "kernelspec": {
   "display_name": "Python [conda env:base] *",
   "language": "python",
   "name": "conda-base-py"
  },
  "language_info": {
   "codemirror_mode": {
    "name": "ipython",
    "version": 3
   },
   "file_extension": ".py",
   "mimetype": "text/x-python",
   "name": "python",
   "nbconvert_exporter": "python",
   "pygments_lexer": "ipython3",
   "version": "3.12.7"
  }
 },
 "nbformat": 4,
 "nbformat_minor": 5
}
