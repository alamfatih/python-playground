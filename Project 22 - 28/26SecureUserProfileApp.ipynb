{
 "cells": [
  {
   "cell_type": "markdown",
   "id": "621d34ff-430d-4614-8742-706a952f0165",
   "metadata": {},
   "source": [
    "# ⚙️ Implementasi Aplikasi Profil Pengguna Aman Berbasis Objek dengan Encapsulation di Python"
   ]
  },
  {
   "cell_type": "markdown",
   "id": "cc4daff3-565b-41bf-ac7b-8fa7cea5d0bb",
   "metadata": {},
   "source": [
    "Berikut adalah skrip Python yang mengimplementasikan aplikasi profil pengguna aman menggunakan konsep kelas, objek, dan enkapsulasi:\n",
    "\n",
    "* **Kelas `UserProfile`:**\n",
    "    * Menginisialisasi objek pengguna dengan username, email (dengan konvensi protected `_email`), dan password (dengan konvensi private `__password`).\n",
    "    * Memiliki *getter* `get_email()` untuk mengakses email.\n",
    "    * Memiliki *setter* `set_email()` untuk memperbarui email dengan validasi format.\n",
    "    * Memiliki *setter* `set_password()` untuk mengatur password dengan validasi panjang minimal.\n",
    "    * Memiliki metode `display_profile()` untuk menampilkan informasi profil (termasuk password).\n",
    "* **Program Utama:**\n",
    "    * Menggunakan list `users` untuk menyimpan objek-objek `UserProfile`.\n",
    "    * Fungsi `create_user()` membuat objek `UserProfile` baru dan menambahkannya ke list `users`.\n",
    "    * Fungsi `view_profiles()` menampilkan informasi semua profil pengguna.\n",
    "    * Fungsi `update_email()` memungkinkan pengguna memperbarui email berdasarkan username.\n",
    "    * Loop utama menampilkan menu interaktif untuk melakukan berbagai operasi profil pengguna.\n",
    "\n",
    "Jalankan sel kode di bawah untuk mengelola profil pengguna secara aman!"
   ]
  },
  {
   "cell_type": "code",
   "execution_count": 2,
   "id": "08231b27-4be1-47bf-9399-af6f771156b7",
   "metadata": {},
   "outputs": [
    {
     "name": "stdout",
     "output_type": "stream",
     "text": [
      "\n",
      "--- Secure User Profile App ---\n",
      "1. Create User\n",
      "2. View All Profiles\n",
      "3. Update Email\n",
      "4. Exit\n"
     ]
    },
    {
     "name": "stdin",
     "output_type": "stream",
     "text": [
      "Enter your choice(1-4):  1\n",
      "Enter username:  alamfatih\n",
      "Enter email:  af@emal.com\n",
      "Enter password:  123456\n"
     ]
    },
    {
     "name": "stdout",
     "output_type": "stream",
     "text": [
      "Password set successfully\n",
      "User created successfully\n",
      "\n",
      "--- Secure User Profile App ---\n",
      "1. Create User\n",
      "2. View All Profiles\n",
      "3. Update Email\n",
      "4. Exit\n"
     ]
    },
    {
     "name": "stdin",
     "output_type": "stream",
     "text": [
      "Enter your choice(1-4):  2\n"
     ]
    },
    {
     "name": "stdout",
     "output_type": "stream",
     "text": [
      "\n",
      "--- User Profile ---\n",
      "Username: alamfatih\n",
      "Email: af@emal.com\n",
      "Password: 123456\n",
      "\n",
      "--- Secure User Profile App ---\n",
      "1. Create User\n",
      "2. View All Profiles\n",
      "3. Update Email\n",
      "4. Exit\n"
     ]
    },
    {
     "name": "stdin",
     "output_type": "stream",
     "text": [
      "Enter your choice(1-4):  4\n"
     ]
    },
    {
     "name": "stdout",
     "output_type": "stream",
     "text": [
      "Exiting the program\n"
     ]
    }
   ],
   "source": [
    "# Secure User Profile App\n",
    "\n",
    "class UserProfile:\n",
    "  def __init__(self, username, email, password):\n",
    "    self.username = username\n",
    "    self._email = email\n",
    "    self.__password = password\n",
    "    self.set_password(password)\n",
    "\n",
    "  # Getter for email\n",
    "  def get_email(self):\n",
    "    return self._email\n",
    "\n",
    "  # Setter for Email\n",
    "  def set_email(self, new_email):\n",
    "    if \"@\" in new_email and \".\" in new_email:\n",
    "      self._email = new_email\n",
    "      print(\"Email updated successfully\")\n",
    "    else:\n",
    "      print(\"Invalid email format\")\n",
    "\n",
    "\n",
    "  # Setter for password\n",
    "  def set_password(self, new_password):\n",
    "    if len(new_password) < 6:\n",
    "      print(\"Password must be at least 6 characters long\")\n",
    "    else:\n",
    "      self.__password = new_password\n",
    "      print(\"Password set successfully\")\n",
    "\n",
    "  # Display Profile\n",
    "  def display_profile(self):\n",
    "    print(\"\\n--- User Profile ---\")\n",
    "    print(f\"Username: {self.username}\")\n",
    "    print(f\"Email: {self._email}\")\n",
    "    print(f\"Password: {self.__password}\")\n",
    "\n",
    "\n",
    "#Main Program\n",
    "users = []\n",
    "\n",
    "def create_user():\n",
    "  username = input(\"Enter username: \")\n",
    "  email = input(\"Enter email: \")\n",
    "  password = input(\"Enter password: \")\n",
    "  user = UserProfile(username, email, password)\n",
    "  users.append(user)\n",
    "  print(\"User created successfully\")\n",
    "\n",
    "def view_profiles():\n",
    "  if not users:\n",
    "    print(\"No users found\")\n",
    "  else:\n",
    "    for user in users:\n",
    "      user.display_profile()\n",
    "\n",
    "def update_email():\n",
    "  username = input(\"Enter username to update email: \")\n",
    "  for user in users:\n",
    "    if user.username == username:\n",
    "      new_email = input(\"Enter new email: \")\n",
    "      user.set_email(new_email)\n",
    "      return\n",
    "  print(\"User not found\")\n",
    "\n",
    "# Main Menu\n",
    "\n",
    "while True:\n",
    "  print(\"\\n--- Secure User Profile App ---\")\n",
    "  print(\"1. Create User\")\n",
    "  print(\"2. View All Profiles\")\n",
    "  print(\"3. Update Email\")\n",
    "  print(\"4. Exit\")\n",
    "\n",
    "  choice = input(\"Enter your choice(1-4): \")\n",
    "\n",
    "  if choice == \"1\":\n",
    "    create_user()\n",
    "  elif choice == \"2\":\n",
    "    view_profiles()\n",
    "  elif choice == \"3\":\n",
    "    update_email()\n",
    "  elif choice == \"4\":\n",
    "    print(\"Exiting the program\")\n",
    "    break\n",
    "  else:\n",
    "    print(\"Invalid choice. Please try again\")"
   ]
  }
 ],
 "metadata": {
  "kernelspec": {
   "display_name": "Python [conda env:base] *",
   "language": "python",
   "name": "conda-base-py"
  },
  "language_info": {
   "codemirror_mode": {
    "name": "ipython",
    "version": 3
   },
   "file_extension": ".py",
   "mimetype": "text/x-python",
   "name": "python",
   "nbconvert_exporter": "python",
   "pygments_lexer": "ipython3",
   "version": "3.12.7"
  }
 },
 "nbformat": 4,
 "nbformat_minor": 5
}
