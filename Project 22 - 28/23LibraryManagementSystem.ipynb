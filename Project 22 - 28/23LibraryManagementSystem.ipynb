{
 "cells": [
  {
   "cell_type": "markdown",
   "id": "2b4e49dd-8a39-4bb4-aa9c-66b27526d709",
   "metadata": {},
   "source": [
    "# ⚙️ Implementasi Sistem Manajemen Perpustakaan Berbasis Objek dengan Python"
   ]
  },
  {
   "cell_type": "markdown",
   "id": "f77e1262-9a8d-4706-9953-5c387923f184",
   "metadata": {},
   "source": [
    "Berikut adalah skrip Python yang mengimplementasikan sistem manajemen perpustakaan menggunakan konsep kelas dan objek:\n",
    "\n",
    "* **Kelas `Book`:**\n",
    "    * Menginisialisasi objek buku dengan judul dan pengarang.\n",
    "    * Memiliki atribut `is_borrowed` untuk melacak status peminjaman buku.\n",
    "    * Memiliki metode `display_info()` untuk menampilkan informasi detail buku.\n",
    "* **Kelas `Library`:**\n",
    "    * Menginisialisasi objek perpustakaan dengan list kosong `books` untuk menyimpan koleksi buku.\n",
    "    * Memiliki metode `add_book()` untuk menambahkan buku baru ke perpustakaan.\n",
    "    * Memiliki metode `view_books()` untuk menampilkan daftar semua buku di perpustakaan.\n",
    "    * Memiliki metode `borrow_book()` untuk meminjam buku (mengubah status `is_borrowed`).\n",
    "    * Memiliki metode `return_book()` untuk mengembalikan buku (mengubah status `is_borrowed`).\n",
    "* **Program Utama:**\n",
    "    * Membuat instance objek `Library`.\n",
    "    * Menampilkan menu interaktif kepada pengguna untuk melakukan berbagai operasi perpustakaan (tambah buku, lihat buku, pinjam buku, kembalikan buku, keluar).\n",
    "    * Loop utama terus menampilkan menu hingga pengguna memilih untuk keluar.\n",
    "\n",
    "Jalankan sel kode di bawah untuk memulai pengelolaan perpustakaan virtualmu!"
   ]
  },
  {
   "cell_type": "code",
   "execution_count": 1,
   "id": "5bc7c2eb-40cb-432e-bcb5-f635b0d563f5",
   "metadata": {},
   "outputs": [
    {
     "name": "stdout",
     "output_type": "stream",
     "text": [
      "\n",
      "--- Library Management System ---\n",
      "1. Add Book\n",
      "2. View Books\n",
      "3. Borrow Book\n",
      "4. Return Book\n",
      "5. Exit\n"
     ]
    },
    {
     "name": "stdin",
     "output_type": "stream",
     "text": [
      "Enter your choice (1-5):  1\n",
      "Enter book title:  Learn Python\n",
      "Enter author name:  Nur Fatih\n"
     ]
    },
    {
     "name": "stdout",
     "output_type": "stream",
     "text": [
      "Book 'Learn Python' by Nur Fatih added to the library.\n",
      "\n",
      "--- Library Management System ---\n",
      "1. Add Book\n",
      "2. View Books\n",
      "3. Borrow Book\n",
      "4. Return Book\n",
      "5. Exit\n"
     ]
    },
    {
     "name": "stdin",
     "output_type": "stream",
     "text": [
      "Enter your choice (1-5):  1\n",
      "Enter book title:  Learn Data Analytics\n",
      "Enter author name:  Fatih Alam\n"
     ]
    },
    {
     "name": "stdout",
     "output_type": "stream",
     "text": [
      "Book 'Learn Data Analytics' by Fatih Alam added to the library.\n",
      "\n",
      "--- Library Management System ---\n",
      "1. Add Book\n",
      "2. View Books\n",
      "3. Borrow Book\n",
      "4. Return Book\n",
      "5. Exit\n"
     ]
    },
    {
     "name": "stdin",
     "output_type": "stream",
     "text": [
      "Enter your choice (1-5):  2\n"
     ]
    },
    {
     "name": "stdout",
     "output_type": "stream",
     "text": [
      "\n",
      "--- Library Catalog ---\n",
      "Title: Learn Python\n",
      "Author: Nur Fatih\n",
      "Status: Available\n",
      "Title: Learn Data Analytics\n",
      "Author: Fatih Alam\n",
      "Status: Available\n",
      "\n",
      "--- Library Management System ---\n",
      "1. Add Book\n",
      "2. View Books\n",
      "3. Borrow Book\n",
      "4. Return Book\n",
      "5. Exit\n"
     ]
    },
    {
     "name": "stdin",
     "output_type": "stream",
     "text": [
      "Enter your choice (1-5):  3\n",
      "Enter book title to borrow:  Learn Python\n"
     ]
    },
    {
     "name": "stdout",
     "output_type": "stream",
     "text": [
      "Book 'Learn Python' has been borrowed. Enjoy Reading\n",
      "\n",
      "--- Library Management System ---\n",
      "1. Add Book\n",
      "2. View Books\n",
      "3. Borrow Book\n",
      "4. Return Book\n",
      "5. Exit\n"
     ]
    },
    {
     "name": "stdin",
     "output_type": "stream",
     "text": [
      "Enter your choice (1-5):  2\n"
     ]
    },
    {
     "name": "stdout",
     "output_type": "stream",
     "text": [
      "\n",
      "--- Library Catalog ---\n",
      "Title: Learn Python\n",
      "Author: Nur Fatih\n",
      "Status: Borrowed\n",
      "Title: Learn Data Analytics\n",
      "Author: Fatih Alam\n",
      "Status: Available\n",
      "\n",
      "--- Library Management System ---\n",
      "1. Add Book\n",
      "2. View Books\n",
      "3. Borrow Book\n",
      "4. Return Book\n",
      "5. Exit\n"
     ]
    },
    {
     "name": "stdin",
     "output_type": "stream",
     "text": [
      "Enter your choice (1-5):  5\n"
     ]
    },
    {
     "name": "stdout",
     "output_type": "stream",
     "text": [
      "Exiting the Library Management System. Goodbye!\n"
     ]
    }
   ],
   "source": [
    "# Library Management System\n",
    "\n",
    "class Book:\n",
    "  def __init__(self, title, author):\n",
    "    self.title = title\n",
    "    self.author = author\n",
    "    self.is_borrowed = False\n",
    "\n",
    "  def display_info(self):\n",
    "    status = \"Available\" if not self.is_borrowed else \"Borrowed\"\n",
    "    print(f\"Title: {self.title}\")\n",
    "    print(f\"Author: {self.author}\")\n",
    "    print(f\"Status: {status}\")\n",
    "\n",
    "class Library:\n",
    "  def __init__(self):\n",
    "    self.books = []\n",
    "\n",
    "  def add_book(self, title, author):\n",
    "    new_book = Book(title, author)\n",
    "    self.books.append(new_book)\n",
    "    print(f\"Book '{title}' by {author} added to the library.\")\n",
    "\n",
    "  # View all books\n",
    "  def view_books(self):\n",
    "    if not self.books:\n",
    "      print(\"No books in the library.\")\n",
    "    else:\n",
    "      print(\"\\n--- Library Catalog ---\")\n",
    "      for book in self.books:\n",
    "        book.display_info()\n",
    "\n",
    "  # Borrow a book\n",
    "  def borrow_book(self, title):\n",
    "    for book in self.books:\n",
    "      if book.title == title and not book.is_borrowed:\n",
    "        book.is_borrowed = True\n",
    "        print(f\"Book '{title}' has been borrowed. Enjoy Reading\")\n",
    "        return\n",
    "    print(f\"Book '{title}' is not available for borrowing.\")\n",
    "\n",
    "\n",
    "  # Return a book\n",
    "  def return_book(self, title):\n",
    "    for book in self.books:\n",
    "      if book.title == title and book.is_borrowed:\n",
    "        book.is_borrowed = False\n",
    "        print(f\"Book '{title}' has been returned.\")\n",
    "        return\n",
    "    print(f\"Book '{title}' is not in the library.\")\n",
    "\n",
    "# Main Program\n",
    "library = Library()\n",
    "\n",
    "while True:\n",
    "  print(\"\\n--- Library Management System ---\")\n",
    "  print(\"1. Add Book\")\n",
    "  print(\"2. View Books\")\n",
    "  print(\"3. Borrow Book\")\n",
    "  print(\"4. Return Book\")\n",
    "  print(\"5. Exit\")\n",
    "\n",
    "  choice = input(\"Enter your choice (1-5): \").strip()\n",
    "\n",
    "  if choice == \"1\":\n",
    "    title = input(\"Enter book title: \").strip()\n",
    "    author = input(\"Enter author name: \").strip()\n",
    "    library.add_book(title, author)\n",
    "  elif choice == \"2\":\n",
    "    library.view_books()\n",
    "  elif choice == \"3\":\n",
    "    title = input(\"Enter book title to borrow: \").strip()\n",
    "    library.borrow_book(title)\n",
    "  elif choice == \"4\":\n",
    "    title = input(\"Enter book title to return: \").strip()\n",
    "    library.return_book(title)\n",
    "  elif choice == \"5\":\n",
    "    print(\"Exiting the Library Management System. Goodbye!\")\n",
    "    break\n",
    "  else:\n",
    "    print(\"Invalid choice. Please select a valid option (1-5).\")"
   ]
  }
 ],
 "metadata": {
  "kernelspec": {
   "display_name": "Python [conda env:base] *",
   "language": "python",
   "name": "conda-base-py"
  },
  "language_info": {
   "codemirror_mode": {
    "name": "ipython",
    "version": 3
   },
   "file_extension": ".py",
   "mimetype": "text/x-python",
   "name": "python",
   "nbconvert_exporter": "python",
   "pygments_lexer": "ipython3",
   "version": "3.12.7"
  }
 },
 "nbformat": 4,
 "nbformat_minor": 5
}
