{
 "cells": [
  {
   "cell_type": "markdown",
   "id": "139f782b-d458-4f3c-8ed0-b2d4065791e8",
   "metadata": {},
   "source": [
    "# ⚙️ Implementasi Simulator Suara Binatang Berbasis Objek dengan Polymorphism di Python"
   ]
  },
  {
   "cell_type": "markdown",
   "id": "d16726dd-2109-4d97-a65f-02763ad58778",
   "metadata": {},
   "source": [
    "Berikut adalah skrip Python yang mengimplementasikan simulator suara binatang menggunakan konsep kelas, objek, dan pewarisan:\n",
    "\n",
    "* **Kelas `Animal` (Kelas Dasar):** Mendefinisikan perilaku umum untuk semua binatang, dengan metode `make_sound()` yang menghasilkan suara generik.\n",
    "* **Kelas Turunan (`Dog`, `Cat`, `Cow`, `Duck`):** Mewarisi dari kelas `Animal` dan mengimplementasikan metode `make_sound()` spesifik untuk setiap jenis binatang.\n",
    "* **Kelas `AnimalSoundSimulator`:**\n",
    "    * Mengelola daftar objek `Animal`.\n",
    "    * Memiliki metode `add_animal()` untuk menambahkan objek binatang ke dalam simulator.\n",
    "    * Memiliki metode `make_all_sounds()` untuk memanggil metode `make_sound()` dari setiap binatang dalam daftar.\n",
    "* **Program Utama:**\n",
    "    * Membuat instance objek `AnimalSoundSimulator`.\n",
    "    * Menampilkan menu interaktif kepada pengguna untuk menambahkan berbagai jenis binatang dan memicu semua suara.\n",
    "    * Loop utama terus menampilkan menu hingga pengguna memilih untuk keluar.\n",
    "\n",
    "Jalankan sel kode di bawah untuk menghidupkan suara-suara binatang di komputermu!"
   ]
  },
  {
   "cell_type": "code",
   "execution_count": 1,
   "id": "e40848d4-2ab8-4c85-9d40-06da07fbd711",
   "metadata": {},
   "outputs": [
    {
     "name": "stdout",
     "output_type": "stream",
     "text": [
      "\n",
      "--- Animal Sound Simulator ---\n",
      "1. Add Dog\n",
      "2. Add Cat\n",
      "3. Add Cow\n",
      "4. Add Duck\n",
      "5. Make All Sounds\n",
      "6. Exit\n"
     ]
    },
    {
     "name": "stdin",
     "output_type": "stream",
     "text": [
      "Enter your choice (1-6):  1\n"
     ]
    },
    {
     "name": "stdout",
     "output_type": "stream",
     "text": [
      "Dog added to the simulator\n",
      "\n",
      "--- Animal Sound Simulator ---\n",
      "1. Add Dog\n",
      "2. Add Cat\n",
      "3. Add Cow\n",
      "4. Add Duck\n",
      "5. Make All Sounds\n",
      "6. Exit\n"
     ]
    },
    {
     "name": "stdin",
     "output_type": "stream",
     "text": [
      "Enter your choice (1-6):  2\n"
     ]
    },
    {
     "name": "stdout",
     "output_type": "stream",
     "text": [
      "Cat added to the simulator\n",
      "\n",
      "--- Animal Sound Simulator ---\n",
      "1. Add Dog\n",
      "2. Add Cat\n",
      "3. Add Cow\n",
      "4. Add Duck\n",
      "5. Make All Sounds\n",
      "6. Exit\n"
     ]
    },
    {
     "name": "stdin",
     "output_type": "stream",
     "text": [
      "Enter your choice (1-6):  3\n"
     ]
    },
    {
     "name": "stdout",
     "output_type": "stream",
     "text": [
      "Cow added to the simulator\n",
      "\n",
      "--- Animal Sound Simulator ---\n",
      "1. Add Dog\n",
      "2. Add Cat\n",
      "3. Add Cow\n",
      "4. Add Duck\n",
      "5. Make All Sounds\n",
      "6. Exit\n"
     ]
    },
    {
     "name": "stdin",
     "output_type": "stream",
     "text": [
      "Enter your choice (1-6):  5\n"
     ]
    },
    {
     "name": "stdout",
     "output_type": "stream",
     "text": [
      "\n",
      "--- Animal Sounds ---\n",
      "Woof! Woof!\n",
      "Meow! Meow!\n",
      "Moo! Moo!\n",
      "\n",
      "--- Animal Sound Simulator ---\n",
      "1. Add Dog\n",
      "2. Add Cat\n",
      "3. Add Cow\n",
      "4. Add Duck\n",
      "5. Make All Sounds\n",
      "6. Exit\n"
     ]
    },
    {
     "name": "stdin",
     "output_type": "stream",
     "text": [
      "Enter your choice (1-6):  6\n"
     ]
    },
    {
     "name": "stdout",
     "output_type": "stream",
     "text": [
      "Exiting the simulator. Goodbye!\n"
     ]
    }
   ],
   "source": [
    "# Animal Sound Simulator\n",
    "\n",
    "#Base Class\n",
    "class Animal:\n",
    "  def make_sound(self):\n",
    "    print(\"Some generic animal sound\")\n",
    "\n",
    "# Derived Classes\n",
    "class Dog(Animal):\n",
    "  def make_sound(self):\n",
    "    print(\"Woof! Woof!\")\n",
    "\n",
    "class Cat(Animal):\n",
    "  def make_sound(self):\n",
    "    print(\"Meow! Meow!\")\n",
    "\n",
    "class Cow(Animal):\n",
    "  def make_sound(self):\n",
    "    print(\"Moo! Moo!\")\n",
    "\n",
    "class Duck(Animal):\n",
    "  def make_sound(self):\n",
    "    print(\"Quack! Quack!\")\n",
    "\n",
    "# Simulator Class\n",
    "class AnimalSoundSimulator:\n",
    "  def __init__(self):\n",
    "    self.animals = []\n",
    "\n",
    "  def add_animal(self, animal):\n",
    "    if isinstance(animal, Animal):\n",
    "      self.animals.append(animal)\n",
    "      print(f\"{animal.__class__.__name__} added to the simulator\")\n",
    "    else:\n",
    "      print(\"Invalid animal type\")\n",
    "\n",
    "  def make_all_sounds(self):\n",
    "    if not self.animals:\n",
    "      print(\"No animals in the simulator\")\n",
    "    else:\n",
    "      print(\"\\n--- Animal Sounds ---\")\n",
    "      for animal in self.animals:\n",
    "        animal.make_sound()\n",
    "\n",
    "#Main Program\n",
    "simulator = AnimalSoundSimulator()\n",
    "\n",
    "while True:\n",
    "  print(\"\\n--- Animal Sound Simulator ---\")\n",
    "  print(\"1. Add Dog\")\n",
    "  print(\"2. Add Cat\")\n",
    "  print(\"3. Add Cow\")\n",
    "  print(\"4. Add Duck\")\n",
    "  print(\"5. Make All Sounds\")\n",
    "  print(\"6. Exit\")\n",
    "\n",
    "  choice = input(\"Enter your choice (1-6): \")\n",
    "\n",
    "  if choice == '1':\n",
    "    simulator.add_animal(Dog())\n",
    "  elif choice == '2':\n",
    "    simulator.add_animal(Cat())\n",
    "  elif choice == '3':\n",
    "    simulator.add_animal(Cow())\n",
    "  elif choice == '4':\n",
    "    simulator.add_animal(Duck())\n",
    "  elif choice == '5':\n",
    "    simulator.make_all_sounds()\n",
    "  elif choice == '6':\n",
    "    print(\"Exiting the simulator. Goodbye!\")\n",
    "    break\n",
    "  else:\n",
    "    print(\"Invalid choice. Please try again.\")"
   ]
  }
 ],
 "metadata": {
  "kernelspec": {
   "display_name": "Python [conda env:base] *",
   "language": "python",
   "name": "conda-base-py"
  },
  "language_info": {
   "codemirror_mode": {
    "name": "ipython",
    "version": 3
   },
   "file_extension": ".py",
   "mimetype": "text/x-python",
   "name": "python",
   "nbconvert_exporter": "python",
   "pygments_lexer": "ipython3",
   "version": "3.12.7"
  }
 },
 "nbformat": 4,
 "nbformat_minor": 5
}
