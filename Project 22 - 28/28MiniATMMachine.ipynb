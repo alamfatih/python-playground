{
 "cells": [
  {
   "cell_type": "markdown",
   "id": "c4313553-3733-4f0b-b222-aee93cea0d8e",
   "metadata": {},
   "source": [
    "# ⚙️ Implementasi Mesin ATM Mini Berbasis Objek dengan Python"
   ]
  },
  {
   "cell_type": "markdown",
   "id": "faa5396c-6610-4750-bf50-ad3622901bd5",
   "metadata": {},
   "source": [
    "Berikut adalah skrip Python yang mengimplementasikan simulator mesin ATM mini menggunakan konsep kelas dan objek:\n",
    "\n",
    "* **Kelas `BankAccount`:**\n",
    "    * Menginisialisasi objek rekening dengan nomor rekening, PIN (bersifat private), dan saldo.\n",
    "    * Memiliki metode `validate_pin()` untuk memverifikasi PIN.\n",
    "    * Memiliki metode `check_balance()` untuk menampilkan saldo.\n",
    "    * Memiliki metode `deposit()` untuk melakukan setoran uang.\n",
    "    * Memiliki metode `withdraw()` untuk melakukan penarikan uang (dengan validasi).\n",
    "    * Memiliki metode `change_pin()` untuk mengubah PIN (dengan validasi).\n",
    "* **Kelas `ATM`:**\n",
    "    * Mengelola dictionary `accounts` untuk menyimpan objek `BankAccount` dengan nomor rekening sebagai kunci.\n",
    "    * Memiliki metode `create_account()` untuk membuat rekening baru.\n",
    "    * Memiliki metode `authenticate_account()` untuk memverifikasi nomor rekening dan PIN.\n",
    "    * Memiliki metode `account_menu()` untuk menampilkan menu transaksi setelah autentikasi.\n",
    "    * Memiliki metode `main_menu()` sebagai titik masuk utama program.\n",
    "* **Program Utama:** Membuat instance objek `ATM` dan menjalankan metode `main_menu()` untuk memulai simulasi ATM.\n",
    "\n",
    "Jalankan sel kode di bawah untuk merasakan pengalaman bertransaksi di ATM virtual!"
   ]
  },
  {
   "cell_type": "code",
   "execution_count": 1,
   "id": "8b331d11-f65f-477a-9450-7c09336942e9",
   "metadata": {},
   "outputs": [
    {
     "name": "stdout",
     "output_type": "stream",
     "text": [
      "\n",
      "--- Welcome to Mini ATM Machine ---:\n",
      "1. Create Account\n",
      "2. Access Account\n",
      "3. Exit\n"
     ]
    },
    {
     "name": "stdin",
     "output_type": "stream",
     "text": [
      "Choose an option (1-3):  1\n",
      "Enter account number:  123456\n",
      "Set a 4-digit PIN:  2222\n"
     ]
    },
    {
     "name": "stdout",
     "output_type": "stream",
     "text": [
      "Account created successfully.\n",
      "\n",
      "--- Welcome to Mini ATM Machine ---:\n",
      "1. Create Account\n",
      "2. Access Account\n",
      "3. Exit\n"
     ]
    },
    {
     "name": "stdin",
     "output_type": "stream",
     "text": [
      "Choose an option (1-3):  2\n",
      "Enter account number:  123456\n",
      "Enter PIN:  2222\n"
     ]
    },
    {
     "name": "stdout",
     "output_type": "stream",
     "text": [
      "Authentication Successful.\n",
      "\n",
      "--- ATM Menu ---:\n",
      "1. Check Balance\n",
      "2. Deposit\n",
      "3. Withdraw\n",
      "4. Change PIN\n",
      "5. Logout\n"
     ]
    },
    {
     "name": "stdin",
     "output_type": "stream",
     "text": [
      "Enter your choice(1-5):  2\n",
      "Enter deposit amount:  10000\n"
     ]
    },
    {
     "name": "stdout",
     "output_type": "stream",
     "text": [
      "Deposited 10000.0. New Balance: 10000.0\n",
      "\n",
      "--- ATM Menu ---:\n",
      "1. Check Balance\n",
      "2. Deposit\n",
      "3. Withdraw\n",
      "4. Change PIN\n",
      "5. Logout\n"
     ]
    },
    {
     "name": "stdin",
     "output_type": "stream",
     "text": [
      "Enter your choice(1-5):  1\n"
     ]
    },
    {
     "name": "stdout",
     "output_type": "stream",
     "text": [
      "Current Balance: 10000.0\n",
      "\n",
      "--- ATM Menu ---:\n",
      "1. Check Balance\n",
      "2. Deposit\n",
      "3. Withdraw\n",
      "4. Change PIN\n",
      "5. Logout\n"
     ]
    },
    {
     "name": "stdin",
     "output_type": "stream",
     "text": [
      "Enter your choice(1-5):  5\n"
     ]
    },
    {
     "name": "stdout",
     "output_type": "stream",
     "text": [
      "Logging out. Thank you for using out ATM.\n",
      "\n",
      "--- Welcome to Mini ATM Machine ---:\n",
      "1. Create Account\n",
      "2. Access Account\n",
      "3. Exit\n"
     ]
    },
    {
     "name": "stdin",
     "output_type": "stream",
     "text": [
      "Choose an option (1-3):  3\n"
     ]
    },
    {
     "name": "stdout",
     "output_type": "stream",
     "text": [
      "Thank you for using Mini ATM Machine. Goodbye!\n"
     ]
    }
   ],
   "source": [
    "# Mini ATM Machine\n",
    "\n",
    "class BankAccount:\n",
    "    def __init__(self, account_number, pin, balance=0):\n",
    "        self.account_number = account_number\n",
    "        self.__pin = pin\n",
    "        self.__balance = balance\n",
    "\n",
    "    # Validate Pin\n",
    "    def validate_pin(self, entered_pin):\n",
    "        return entered_pin == self.__pin\n",
    "\n",
    "    # Check Balance\n",
    "    def check_balance(self):\n",
    "        print(f\"Current Balance: {self.__balance}\")\n",
    "\n",
    "    # Deposit Money\n",
    "    def deposit(self, amount):\n",
    "        if amount > 0:\n",
    "            self.__balance += amount\n",
    "            print(f\"Deposited {amount}. New Balance: {self.__balance}\")\n",
    "        else:\n",
    "            print(\"Invalid deposit amount.\")\n",
    "\n",
    "    #Withdraw Money\n",
    "    def withdraw(self, amount):\n",
    "        if amount > self.__balance:\n",
    "            print(\"Insufficient funds.\")\n",
    "        elif amount > 0:\n",
    "            self.__balance -= amount\n",
    "            print(f\"Withdrew {amount}. New Balance: {self.__balance}\")\n",
    "        else:\n",
    "            print(\"Invalid withdrawal amount\")\n",
    "\n",
    "    # Change Pin\n",
    "    def change_pin(self, old_pin, new_pin):\n",
    "        if self.validate_pin(old_pin) and len(new_pin) == 4 and new_pin.isdigit():\n",
    "            self.__pin = new_pin\n",
    "            print(\"PIN changed successfully.\")\n",
    "        else:\n",
    "            print(\"Failed to change Pin. Ensure the old Pin si correct and the new PIN is 4 digits\")\n",
    "\n",
    "class ATM:\n",
    "    def __init__(self):\n",
    "        self.accounts = {}\n",
    "\n",
    "    # Create Account\n",
    "    def create_account(self):\n",
    "        account_number = input(\"Enter account number: \")\n",
    "        pin = input(\"Set a 4-digit PIN: \")\n",
    "        if len(pin) == 4 and pin.isdigit():\n",
    "            self.accounts[account_number] = BankAccount(account_number, pin)\n",
    "            print(\"Account created successfully.\")\n",
    "        else:\n",
    "            print(\"Invalid PIN. PIN must be 4 digits.\")\n",
    "\n",
    "    #Authenticate Account\n",
    "    def authenticate_account(self):\n",
    "        account_number = input(\"Enter account number: \")\n",
    "        pin = input(\"Enter PIN: \")\n",
    "\n",
    "        account = self.accounts.get(account_number)\n",
    "        if account and account.validate_pin(pin):\n",
    "            print(\"Authentication Successful.\")\n",
    "            self.account_menu(account)\n",
    "        else:\n",
    "            print(\"Invalid account number or PIN.\")\n",
    "\n",
    "    # Account Menu\n",
    "    def account_menu(self, account):\n",
    "        while True:\n",
    "            print(\"\\n--- ATM Menu ---:\")\n",
    "            print(\"1. Check Balance\")\n",
    "            print(\"2. Deposit\")\n",
    "            print(\"3. Withdraw\")\n",
    "            print(\"4. Change PIN\")\n",
    "            print(\"5. Logout\")\n",
    "\n",
    "            choice = input(\"Enter your choice(1-5): \")\n",
    "\n",
    "            if choice == '1':\n",
    "                account.check_balance()\n",
    "            elif choice == '2':\n",
    "                amount = float(input(\"Enter deposit amount: \"))\n",
    "                account.deposit(amount)\n",
    "            elif choice == '3':\n",
    "                amount = float(input(\"Enter withdrawal amount: \"))\n",
    "                account.withdraw(amount)\n",
    "            elif choice == '4':\n",
    "                old_pin = input(\"Enter old PIN: \")\n",
    "                new_pin = input(\"Enter new PIN: \")\n",
    "                account.change_pin(old_pin, new_pin)\n",
    "            elif choice == '5':\n",
    "                print(\"Logging out. Thank you for using out ATM.\")\n",
    "                break\n",
    "            else:\n",
    "                print(\"Invalid choice. Please select a valid option.\")\n",
    "\n",
    "    # Main Men\n",
    "    def main_menu(self):\n",
    "        while True:\n",
    "            print(\"\\n--- Welcome to Mini ATM Machine ---:\")\n",
    "            print(\"1. Create Account\")\n",
    "            print(\"2. Access Account\")\n",
    "            print(\"3. Exit\")\n",
    "            choice = input(\"Choose an option (1-3): \")\n",
    "\n",
    "            if choice == '1':\n",
    "                self.create_account()\n",
    "            elif choice == '2':\n",
    "                self.authenticate_account()\n",
    "            elif choice == '3':\n",
    "                print(\"Thank you for using Mini ATM Machine. Goodbye!\")\n",
    "                break\n",
    "            else:\n",
    "                print(\"Invalid Choice. Please try again\")\n",
    "\n",
    "\n",
    "# Start the ATM System\n",
    "if __name__ == \"__main__\":\n",
    "  atm = ATM()\n",
    "  atm.main_menu()"
   ]
  }
 ],
 "metadata": {
  "kernelspec": {
   "display_name": "Python [conda env:base] *",
   "language": "python",
   "name": "conda-base-py"
  },
  "language_info": {
   "codemirror_mode": {
    "name": "ipython",
    "version": 3
   },
   "file_extension": ".py",
   "mimetype": "text/x-python",
   "name": "python",
   "nbconvert_exporter": "python",
   "pygments_lexer": "ipython3",
   "version": "3.12.7"
  }
 },
 "nbformat": 4,
 "nbformat_minor": 5
}
