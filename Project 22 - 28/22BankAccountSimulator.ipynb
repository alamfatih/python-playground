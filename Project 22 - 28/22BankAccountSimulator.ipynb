{
 "cells": [
  {
   "cell_type": "markdown",
   "id": "dd23b493-8773-4522-bfef-7f600fe153b2",
   "metadata": {},
   "source": [
    "# ⚙️ Implementasi Simulator Rekening Bank Berbasis Objek dengan Python"
   ]
  },
  {
   "cell_type": "markdown",
   "id": "3f9b6979-68fa-4fcf-998b-5f95ce8aef46",
   "metadata": {},
   "source": [
    "Berikut adalah skrip Python yang mengimplementasikan simulator rekening bank menggunakan konsep kelas dan objek:\n",
    "\n",
    "* **Kelas `BankAccount`:**\n",
    "    * Menginisialisasi objek rekening dengan nama pemilik dan saldo awal.\n",
    "    * Memiliki metode `deposit()` untuk menambahkan uang ke saldo.\n",
    "    * Memiliki metode `withdraw()` untuk menarik uang dari saldo (dengan validasi).\n",
    "    * Memiliki metode `show_details()` untuk menampilkan informasi rekening.\n",
    "* **Program Utama:**\n",
    "    * Menggunakan dictionary `accounts` untuk menyimpan objek `BankAccount` dengan nama pemilik sebagai kunci.\n",
    "    * Menyediakan menu utama untuk membuat rekening baru dan mengakses rekening yang sudah ada.\n",
    "    * Fungsi `create_account()` membuat objek `BankAccount` baru dan menyimpannya dalam dictionary `accounts`.\n",
    "    * Fungsi `access_account()` memungkinkan pengguna berinteraksi dengan rekening tertentu melalui menu deposit, penarikan, dan melihat detail.\n",
    "    * Loop utama terus menampilkan menu hingga pengguna memilih untuk keluar.\n",
    "\n",
    "Jalankan sel kode di bawah untuk memulai simulasi perbankan!"
   ]
  },
  {
   "cell_type": "code",
   "execution_count": 1,
   "id": "a43ee635-f1e0-4b16-a95a-6b80733ed7c7",
   "metadata": {},
   "outputs": [
    {
     "name": "stdout",
     "output_type": "stream",
     "text": [
      "\n",
      "--- Bank Account Simulator ---\n",
      "1. Create Account\n",
      "2. Access Account\n",
      "3. Exit\n"
     ]
    },
    {
     "name": "stdin",
     "output_type": "stream",
     "text": [
      "Enter your choice(1-3):  1\n"
     ]
    },
    {
     "name": "stdout",
     "output_type": "stream",
     "text": [
      "{}\n"
     ]
    },
    {
     "name": "stdin",
     "output_type": "stream",
     "text": [
      "Enter account holder's name:  Nur Fatih Alam\n",
      "Enter initial Deposit Amount:  1000\n"
     ]
    },
    {
     "name": "stdout",
     "output_type": "stream",
     "text": [
      "Account created successfully!\n",
      "\n",
      "--- Bank Account Simulator ---\n",
      "1. Create Account\n",
      "2. Access Account\n",
      "3. Exit\n"
     ]
    },
    {
     "name": "stdin",
     "output_type": "stream",
     "text": [
      "Enter your choice(1-3):  2\n"
     ]
    },
    {
     "name": "stdout",
     "output_type": "stream",
     "text": [
      "{'Nur Fatih Alam': <__main__.BankAccount object at 0x0000016A5DB9B830>}\n"
     ]
    },
    {
     "name": "stdin",
     "output_type": "stream",
     "text": [
      "Enter your name:  3\n"
     ]
    },
    {
     "name": "stdout",
     "output_type": "stream",
     "text": [
      "Account not found. Please create an account first.\n",
      "\n",
      "--- Bank Account Simulator ---\n",
      "1. Create Account\n",
      "2. Access Account\n",
      "3. Exit\n"
     ]
    },
    {
     "name": "stdin",
     "output_type": "stream",
     "text": [
      "Enter your choice(1-3):  2\n"
     ]
    },
    {
     "name": "stdout",
     "output_type": "stream",
     "text": [
      "{'Nur Fatih Alam': <__main__.BankAccount object at 0x0000016A5DB9B830>}\n"
     ]
    },
    {
     "name": "stdin",
     "output_type": "stream",
     "text": [
      "Enter your name:  Nur Fatih Alam\n"
     ]
    },
    {
     "name": "stdout",
     "output_type": "stream",
     "text": [
      "\n",
      "--- Account Menu ---\n",
      "1. Deposit\n",
      "2. Withdraw\n",
      "3. Show Details\n",
      "4. Exit\n"
     ]
    },
    {
     "name": "stdin",
     "output_type": "stream",
     "text": [
      "Enter your choice(1-4):  1\n",
      "Enter deposit amount:  10000\n"
     ]
    },
    {
     "name": "stdout",
     "output_type": "stream",
     "text": [
      "Deposited $10000.0. New balance: $11000.0\n",
      "\n",
      "--- Account Menu ---\n",
      "1. Deposit\n",
      "2. Withdraw\n",
      "3. Show Details\n",
      "4. Exit\n"
     ]
    },
    {
     "name": "stdin",
     "output_type": "stream",
     "text": [
      "Enter your choice(1-4):  3\n"
     ]
    },
    {
     "name": "stdout",
     "output_type": "stream",
     "text": [
      "\n",
      "--- Account Details ---\n",
      "Account Holder: Nur Fatih Alam\n",
      "Account Balance: $11000.0\n",
      "\n",
      "--- Account Menu ---\n",
      "1. Deposit\n",
      "2. Withdraw\n",
      "3. Show Details\n",
      "4. Exit\n"
     ]
    },
    {
     "name": "stdin",
     "output_type": "stream",
     "text": [
      "Enter your choice(1-4):  4\n"
     ]
    },
    {
     "name": "stdout",
     "output_type": "stream",
     "text": [
      "Exiting account menu.\n",
      "\n",
      "--- Bank Account Simulator ---\n",
      "1. Create Account\n",
      "2. Access Account\n",
      "3. Exit\n"
     ]
    },
    {
     "name": "stdin",
     "output_type": "stream",
     "text": [
      "Enter your choice(1-3):  3\n"
     ]
    },
    {
     "name": "stdout",
     "output_type": "stream",
     "text": [
      "{'Nur Fatih Alam': <__main__.BankAccount object at 0x0000016A5DB9B830>}\n",
      "Exiting the program. Goodbye!\n"
     ]
    }
   ],
   "source": [
    "# Bank Account Simulator\n",
    "\n",
    "class BankAccount:\n",
    "  def __init__(self, account_holder, initial_balance=0):\n",
    "    self.account_holder = account_holder\n",
    "    self.balance = initial_balance\n",
    "\n",
    "  #Deposit Money\n",
    "  def deposit(self, amount):\n",
    "    if amount > 0:\n",
    "      self.balance += amount\n",
    "      print(f\"Deposited ${amount}. New balance: ${self.balance}\")\n",
    "    else:\n",
    "      print(\"Invalid deposit amount. Amount must be greater than 0.\")\n",
    "\n",
    "  #Withdraw Money\n",
    "  def withdraw(self, amount):\n",
    "    if amount > 0 and amount <= self.balance:\n",
    "      self.balance -= amount\n",
    "      print(f\"Withdrew ${amount}. New balance: ${self.balance}\")\n",
    "    else:\n",
    "      print(\"Invalid withdrawal amount or insufficient funds.\")\n",
    "\n",
    "  # Show Account Details\n",
    "  def show_details(self):\n",
    "    print(\"\\n--- Account Details ---\")\n",
    "    print(f\"Account Holder: {self.account_holder}\")\n",
    "    print(f\"Account Balance: ${self.balance}\")\n",
    "\n",
    "\n",
    "# Main Program\n",
    "accounts = {}\n",
    "\n",
    "def create_account():\n",
    "  name = input(\"Enter account holder's name: \").strip()\n",
    "  initial_deposit = float(input(\"Enter initial Deposit Amount: \"))\n",
    "  account = BankAccount(name, initial_deposit)\n",
    "  accounts[name] = account\n",
    "  print(\"Account created successfully!\")\n",
    "\n",
    "def access_account():\n",
    "  name = input(\"Enter your name: \").strip()\n",
    "  if name in accounts:\n",
    "    account = accounts[name]\n",
    "    while True:\n",
    "      print(\"\\n--- Account Menu ---\")\n",
    "      print(\"1. Deposit\")\n",
    "      print(\"2. Withdraw\")\n",
    "      print(\"3. Show Details\")\n",
    "      print(\"4. Exit\")\n",
    "      choice = input(\"Enter your choice(1-4): \")\n",
    "\n",
    "      if choice == '1':\n",
    "        amount = float(input(\"Enter deposit amount: \"))\n",
    "        account.deposit(amount)\n",
    "      elif choice == '2':\n",
    "        amount = float(input(\"Enter withdrawal amount: \"))\n",
    "        account.withdraw(amount)\n",
    "      elif choice == '3':\n",
    "        account.show_details()\n",
    "      elif choice == '4':\n",
    "        print(\"Exiting account menu.\")\n",
    "        break\n",
    "      else:\n",
    "        print(\"Invalid choice. Please select a valid option.\")\n",
    "  else:\n",
    "    print(\"Account not found. Please create an account first.\")\n",
    "\n",
    "# Main Menu\n",
    "while True:\n",
    "  print(\"\\n--- Bank Account Simulator ---\")\n",
    "  print(\"1. Create Account\")\n",
    "  print(\"2. Access Account\")\n",
    "  print(\"3. Exit\")\n",
    "  choice = input(\"Enter your choice(1-3): \")\n",
    "\n",
    "  print(accounts)\n",
    "\n",
    "  if choice == '1':\n",
    "    create_account()\n",
    "  elif choice == '2':\n",
    "    access_account()\n",
    "  elif choice == '3':\n",
    "    print(\"Exiting the program. Goodbye!\")\n",
    "    break\n",
    "  else:\n",
    "    print(\"Invalid choice. Please select a valid option.\")"
   ]
  }
 ],
 "metadata": {
  "kernelspec": {
   "display_name": "Python [conda env:base] *",
   "language": "python",
   "name": "conda-base-py"
  },
  "language_info": {
   "codemirror_mode": {
    "name": "ipython",
    "version": 3
   },
   "file_extension": ".py",
   "mimetype": "text/x-python",
   "name": "python",
   "nbconvert_exporter": "python",
   "pygments_lexer": "ipython3",
   "version": "3.12.7"
  }
 },
 "nbformat": 4,
 "nbformat_minor": 5
}
