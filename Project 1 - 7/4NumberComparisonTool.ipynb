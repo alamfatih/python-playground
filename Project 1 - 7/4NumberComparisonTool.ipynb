{
 "cells": [
  {
   "cell_type": "markdown",
   "id": "aa9df35c-34ac-4645-9226-1a4201d087a3",
   "metadata": {},
   "source": [
    "# 🔎 Implementasi Alat Perbandingan Angka dengan Python"
   ]
  },
  {
   "cell_type": "markdown",
   "id": "daf9fc75-424e-4421-8724-ccb50e382f1d",
   "metadata": {},
   "source": [
    "Berikut adalah skrip Python yang membandingkan dua angka:\n",
    "\n",
    "* **Langkah 1: Input Pengguna:** Program meminta pengguna untuk memasukkan dua buah bilangan floating-point.\n",
    "* **Langkah 2: Perbandingan Nilai:** Menggunakan struktur `if-elif-else`, program membandingkan kedua angka untuk menentukan apakah mereka sama, atau mana yang lebih besar. Hasil perbandingan kemudian dicetak.\n",
    "* **Langkah 3: Pengecekan Nol:** Program selanjutnya menggunakan operator logika `or` untuk memeriksa apakah salah satu atau kedua angka tersebut bernilai nol. Hasil pengecekan ini juga ditampilkan.\n",
    "\n",
    "Jalankan sel kode di bawah untuk mencoba alat perbandingan ini!"
   ]
  },
  {
   "cell_type": "code",
   "execution_count": 1,
   "id": "5754703a-0d22-4545-bcd6-acc7bffcc71a",
   "metadata": {},
   "outputs": [
    {
     "name": "stdin",
     "output_type": "stream",
     "text": [
      "Enter the first number:  8\n",
      "Enter the second number:  11\n"
     ]
    },
    {
     "name": "stdout",
     "output_type": "stream",
     "text": [
      "\n",
      "--- Comparison Results ----\n",
      "11.0 is greater than 8.0\n",
      "\n",
      "Both numbers are non-zero.\n"
     ]
    }
   ],
   "source": [
    "# Number Comparison Tool\n",
    "\n",
    "# Step 1: Get user input for two numbers\n",
    "num1 = float(input(\"Enter the first number: \"))\n",
    "num2 = float(input(\"Enter the second number: \"))\n",
    "\n",
    "# Step 2: Compare the numbers\n",
    "print(\"\\n--- Comparison Results ----\")\n",
    "\n",
    "if num1 == num2:\n",
    "    print(f\"Both numbers are equal: {num1}\")\n",
    "elif num1 > num2:\n",
    "    print(f\"{num1} is greater than {num2}\")\n",
    "else:\n",
    "    print(f\"{num2} is greater than {num1}\")\n",
    "\n",
    "# Step 3: Check if any number is zero\n",
    "if num1 == 0 or num2 == 0:\n",
    "    print(\"\\nAt least one number is zero.\")\n",
    "else:\n",
    "    print(\"\\nBoth numbers are non-zero.\")"
   ]
  }
 ],
 "metadata": {
  "kernelspec": {
   "display_name": "Python [conda env:base] *",
   "language": "python",
   "name": "conda-base-py"
  },
  "language_info": {
   "codemirror_mode": {
    "name": "ipython",
    "version": 3
   },
   "file_extension": ".py",
   "mimetype": "text/x-python",
   "name": "python",
   "nbconvert_exporter": "python",
   "pygments_lexer": "ipython3",
   "version": "3.12.7"
  }
 },
 "nbformat": 4,
 "nbformat_minor": 5
}
