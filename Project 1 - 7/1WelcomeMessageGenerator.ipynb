{
 "cells": [
  {
   "cell_type": "markdown",
   "id": "bc5e8727-7165-4680-93cf-1c9719184413",
   "metadata": {},
   "source": [
    "# ⚙️ Implementasi Generator Pesan Selamat Datang dengan Input Pengguna"
   ]
  },
  {
   "cell_type": "markdown",
   "id": "71d5344f-dd17-45e7-8831-2e9b10d37e56",
   "metadata": {},
   "source": [
    "Berikut adalah skrip Python yang membuat pesan selamat datang khusus:\n",
    "\n",
    "* Program akan menggunakan fungsi `input()` untuk meminta pengguna memasukkan nama mereka.\n",
    "* Kemudian, fungsi `input()` kembali digunakan untuk menanyakan hobi favorit pengguna.\n",
    "* Sebuah pesan selamat datang yang dipersonalisasi akan dibuat menggunakan f-string, menggabungkan nama dan hobi yang telah diinput.\n",
    "* Pesan tersebut kemudian akan dicetak ke layar dengan format yang rapi.\n",
    "\n",
    "Jalankan sel kode di bawah untuk melihat bagaimana interaksi pengguna dan pembuatan pesan bekerja!"
   ]
  },
  {
   "cell_type": "code",
   "execution_count": 1,
   "id": "16f8402b-e0d5-4994-8b8a-a3814e46f30f",
   "metadata": {},
   "outputs": [
    {
     "name": "stdin",
     "output_type": "stream",
     "text": [
      "What's your name?  Nur Fatih Alam\n",
      "What's your favorite hobby?  Photography\n"
     ]
    },
    {
     "name": "stdout",
     "output_type": "stream",
     "text": [
      "\n",
      "--- Welcome Message ---\n",
      "Hello, Nur Fatih Alam! 👋\n",
      "Welcome to the world of Python Programming.\n",
      "It's great to know that you love Photography.\n",
      "Get ready to build something amazing today.\n"
     ]
    }
   ],
   "source": [
    "# Welcome Message Generator\n",
    "\n",
    "# Step 1: Ask for user details\n",
    "name = input(\"What's your name? \")\n",
    "hobby = input(\"What's your favorite hobby? \")\n",
    "\n",
    "# Step 2: Generate a personalized welcome message\n",
    "print(\"\\n--- Welcome Message ---\")\n",
    "print(f\"Hello, {name}! 👋\")\n",
    "print(f\"Welcome to the world of Python Programming.\")\n",
    "print(f\"It's great to know that you love {hobby}.\")\n",
    "print(f\"Get ready to build something amazing today.\")"
   ]
  }
 ],
 "metadata": {
  "kernelspec": {
   "display_name": "Python [conda env:base] *",
   "language": "python",
   "name": "conda-base-py"
  },
  "language_info": {
   "codemirror_mode": {
    "name": "ipython",
    "version": 3
   },
   "file_extension": ".py",
   "mimetype": "text/x-python",
   "name": "python",
   "nbconvert_exporter": "python",
   "pygments_lexer": "ipython3",
   "version": "3.12.7"
  }
 },
 "nbformat": 4,
 "nbformat_minor": 5
}
