{
 "cells": [
  {
   "cell_type": "markdown",
   "id": "cd849b5f-7388-4c9d-be8a-4f3dec54544b",
   "metadata": {},
   "source": [
    "# ⚙️ Implementasi Kalkulator Aritmatika Sederhana dengan Python"
   ]
  },
  {
   "cell_type": "markdown",
   "id": "cea861f7-41de-497b-89e0-f685f0031d18",
   "metadata": {},
   "source": [
    "Berikut adalah skrip Python yang melakukan operasi aritmatika dasar:\n",
    "\n",
    "* **Langkah 1: Input Pengguna:** Program meminta pengguna untuk memasukkan dua buah bilangan floating-point.\n",
    "* **Langkah 2: Operasi Aritmatika:** Program kemudian melakukan operasi penjumlahan (`+`), pengurangan (`-`), perkalian (`*`), dan pembagian (`/`) pada kedua bilangan tersebut. Pencegahan pembagian oleh nol juga diimplementasikan.\n",
    "* **Langkah 3: Output Hasil:** Hasil dari setiap operasi aritmatika ditampilkan dengan format yang mudah dibaca.\n",
    "\n",
    "Jalankan sel kode di bawah untuk menggunakan kalkulator ini!"
   ]
  },
  {
   "cell_type": "code",
   "execution_count": 2,
   "id": "13c8f6b5-e670-4204-9cd6-98a695ce564a",
   "metadata": {},
   "outputs": [
    {
     "name": "stdin",
     "output_type": "stream",
     "text": [
      "Enter the first number:  8\n",
      "Enter the second number:  11\n"
     ]
    },
    {
     "name": "stdout",
     "output_type": "stream",
     "text": [
      "\n",
      "--- Calculator Results ----\n",
      "Addition:8.0 + 11.0 = 19.0\n",
      "Subtraction:8.0 - 11.0 =  -3.0\n",
      "Multiplication:8.0 x 11.0 =  88.0\n",
      "Division:8.0 / 11.0 =  0.7272727272727273\n"
     ]
    }
   ],
   "source": [
    "# Simple Calculator\n",
    "\n",
    "# Step 1: Get user input for two numbers\n",
    "number1 = float(input(\"Enter the first number: \"))\n",
    "number2 = float(input(\"Enter the second number: \"))\n",
    "\n",
    "# Step 2: Perform arithmetic operation\n",
    "addition = number1 + number2\n",
    "subtraction = number1 - number2\n",
    "multiplication = number1 * number2\n",
    "division = number1 / number2 if number2 != 0 else \"Cannot divide by zero\"\n",
    "\n",
    "# Step 3: Display the results\n",
    "print(\"\\n--- Calculator Results ----\")\n",
    "print(f\"Addition:{number1} + {number2} = {addition}\")\n",
    "print(f\"Subtraction:{number1} - {number2} =  {subtraction}\")\n",
    "print(f\"Multiplication:{number1} x {number2} =  {multiplication}\")\n",
    "print(f\"Division:{number1} / {number2} =  {division}\")"
   ]
  }
 ],
 "metadata": {
  "kernelspec": {
   "display_name": "Python [conda env:base] *",
   "language": "python",
   "name": "conda-base-py"
  },
  "language_info": {
   "codemirror_mode": {
    "name": "ipython",
    "version": 3
   },
   "file_extension": ".py",
   "mimetype": "text/x-python",
   "name": "python",
   "nbconvert_exporter": "python",
   "pygments_lexer": "ipython3",
   "version": "3.12.7"
  }
 },
 "nbformat": 4,
 "nbformat_minor": 5
}
