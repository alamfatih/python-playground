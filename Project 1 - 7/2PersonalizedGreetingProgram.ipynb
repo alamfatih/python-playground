{
 "cells": [
  {
   "cell_type": "markdown",
   "id": "766f4b8f-fea3-4092-93ce-dbf24b4c3b92",
   "metadata": {},
   "source": [
    "# 🐍 Implementasi Program Sapaan Personal dengan Input Pengguna"
   ]
  },
  {
   "cell_type": "markdown",
   "id": "83a7bc17-a983-45f4-844f-828bc5718836",
   "metadata": {},
   "source": [
    "Berikut adalah skrip Python yang membuat sapaan yang dipersonalisasi:\n",
    "\n",
    "* Program menggunakan fungsi `input()` untuk menanyakan nama, usia (yang kemudian diubah menjadi integer), dan warna favorit pengguna.\n",
    "* Sebuah pesan sambutan khusus dibuat menggunakan f-string, menggabungkan informasi yang telah diinput.\n",
    "* Pesan selamat datang yang personal kemudian dicetak ke layar, menandakan awal perjalanan pengguna dalam Python.\n",
    "\n",
    "Jalankan sel kode di bawah untuk melihat bagaimana interaksi pengguna dan pembuatan pesan bekerja!"
   ]
  },
  {
   "cell_type": "code",
   "execution_count": 2,
   "id": "e5f6c47f-12b0-4a0b-a5d0-22a69a468519",
   "metadata": {},
   "outputs": [
    {
     "name": "stdin",
     "output_type": "stream",
     "text": [
      "What is your name?  Nur Fatih Alam\n",
      "How old are you?  25\n",
      "What is your favorite color?  Blue\n"
     ]
    },
    {
     "name": "stdout",
     "output_type": "stream",
     "text": [
      "\n",
      "---- Personalized Greeting ----\n",
      "Hello, Nur Fatih Alam! 👋\n",
      "You are 25 years old and Blue is a beautiful color!\n",
      "You're now ready to start your Python adventure 🚀🐍\n"
     ]
    }
   ],
   "source": [
    "# Personalized Greeting Program\n",
    "\n",
    "# Step 1: Ask for user details\n",
    "name = input(\"What is your name? \")\n",
    "age = int(input(\"How old are you? \"))\n",
    "color = input(\"What is your favorite color? \")\n",
    "\n",
    "# Step 2: Generate a personalized greeting message\n",
    "print(\"\\n---- Personalized Greeting ----\")\n",
    "print(f\"Hello, {name}! 👋\")\n",
    "print(f\"You are {age} years old and {color} is a beautiful color!\")\n",
    "print(\"You're now ready to start your Python adventure 🚀🐍\")"
   ]
  }
 ],
 "metadata": {
  "kernelspec": {
   "display_name": "Python [conda env:base] *",
   "language": "python",
   "name": "conda-base-py"
  },
  "language_info": {
   "codemirror_mode": {
    "name": "ipython",
    "version": 3
   },
   "file_extension": ".py",
   "mimetype": "text/x-python",
   "name": "python",
   "nbconvert_exporter": "python",
   "pygments_lexer": "ipython3",
   "version": "3.12.7"
  }
 },
 "nbformat": 4,
 "nbformat_minor": 5
}
