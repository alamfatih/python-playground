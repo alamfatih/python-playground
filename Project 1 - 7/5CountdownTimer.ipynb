{
 "cells": [
  {
   "cell_type": "markdown",
   "id": "a1fac63d-c15d-4abb-afe8-57784703a1fc",
   "metadata": {},
   "source": [
    "# ⏱️ Implementasi Penghitung Mundur dengan Modul `time` di Python"
   ]
  },
  {
   "cell_type": "markdown",
   "id": "3f2008a6-449e-4612-9b76-d657cca765d9",
   "metadata": {},
   "source": [
    "Berikut adalah skrip Python yang melakukan hitung mundur:\n",
    "\n",
    "* **Import Modul `time`:** Modul `time` digunakan untuk memberikan jeda waktu (delay) antara setiap angka dalam hitungan mundur.\n",
    "* **Input Awal:** Program meminta pengguna untuk memasukkan bilangan bulat sebagai titik awal hitungan mundur.\n",
    "* **Loop `while`:** Sebuah loop `while` akan terus berjalan selama nilai `start` lebih besar dari 0.\n",
    "* **Menampilkan Angka:** Di dalam loop, nilai `start` saat ini akan dicetak.\n",
    "* **Jeda Waktu:** Fungsi `time.sleep(1)` akan menghentikan eksekusi program selama 1 detik.\n",
    "* **Pengurangan:** Nilai `start` akan dikurangi 1 pada setiap iterasi loop.\n",
    "* **Pesan Akhir:** Setelah loop selesai (ketika `start` menjadi 0), pesan \"Countdown Complete!\" akan ditampilkan.\n",
    "\n",
    "Jalankan sel kode di bawah untuk memulai hitungan mundur!"
   ]
  },
  {
   "cell_type": "code",
   "execution_count": 1,
   "id": "3afbefd1-ca51-4e3e-9f35-e4feaca77c16",
   "metadata": {},
   "outputs": [
    {
     "name": "stdin",
     "output_type": "stream",
     "text": [
      "Enter the number to start the countdown from:  8\n"
     ]
    },
    {
     "name": "stdout",
     "output_type": "stream",
     "text": [
      "\n",
      "--- Countdown Begins ---\n",
      "8\n",
      "7\n",
      "6\n",
      "5\n",
      "4\n",
      "3\n",
      "2\n",
      "1\n",
      "Countdown Complete!\n"
     ]
    }
   ],
   "source": [
    "# Countdown Timer\n",
    "\n",
    "import time\n",
    "\n",
    "# Step 1: Get user input for countdown start\n",
    "start = int(input(\"Enter the number to start the countdown from: \"))\n",
    "\n",
    "# Step 2: Countdown using a while loop\n",
    "print(\"\\n--- Countdown Begins ---\")\n",
    "while start > 0:\n",
    "  print(start)\n",
    "  time.sleep(1)\n",
    "  start -= 1\n",
    "\n",
    "# Step 3: Print final message\n",
    "print(\"Countdown Complete!\")"
   ]
  }
 ],
 "metadata": {
  "kernelspec": {
   "display_name": "Python 3 (ipykernel)",
   "language": "python",
   "name": "python3"
  },
  "language_info": {
   "codemirror_mode": {
    "name": "ipython",
    "version": 3
   },
   "file_extension": ".py",
   "mimetype": "text/x-python",
   "name": "python",
   "nbconvert_exporter": "python",
   "pygments_lexer": "ipython3",
   "version": "3.12.7"
  }
 },
 "nbformat": 4,
 "nbformat_minor": 5
}
