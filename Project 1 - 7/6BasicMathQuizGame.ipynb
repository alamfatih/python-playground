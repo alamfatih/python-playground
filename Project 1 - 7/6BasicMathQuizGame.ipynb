{
 "cells": [
  {
   "cell_type": "markdown",
   "id": "3eec699a-9581-4593-be04-56b4dd187ecc",
   "metadata": {},
   "source": [
    "# 🔢 Implementasi Game Kuis Matematika Dasar dengan Python"
   ]
  },
  {
   "cell_type": "markdown",
   "id": "9c4feb21-85aa-41cf-bcaa-e5abef7b6d57",
   "metadata": {},
   "source": [
    "Berikut adalah skrip Python untuk game kuis matematika sederhana:\n",
    "\n",
    "* **Fungsi `generate_question()`:** Fungsi ini menghasilkan soal matematika acak yang melibatkan dua angka (antara 1 dan 10) dan salah satu operator (+, -, *). Fungsi ini mengembalikan soal dalam bentuk string dan jawaban yang benar.\n",
    "* **Fungsi `math_quiz()`:**\n",
    "    * Menginisialisasi skor pemain dan jumlah ronde permainan.\n",
    "    * Menampilkan pesan selamat datang dan instruksi permainan.\n",
    "    * Melakukan perulangan sebanyak jumlah ronde yang ditentukan.\n",
    "    * Di setiap ronde, soal baru dihasilkan dan ditampilkan kepada pemain.\n",
    "    * Pemain diminta untuk memasukkan jawaban mereka.\n",
    "    * Program memeriksa apakah jawaban pemain benar dan memperbarui skor.\n",
    "    * Setelah semua ronde selesai, skor akhir ditampilkan beserta pesan motivasi berdasarkan skor pemain.\n",
    "* **Pemanggilan `math_quiz()`:** Baris terakhir menjalankan fungsi utama game.\n",
    "\n",
    "Jalankan sel kode di bawah untuk memulai kuis matematika!"
   ]
  },
  {
   "cell_type": "code",
   "execution_count": 1,
   "id": "70883052-b091-40c5-8e49-102d90b4c363",
   "metadata": {},
   "outputs": [
    {
     "name": "stdout",
     "output_type": "stream",
     "text": [
      "\n",
      "--- Welcome to the Math Quiz Game! ---\n",
      "You will be presented with math problems, and you need to provide the correct answers.\n",
      "\n",
      "Question 1: 7 - 3\n"
     ]
    },
    {
     "name": "stdin",
     "output_type": "stream",
     "text": [
      "Your answer:  4\n"
     ]
    },
    {
     "name": "stdout",
     "output_type": "stream",
     "text": [
      "Correct!\n",
      "\n",
      "Question 2: 10 * 4\n"
     ]
    },
    {
     "name": "stdin",
     "output_type": "stream",
     "text": [
      "Your answer:  40\n"
     ]
    },
    {
     "name": "stdout",
     "output_type": "stream",
     "text": [
      "Correct!\n",
      "\n",
      "Question 3: 4 + 8\n"
     ]
    },
    {
     "name": "stdin",
     "output_type": "stream",
     "text": [
      "Your answer:  12\n"
     ]
    },
    {
     "name": "stdout",
     "output_type": "stream",
     "text": [
      "Correct!\n",
      "\n",
      "Question 4: 7 * 9\n"
     ]
    },
    {
     "name": "stdin",
     "output_type": "stream",
     "text": [
      "Your answer:  16\n"
     ]
    },
    {
     "name": "stdout",
     "output_type": "stream",
     "text": [
      "Wrong! The correct answer is: 63\n",
      "\n",
      "Question 5: 7 - 5\n"
     ]
    },
    {
     "name": "stdin",
     "output_type": "stream",
     "text": [
      "Your answer:  2\n"
     ]
    },
    {
     "name": "stdout",
     "output_type": "stream",
     "text": [
      "Correct!\n",
      "\n",
      "--- Game Over! ---\n",
      "Your final score is: 4/5\n",
      "Good job! You did well.\n"
     ]
    }
   ],
   "source": [
    "# Basic Math Quiz Game\n",
    "\n",
    "import random\n",
    "\n",
    "# Step 1: Define the math question function\n",
    "def generate_question():\n",
    "  num1 = random.randint(1, 10)\n",
    "  num2 = random.randint(1, 10)\n",
    "  operator = random.choice(['+', '-', '*'])\n",
    "\n",
    "  if operator == '+':\n",
    "    answer = num1 + num2\n",
    "  elif operator == '-':\n",
    "    answer = num1 - num2\n",
    "  else:\n",
    "    answer = num1 * num2\n",
    "\n",
    "  return f\"{num1} {operator} {num2}\", answer\n",
    "\n",
    "# Step 2: Main Quiz Game Function\n",
    "def math_quiz():\n",
    "  score = 0\n",
    "  rounds = 5\n",
    "\n",
    "  print(\"\\n--- Welcome to the Math Quiz Game! ---\")\n",
    "  print(\"You will be presented with math problems, and you need to provide the correct answers.\")\n",
    "\n",
    "  for i in range(rounds):\n",
    "    question, correct_answer = generate_question()\n",
    "    print(f\"\\nQuestion {i + 1}: {question}\")\n",
    "    user_answer = int(input(\"Your answer: \"))\n",
    "\n",
    "    if user_answer == correct_answer:\n",
    "      print(\"Correct!\")\n",
    "      score += 1\n",
    "    else:\n",
    "      print(f\"Wrong! The correct answer is: {correct_answer}\")\n",
    "\n",
    "  print(\"\\n--- Game Over! ---\")\n",
    "  print(f\"Your final score is: {score}/{rounds}\")\n",
    "  if score == rounds:\n",
    "    print(\"Congratulations! You got all the questions correct.\")\n",
    "  elif score >= rounds // 2:\n",
    "    print(\"Good job! You did well.\")\n",
    "  else:\n",
    "    print(\"Keep practicing! You can do better next time.\")\n",
    "\n",
    "# Step 3: Run the Game\n",
    "math_quiz()"
   ]
  }
 ],
 "metadata": {
  "kernelspec": {
   "display_name": "Python [conda env:base] *",
   "language": "python",
   "name": "conda-base-py"
  },
  "language_info": {
   "codemirror_mode": {
    "name": "ipython",
    "version": 3
   },
   "file_extension": ".py",
   "mimetype": "text/x-python",
   "name": "python",
   "nbconvert_exporter": "python",
   "pygments_lexer": "ipython3",
   "version": "3.12.7"
  }
 },
 "nbformat": 4,
 "nbformat_minor": 5
}
