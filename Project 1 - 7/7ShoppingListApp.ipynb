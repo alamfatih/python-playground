{
 "cells": [
  {
   "cell_type": "markdown",
   "id": "33212a83-8b8b-4f37-afee-ccf29508b9df",
   "metadata": {},
   "source": [
    "# ⚙️ Implementasi Aplikasi Daftar Belanja Interaktif dengan Python"
   ]
  },
  {
   "cell_type": "markdown",
   "id": "e545b05a-d8d2-48d6-8f1d-644e163d2903",
   "metadata": {},
   "source": [
    "Berikut adalah skrip Python untuk aplikasi daftar belanja sederhana:\n",
    "\n",
    "* **Inisialisasi Daftar:** Sebuah list kosong bernama `shopping_list` dibuat untuk menyimpan item belanjaan.\n",
    "* **Fungsi `show_menu()`:** Fungsi ini menampilkan menu opsi kepada pengguna.\n",
    "* **Loop Utama (`while True`):** Program terus berjalan hingga pengguna memilih opsi untuk keluar.\n",
    "* **Input Pilihan:** Pengguna diminta untuk memasukkan pilihan menu (1-5).\n",
    "* **Logika Berdasarkan Pilihan:**\n",
    "    * **1. Lihat Daftar:** Menampilkan item dalam daftar (dengan nomor urut). Jika daftar kosong, pesan akan ditampilkan.\n",
    "    * **2. Tambah Item:** Meminta pengguna memasukkan item baru dan menambahkannya ke `shopping_list` menggunakan `append()`.\n",
    "    * **3. Hapus Item:** Meminta pengguna memasukkan item yang ingin dihapus dan menghapusnya dari `shopping_list` menggunakan `remove()`. Jika item tidak ditemukan, pesan akan ditampilkan.\n",
    "    * **4. Kosongkan Daftar:** Menghapus semua item dari `shopping_list` menggunakan `clear()`.\n",
    "    * **5. Keluar:** Mengakhiri loop dan menampilkan pesan perpisahan.\n",
    "* **Validasi Input:** Jika pengguna memasukkan pilihan yang tidak valid, pesan error akan ditampilkan.\n",
    "\n",
    "Jalankan sel kode di bawah untuk menggunakan aplikasi daftar belanja ini!"
   ]
  },
  {
   "cell_type": "code",
   "execution_count": 1,
   "id": "355c43df-017f-45ee-a90a-818ca03d4489",
   "metadata": {},
   "outputs": [
    {
     "name": "stdout",
     "output_type": "stream",
     "text": [
      "\n",
      "--- Shopping List Menu ---\n",
      "1. View the shopping list\n",
      "2. Add an item\n",
      "3. Remove an item\n",
      "4. Clear List\n",
      "5. Exit\n"
     ]
    },
    {
     "name": "stdin",
     "output_type": "stream",
     "text": [
      "Enter your choice (1-5):  1\n"
     ]
    },
    {
     "name": "stdout",
     "output_type": "stream",
     "text": [
      "\n",
      "--- Shopping List ---\n",
      "Your shopping list is empty.\n",
      "\n",
      "--- Shopping List Menu ---\n",
      "1. View the shopping list\n",
      "2. Add an item\n",
      "3. Remove an item\n",
      "4. Clear List\n",
      "5. Exit\n"
     ]
    },
    {
     "name": "stdin",
     "output_type": "stream",
     "text": [
      "Enter your choice (1-5):  2\n",
      "Enter the item to add:  Book\n"
     ]
    },
    {
     "name": "stdout",
     "output_type": "stream",
     "text": [
      "Book has been added to the shopping list.\n",
      "\n",
      "--- Shopping List Menu ---\n",
      "1. View the shopping list\n",
      "2. Add an item\n",
      "3. Remove an item\n",
      "4. Clear List\n",
      "5. Exit\n"
     ]
    },
    {
     "name": "stdin",
     "output_type": "stream",
     "text": [
      "Enter your choice (1-5):  1\n"
     ]
    },
    {
     "name": "stdout",
     "output_type": "stream",
     "text": [
      "\n",
      "--- Shopping List ---\n",
      "1. Book\n",
      "\n",
      "--- Shopping List Menu ---\n",
      "1. View the shopping list\n",
      "2. Add an item\n",
      "3. Remove an item\n",
      "4. Clear List\n",
      "5. Exit\n"
     ]
    },
    {
     "name": "stdin",
     "output_type": "stream",
     "text": [
      "Enter your choice (1-5):  2\n",
      "Enter the item to add:  Pencil\n"
     ]
    },
    {
     "name": "stdout",
     "output_type": "stream",
     "text": [
      "Pencil has been added to the shopping list.\n",
      "\n",
      "--- Shopping List Menu ---\n",
      "1. View the shopping list\n",
      "2. Add an item\n",
      "3. Remove an item\n",
      "4. Clear List\n",
      "5. Exit\n"
     ]
    },
    {
     "name": "stdin",
     "output_type": "stream",
     "text": [
      "Enter your choice (1-5):  1\n"
     ]
    },
    {
     "name": "stdout",
     "output_type": "stream",
     "text": [
      "\n",
      "--- Shopping List ---\n",
      "1. Book\n",
      "2. Pencil\n",
      "\n",
      "--- Shopping List Menu ---\n",
      "1. View the shopping list\n",
      "2. Add an item\n",
      "3. Remove an item\n",
      "4. Clear List\n",
      "5. Exit\n"
     ]
    },
    {
     "name": "stdin",
     "output_type": "stream",
     "text": [
      "Enter your choice (1-5):  5\n"
     ]
    },
    {
     "name": "stdout",
     "output_type": "stream",
     "text": [
      "Goodbye! Happy Shopping!\n"
     ]
    }
   ],
   "source": [
    "# Shopping List App\n",
    "\n",
    "# Step 1: Initialize an empty shopping list\n",
    "shopping_list = []\n",
    "\n",
    "# Step 2: Define the main menu\n",
    "def show_menu():\n",
    "  print(\"\\n--- Shopping List Menu ---\")\n",
    "  print(\"1. View the shopping list\")\n",
    "  print(\"2. Add an item\")\n",
    "  print(\"3. Remove an item\")\n",
    "  print(\"4. Clear List\")\n",
    "  print(\"5. Exit\")\n",
    "\n",
    "# Step 3: Main Program Loop\n",
    "while True:\n",
    "  show_menu()\n",
    "  choice = input(\"Enter your choice (1-5): \")\n",
    "\n",
    "  if choice == \"1\":\n",
    "    print(\"\\n--- Shopping List ---\")\n",
    "    if not shopping_list:\n",
    "      print(\"Your shopping list is empty.\")\n",
    "    else:\n",
    "      for index, item in enumerate(shopping_list):\n",
    "        print(f\"{index + 1}. {item}\")\n",
    "\n",
    "  elif choice == \"2\":\n",
    "    item = input(\"Enter the item to add: \")\n",
    "    shopping_list.append(item)\n",
    "    print(f\"{item} has been added to the shopping list.\")\n",
    "\n",
    "  elif choice == \"3\":\n",
    "    item = input(\"Enter the item to remove: \")\n",
    "    if item in shopping_list:\n",
    "      shopping_list.remove(item)\n",
    "      print(f\"{item} has been removed from the shopping list.\")\n",
    "    else:\n",
    "      print(f\"{item} is not in the shopping list.\")\n",
    "\n",
    "  elif choice == \"4\":\n",
    "    shopping_list.clear()\n",
    "    print(\"The shopping list has been cleared.\")\n",
    "\n",
    "  elif choice == \"5\":\n",
    "    print(\"Goodbye! Happy Shopping!\")\n",
    "    break\n",
    "\n",
    "  else:\n",
    "    print(\"Invalid choice. Please try again.\")"
   ]
  }
 ],
 "metadata": {
  "kernelspec": {
   "display_name": "Python [conda env:base] *",
   "language": "python",
   "name": "conda-base-py"
  },
  "language_info": {
   "codemirror_mode": {
    "name": "ipython",
    "version": 3
   },
   "file_extension": ".py",
   "mimetype": "text/x-python",
   "name": "python",
   "nbconvert_exporter": "python",
   "pygments_lexer": "ipython3",
   "version": "3.12.7"
  }
 },
 "nbformat": 4,
 "nbformat_minor": 5
}
