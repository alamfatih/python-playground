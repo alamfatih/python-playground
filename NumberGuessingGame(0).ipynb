{
 "cells": [
  {
   "cell_type": "markdown",
   "id": "e1eb08a5-ccf2-4539-bc52-ae9291698eac",
   "metadata": {},
   "source": [
    "# 🐍 Implementasi Permainan Tebak Angka dengan Python"
   ]
  },
  {
   "cell_type": "markdown",
   "id": "da8c8170-90bf-4422-826f-60ef23182c66",
   "metadata": {},
   "source": [
    "Berikut adalah skrip Python yang menjalankan permainan tebak angka sederhana:\n",
    "\n",
    "* Modul `random` diimpor untuk menghasilkan angka rahasia secara acak antara 1 dan 10.\n",
    "* Variabel `attempts` diinisialisasi dengan nilai 3, sebagai batas jumlah tebakan.\n",
    "* Sebuah loop `while` akan terus berjalan selama jumlah `attempts` masih lebih besar dari 0.\n",
    "* Di dalam loop, pengguna diminta untuk memasukkan tebakan mereka.\n",
    "* Program akan membandingkan tebakan dengan `secret_number` dan memberikan umpan balik (\"Too low!\", \"Too high!\", atau \"Congrats!\").\n",
    "* Jika tebakan benar, loop akan berhenti.\n",
    "* Jika semua percobaan habis dan tebakan masih salah, angka rahasia akan ditampilkan.\n",
    "\n",
    "Silakan jalankan sel kode di bawah untuk memulai permainan!"
   ]
  },
  {
   "cell_type": "code",
   "execution_count": 2,
   "id": "fc364681-c6d7-4b2c-aa02-fcfb037cc215",
   "metadata": {},
   "outputs": [
    {
     "name": "stdout",
     "output_type": "stream",
     "text": [
      "I'm thinking of a number between 1 and 10\n"
     ]
    },
    {
     "name": "stdin",
     "output_type": "stream",
     "text": [
      "Take a Guess:  5\n"
     ]
    },
    {
     "name": "stdout",
     "output_type": "stream",
     "text": [
      "Too low! Try again.\n"
     ]
    },
    {
     "name": "stdin",
     "output_type": "stream",
     "text": [
      "Take a Guess:  8\n"
     ]
    },
    {
     "name": "stdout",
     "output_type": "stream",
     "text": [
      "Too low! Try again.\n"
     ]
    },
    {
     "name": "stdin",
     "output_type": "stream",
     "text": [
      "Take a Guess:  10\n"
     ]
    },
    {
     "name": "stdout",
     "output_type": "stream",
     "text": [
      "Congrats! You guessed the number!\n"
     ]
    }
   ],
   "source": [
    "import random\n",
    "\n",
    "secret_number = random.randint(1, 10)\n",
    "attempts = 3\n",
    "\n",
    "print(\"I'm thinking of a number between 1 and 10\")\n",
    "\n",
    "while attempts > 0:\n",
    "\tguess = int(input(\"Take a Guess: \"))\n",
    "\tif guess == secret_number:\n",
    "\t\tprint(\"Congrats! You guessed the number!\")\n",
    "\t\tbreak\n",
    "\telif guess < secret_number:\n",
    "\t\tprint(\"Too low! Try again.\")\n",
    "\telse:\n",
    "\t\tprint(\"Too high! Try again.\")\n",
    "\tattempts -= 1\n",
    "\n",
    "if attempts == 0:\n",
    "\tprint(\"Sorry, you've run out of attempts. The secret number was:\", secret_number)"
   ]
  }
 ],
 "metadata": {
  "kernelspec": {
   "display_name": "Python [conda env:base] *",
   "language": "python",
   "name": "conda-base-py"
  },
  "language_info": {
   "codemirror_mode": {
    "name": "ipython",
    "version": 3
   },
   "file_extension": ".py",
   "mimetype": "text/x-python",
   "name": "python",
   "nbconvert_exporter": "python",
   "pygments_lexer": "ipython3",
   "version": "3.12.7"
  }
 },
 "nbformat": 4,
 "nbformat_minor": 5
}
