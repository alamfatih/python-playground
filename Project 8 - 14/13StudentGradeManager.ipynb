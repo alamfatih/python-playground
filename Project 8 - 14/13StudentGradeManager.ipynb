{
 "cells": [
  {
   "cell_type": "markdown",
   "id": "39091c2e-a8ba-45b1-a3b1-30dd2b161494",
   "metadata": {},
   "source": [
    "# ⚙️ Implementasi Pengelola Nilai Siswa dengan List Comprehension di Python"
   ]
  },
  {
   "cell_type": "markdown",
   "id": "a9df4fc5-ca13-40e0-91fa-23a175346e27",
   "metadata": {},
   "source": [
    "Berikut adalah skrip Python untuk mengelola nilai siswa:\n",
    "\n",
    "* **Input Nilai:** Program meminta pengguna memasukkan daftar nilai siswa yang dipisahkan oleh koma. Input ini kemudian diubah menjadi list integer.\n",
    "* **Pemberian Grade (List Comprehension):** List comprehension digunakan untuk secara ringkas memberikan grade kepada setiap siswa berdasarkan nilainya menggunakan serangkaian kondisi `if-else`.\n",
    "* **Pengelompokan Siswa (List Comprehension):** List comprehension juga digunakan untuk membuat dua list baru: `passing_students` (berisi nilai siswa yang lulus) dan `failing_students` (berisi nilai siswa yang tidak lulus).\n",
    "* **Output Hasil:** Program menampilkan daftar nilai dan grade setiap siswa, diikuti dengan daftar siswa yang lulus dan tidak lulus. Fungsi `zip()` digunakan untuk menggabungkan list nilai dan grade untuk ditampilkan bersamaan.\n",
    "\n",
    "Jalankan sel kode di bawah untuk mengelola nilai siswa!"
   ]
  },
  {
   "cell_type": "code",
   "execution_count": 4,
   "id": "745b7ccd-7177-4bff-82a4-e3d9f0f3e8a7",
   "metadata": {},
   "outputs": [
    {
     "name": "stdin",
     "output_type": "stream",
     "text": [
      "Enter student scores separated by commas:  75, 80,85,89,20,15,48,14,78,89,97,100\n"
     ]
    },
    {
     "name": "stdout",
     "output_type": "stream",
     "text": [
      "\n",
      "--- Student Grades ----\n",
      "Student 1: Score = 75, Grade = C\n",
      "Student 2: Score = 80, Grade = B\n",
      "Student 3: Score = 85, Grade = B\n",
      "Student 4: Score = 89, Grade = B\n",
      "Student 5: Score = 20, Grade = F\n",
      "Student 6: Score = 15, Grade = F\n",
      "Student 7: Score = 48, Grade = F\n",
      "Student 8: Score = 14, Grade = F\n",
      "Student 9: Score = 78, Grade = C\n",
      "Student 10: Score = 89, Grade = B\n",
      "Student 11: Score = 97, Grade = A\n",
      "Student 12: Score = 100, Grade = A\n",
      "\n",
      "--- Passing and Failing Students ---\n",
      "Passing Students: [75, 80, 85, 89, 78, 89, 97, 100]\n",
      "Failing Students: [20, 15, 48, 14]\n"
     ]
    }
   ],
   "source": [
    "# Student Grade Manager\n",
    "\n",
    "# Step 1: Get student scores\n",
    "student_scores = input(\"Enter student scores separated by commas: \")\n",
    "scores = [int(score) for score in student_scores.split(\",\")]\n",
    "\n",
    "# Step 2: Assign Grades using List Comprehension\n",
    "grades = [\n",
    "    \"A\" if score >= 90 else\n",
    "    \"B\" if score >= 80 else\n",
    "    \"C\" if score >= 70 else\n",
    "    \"D\" if score >= 60 else\n",
    "    \"F\"\n",
    "    for score in scores\n",
    "]\n",
    "\n",
    "# Step 3: Filter Passing and Failing Students\n",
    "passing_students = [score for score in scores if score >=60]\n",
    "failing_students = [score for score in scores if score < 60]\n",
    "\n",
    "# Step 4: Print Results\n",
    "print(\"\\n--- Student Grades ----\")\n",
    "for i, (score, grade) in enumerate(zip(scores, grades), start=1):\n",
    "    print(f\"Student {i}: Score = {score}, Grade = {grade}\")\n",
    "\n",
    "print(\"\\n--- Passing and Failing Students ---\")\n",
    "print(\"Passing Students:\", passing_students)\n",
    "print(\"Failing Students:\", failing_students)"
   ]
  },
  {
   "cell_type": "code",
   "execution_count": null,
   "id": "37dbe7dd-a844-4775-928b-ee8fd918e809",
   "metadata": {},
   "outputs": [],
   "source": []
  }
 ],
 "metadata": {
  "kernelspec": {
   "display_name": "Python 3 (ipykernel)",
   "language": "python",
   "name": "python3"
  },
  "language_info": {
   "codemirror_mode": {
    "name": "ipython",
    "version": 3
   },
   "file_extension": ".py",
   "mimetype": "text/x-python",
   "name": "python",
   "nbconvert_exporter": "python",
   "pygments_lexer": "ipython3",
   "version": "3.12.7"
  }
 },
 "nbformat": 4,
 "nbformat_minor": 5
}
