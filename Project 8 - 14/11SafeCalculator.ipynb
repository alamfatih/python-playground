{
 "cells": [
  {
   "cell_type": "markdown",
   "id": "9730644e-493c-48b3-8ab8-003082bcfd68",
   "metadata": {},
   "source": [
    "# ⚙️ Implementasi Kalkulator Aman dengan Penanganan Exception di Python"
   ]
  },
  {
   "cell_type": "markdown",
   "id": "33e23409-a559-4f71-aa84-e679aad43d1a",
   "metadata": {},
   "source": [
    "Berikut adalah skrip Python untuk kalkulator yang aman:\n",
    "\n",
    "* **Fungsi Aritmatika (`add`, `subtract`, `multiply`, `divide`):** Mendefinisikan operasi matematika dasar. Fungsi `divide` secara eksplisit menaikkan (`raise`) `ZeroDivisionError` jika pembagi adalah nol.\n",
    "* **Fungsi `show_menu()`:** Menampilkan menu opsi operasi kepada pengguna.\n",
    "* **Loop Utama (`while True`):** Program terus berjalan hingga pengguna memilih opsi untuk keluar.\n",
    "* **Input Pengguna:** Program meminta pengguna memasukkan pilihan operasi dan dua buah angka.\n",
    "* **Blok `try-except`:** Blok ini digunakan untuk menangkap potensi error:\n",
    "    * **`ValueError`:** Ditangkap jika pengguna memasukkan input yang bukan angka saat diminta.\n",
    "    * **`ZeroDivisionError`:** Ditangkap jika pengguna mencoba melakukan pembagian dengan nol (ditangani secara spesifik dengan pesan yang informatif).\n",
    "    * **`Exception as e`:** Menangkap error lain yang mungkin terjadi secara tak terduga.\n",
    "* **Blok `finally`:** Kode di dalam blok `finally` akan selalu dieksekusi setelah blok `try` selesai (baik terjadi error maupun tidak), dalam kasus ini untuk memberikan pesan penutup sementara dan mengindikasikan restart.\n",
    "\n",
    "Jalankan sel kode di bawah untuk menggunakan kalkulator yang aman ini!"
   ]
  },
  {
   "cell_type": "code",
   "execution_count": 1,
   "id": "309c3e32-d9ad-4113-8e08-5053ee54a99d",
   "metadata": {},
   "outputs": [
    {
     "name": "stdout",
     "output_type": "stream",
     "text": [
      "\n",
      "--- Safe Calculator Menu ---\n",
      "1. Add\n",
      "2. Subtract\n",
      "3. Multiply\n",
      "4. Divide\n",
      "5. Exit\n"
     ]
    },
    {
     "name": "stdin",
     "output_type": "stream",
     "text": [
      "Enter your choice (1-5):  1\n",
      "Enter first number:  8\n",
      "Enter second number:  5\n"
     ]
    },
    {
     "name": "stdout",
     "output_type": "stream",
     "text": [
      "Result: 13.0\n",
      "Thank you for using the Safe Calculator!... Restarting...\n",
      "\n",
      "--- Safe Calculator Menu ---\n",
      "1. Add\n",
      "2. Subtract\n",
      "3. Multiply\n",
      "4. Divide\n",
      "5. Exit\n"
     ]
    },
    {
     "name": "stdin",
     "output_type": "stream",
     "text": [
      "Enter your choice (1-5):  2\n",
      "Enter first number:  5\n",
      "Enter second number:  8\n"
     ]
    },
    {
     "name": "stdout",
     "output_type": "stream",
     "text": [
      "Result: -3.0\n",
      "Thank you for using the Safe Calculator!... Restarting...\n",
      "\n",
      "--- Safe Calculator Menu ---\n",
      "1. Add\n",
      "2. Subtract\n",
      "3. Multiply\n",
      "4. Divide\n",
      "5. Exit\n"
     ]
    },
    {
     "name": "stdin",
     "output_type": "stream",
     "text": [
      "Enter your choice (1-5):  3\n",
      "Enter first number:  2\n",
      "Enter second number:  8\n"
     ]
    },
    {
     "name": "stdout",
     "output_type": "stream",
     "text": [
      "Result: 16.0\n",
      "Thank you for using the Safe Calculator!... Restarting...\n",
      "\n",
      "--- Safe Calculator Menu ---\n",
      "1. Add\n",
      "2. Subtract\n",
      "3. Multiply\n",
      "4. Divide\n",
      "5. Exit\n"
     ]
    },
    {
     "name": "stdin",
     "output_type": "stream",
     "text": [
      "Enter your choice (1-5):  4\n",
      "Enter first number:  8\n",
      "Enter second number:  14\n"
     ]
    },
    {
     "name": "stdout",
     "output_type": "stream",
     "text": [
      "Result: 0.5714285714285714\n",
      "Thank you for using the Safe Calculator!... Restarting...\n",
      "\n",
      "--- Safe Calculator Menu ---\n",
      "1. Add\n",
      "2. Subtract\n",
      "3. Multiply\n",
      "4. Divide\n",
      "5. Exit\n"
     ]
    },
    {
     "name": "stdin",
     "output_type": "stream",
     "text": [
      "Enter your choice (1-5):  5\n"
     ]
    },
    {
     "name": "stdout",
     "output_type": "stream",
     "text": [
      "Exiting the calculator. Goodbye!\n"
     ]
    }
   ],
   "source": [
    "# Safe Calculator\n",
    "\n",
    "# Step 1: Define Calculator Functions\n",
    "def add(x, y):\n",
    "  return x + y\n",
    "\n",
    "def subtract(x, y):\n",
    "  return x - y\n",
    "\n",
    "def multiply(x, y):\n",
    "  return x * y\n",
    "\n",
    "def divide(x, y):\n",
    "  if y == 0:\n",
    "    raise ZeroDivisionError(\"Cannot divide by zero\")\n",
    "  return x / y\n",
    "\n",
    "# Step 2: Display Menu\n",
    "def show_menu():\n",
    "  print(\"\\n--- Safe Calculator Menu ---\")\n",
    "  print(\"1. Add\")\n",
    "  print(\"2. Subtract\")\n",
    "  print(\"3. Multiply\")\n",
    "  print(\"4. Divide\")\n",
    "  print(\"5. Exit\")\n",
    "\n",
    "# Step 3: Main Program\n",
    "while True:\n",
    "  show_menu()\n",
    "  choice = input(\"Enter your choice (1-5): \")\n",
    "\n",
    "  if choice == '5':\n",
    "    print(\"Exiting the calculator. Goodbye!\")\n",
    "    break\n",
    "\n",
    "  try:\n",
    "    num1 = float(input(\"Enter first number: \"))\n",
    "    num2 = float(input(\"Enter second number: \"))\n",
    "\n",
    "    if choice == '1':\n",
    "      print(\"Result:\", add(num1, num2))\n",
    "    elif choice == '2':\n",
    "      print(\"Result:\", subtract(num1, num2))\n",
    "    elif choice == '3':\n",
    "      print(\"Result:\", multiply(num1, num2))\n",
    "    elif choice == '4':\n",
    "      print(\"Result:\", divide(num1, num2))\n",
    "    else:\n",
    "      print(\"Invalid choice. Please select a valid option.\")\n",
    "\n",
    "  except ValueError:\n",
    "    print(\"Invalid input. Please enter valid numbers.\")\n",
    "  except ZeroDivisionError as e:\n",
    "    print(f\"Error: {e}\")\n",
    "  except Exception as e:\n",
    "    print(f\"An unexpected error occurred: {e}\")\n",
    "  finally:\n",
    "    print(\"Thank you for using the Safe Calculator!... Restarting...\")"
   ]
  }
 ],
 "metadata": {
  "kernelspec": {
   "display_name": "Python 3 (ipykernel)",
   "language": "python",
   "name": "python3"
  },
  "language_info": {
   "codemirror_mode": {
    "name": "ipython",
    "version": 3
   },
   "file_extension": ".py",
   "mimetype": "text/x-python",
   "name": "python",
   "nbconvert_exporter": "python",
   "pygments_lexer": "ipython3",
   "version": "3.12.7"
  }
 },
 "nbformat": 4,
 "nbformat_minor": 5
}
