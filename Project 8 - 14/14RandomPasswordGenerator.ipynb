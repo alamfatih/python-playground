{
 "cells": [
  {
   "cell_type": "markdown",
   "id": "9ccedfc3-92d7-463a-af7f-d6ad42e8a6ee",
   "metadata": {},
   "source": [
    "# ⚙️ Implementasi Generator Kata Sandi Acak dengan Modul `random` dan `string` di Python"
   ]
  },
  {
   "cell_type": "markdown",
   "id": "b9d2a38c-63e4-4b41-842d-641e87c1de01",
   "metadata": {},
   "source": [
    "Berikut adalah skrip Python untuk menghasilkan kata sandi acak yang kuat:\n",
    "\n",
    "* **Import Modul:** Modul `random` digunakan untuk menghasilkan pilihan acak, dan modul `string` menyediakan kumpulan karakter (huruf besar, huruf kecil, angka).\n",
    "* **Fungsi `generate_password(length=12)`:**\n",
    "    * Menerima panjang kata sandi yang diinginkan sebagai input (default 12).\n",
    "    * Memastikan panjang minimal 4 karakter untuk keamanan.\n",
    "    * Mendefinisikan kumpulan karakter yang mungkin digunakan (huruf besar, huruf kecil, angka, simbol khusus).\n",
    "    * Memastikan setidaknya satu karakter dari setiap jenis dimasukkan ke dalam kata sandi.\n",
    "    * Mengisi sisa panjang kata sandi dengan pilihan acak dari semua kumpulan karakter.\n",
    "    * Mengacak urutan karakter dalam kata sandi menggunakan `random.shuffle()`.\n",
    "    * Menggabungkan list karakter menjadi string dan mengembalikannya.\n",
    "* **Interaksi Pengguna:** Program meminta pengguna memasukkan panjang kata sandi yang diinginkan dan mencetak kata sandi yang dihasilkan.\n",
    "* **Penanganan Error:** Blok `try-except` digunakan untuk menangani `ValueError` jika panjang kata sandi yang dimasukkan kurang dari 4.\n",
    "\n",
    "Jalankan sel kode di bawah untuk menghasilkan kata sandi amanmu!"
   ]
  },
  {
   "cell_type": "code",
   "execution_count": 10,
   "id": "93ecc055-561d-4d10-91ca-723c2ea04c5d",
   "metadata": {},
   "outputs": [
    {
     "name": "stdin",
     "output_type": "stream",
     "text": [
      "Enter the desired password length (minimum 4):  12\n"
     ]
    },
    {
     "name": "stdout",
     "output_type": "stream",
     "text": [
      "Generated Password: b92'R}P,WUV%\n"
     ]
    }
   ],
   "source": [
    "# Random Password Generator\n",
    "import random, string\n",
    "\n",
    "# Step 1: Define Password Generation Function\n",
    "\n",
    "def generate_password(length=12):\n",
    "  if length < 4:\n",
    "    raise ValueError(\"Password length must be at least 4 characters\")\n",
    "\n",
    "  # Character sets for the password\n",
    "  uppercase = string.ascii_uppercase\n",
    "  lowercase = string.ascii_lowercase\n",
    "  digits = string.digits\n",
    "  special_chars = \"!@#$%^&*()_+-=[]{}|;:',.<>?/\"\n",
    "\n",
    "  # Ensure at least one of each character type\n",
    "  password = [\n",
    "      random.choice(uppercase),\n",
    "      random.choice(lowercase),\n",
    "      random.choice(digits),\n",
    "      random.choice(special_chars)\n",
    "  ]\n",
    "\n",
    "  # Fill the remaining length with random choices from all sets\n",
    "  all_chars = uppercase + lowercase + digits + special_chars\n",
    "  password += random.choices(all_chars, k=length - 4)\n",
    "\n",
    "  # Shuffle the password to make it more random\n",
    "  random.shuffle(password)\n",
    "\n",
    "  # Convert the list to a string and return\n",
    "  return ''.join(password)\n",
    "\n",
    "# STep 2: User Interaction\n",
    "\n",
    "try:\n",
    "  length = int(input(\"Enter the desired password length (minimum 4): \"))\n",
    "  password = generate_password(length)\n",
    "  print(\"Generated Password:\", password)\n",
    "except ValueError as e:\n",
    "  print(e)"
   ]
  }
 ],
 "metadata": {
  "kernelspec": {
   "display_name": "Python 3 (ipykernel)",
   "language": "python",
   "name": "python3"
  },
  "language_info": {
   "codemirror_mode": {
    "name": "ipython",
    "version": 3
   },
   "file_extension": ".py",
   "mimetype": "text/x-python",
   "name": "python",
   "nbconvert_exporter": "python",
   "pygments_lexer": "ipython3",
   "version": "3.12.7"
  }
 },
 "nbformat": 4,
 "nbformat_minor": 5
}
