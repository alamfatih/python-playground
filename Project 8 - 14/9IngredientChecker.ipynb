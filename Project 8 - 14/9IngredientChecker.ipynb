{
 "cells": [
  {
   "cell_type": "markdown",
   "id": "3da963f8-da93-40b6-955a-a79002c57466",
   "metadata": {},
   "source": [
    "# 🧪 Implementasi Pengecek Bahan Makanan dengan Set di Python"
   ]
  },
  {
   "cell_type": "markdown",
   "id": "dfc91eb6-3c75-4dff-873d-9b54028b33cd",
   "metadata": {},
   "source": [
    "Berikut adalah skrip Python yang membandingkan bahan resep dengan bahan yang dimiliki pengguna:\n",
    "\n",
    "* **Definisi `recipe_ingredients`:** Sebuah set (kumpulan unik tanpa urutan) didefinisikan berisi bahan-bahan yang dibutuhkan untuk resep.\n",
    "* **Input Pengguna:** Program meminta pengguna memasukkan bahan-bahan yang mereka miliki, dipisahkan oleh koma. Input ini kemudian diubah menjadi sebuah set bernama `user_ingredients`.\n",
    "* **Perbandingan Set:**\n",
    "    * `missing_ingredients` dihitung menggunakan operasi pengurangan set (`-`) untuk menemukan bahan yang ada di resep tetapi tidak ada di pengguna.\n",
    "    * `extra_ingredients` dihitung dengan cara yang sama untuk menemukan bahan yang ada di pengguna tetapi tidak ada di resep.\n",
    "* **Output Hasil:** Program menampilkan daftar bahan yang kurang dan bahan yang berlebih (jika ada). Jika semua bahan tersedia, pesan yang sesuai akan ditampilkan.\n",
    "\n",
    "Jalankan sel kode di bawah untuk memeriksa bahan-bahanmu!"
   ]
  },
  {
   "cell_type": "code",
   "execution_count": 1,
   "id": "ad29f8e3-84ef-45f7-a6f5-c8a7f47548ce",
   "metadata": {},
   "outputs": [
    {
     "name": "stdin",
     "output_type": "stream",
     "text": [
      "Enter the ingredients you have (separated by commas):  egg, milk, orange, banana\n"
     ]
    },
    {
     "name": "stdout",
     "output_type": "stream",
     "text": [
      "\n",
      "--- Ingredient Check Results ----\n",
      "You are missing the following ingredients: butter, flour, sugar, eggs\n",
      "You have extra ingredients: egg, banana, orange\n"
     ]
    }
   ],
   "source": [
    "# Ingredients Checker\n",
    "\n",
    "# Step 1: Define the recipe ingredients\n",
    "recipe_ingredients = {\"flour\", \"sugar\", \"butter\", \"eggs\", \"milk\"}\n",
    "\n",
    "# Step 2: Get user input for available ingredients\n",
    "user_input = input(\"Enter the ingredients you have (separated by commas): \")\n",
    "user_ingredients = set(user_input.split(\", \"))\n",
    "\n",
    "# Step 3: Compare Ingredients\n",
    "missing_ingredients = recipe_ingredients - user_ingredients\n",
    "extra_ingredients = user_ingredients - recipe_ingredients\n",
    "\n",
    "# Step 4: Display Results\n",
    "print(\"\\n--- Ingredient Check Results ----\")\n",
    "if missing_ingredients:\n",
    "    print(f\"You are missing the following ingredients: {', '.join(missing_ingredients)}\")\n",
    "else:\n",
    "    print(\"You have all the ingredients needed.\")\n",
    "\n",
    "if extra_ingredients:\n",
    "    print(f\"You have extra ingredients: {', '.join(extra_ingredients)}\")\n",
    "else:\n",
    "    print(\"You have all the ingredients needed.\")"
   ]
  }
 ],
 "metadata": {
  "kernelspec": {
   "display_name": "Python 3 (ipykernel)",
   "language": "python",
   "name": "python3"
  },
  "language_info": {
   "codemirror_mode": {
    "name": "ipython",
    "version": 3
   },
   "file_extension": ".py",
   "mimetype": "text/x-python",
   "name": "python",
   "nbconvert_exporter": "python",
   "pygments_lexer": "ipython3",
   "version": "3.12.7"
  }
 },
 "nbformat": 4,
 "nbformat_minor": 5
}
