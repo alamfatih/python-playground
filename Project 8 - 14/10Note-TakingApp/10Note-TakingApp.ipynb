{
 "cells": [
  {
   "cell_type": "markdown",
   "id": "d545b75e-308e-4a58-a0f4-9eadf5f9bebe",
   "metadata": {},
   "source": [
    "# 💾 Implementasi Aplikasi Pencatat Sederhana dengan File Teks di Python"
   ]
  },
  {
   "cell_type": "markdown",
   "id": "1e3cf42b-8eff-44b3-9ef1-32c874ad1024",
   "metadata": {},
   "source": [
    "Berikut adalah skrip Python untuk aplikasi pencatat sederhana:\n",
    "\n",
    "* **Konstanta `FILE_NAME`:** Menentukan nama file teks (`myNotes.txt`) tempat catatan akan disimpan.\n",
    "* **Fungsi `show_menu()`:** Menampilkan opsi menu kepada pengguna.\n",
    "* **Fungsi `add_note()`:** Meminta input catatan dari pengguna dan menambahkannya ke akhir file (`myNotes.txt`) dalam mode 'append' (`\"a\"`).\n",
    "* **Fungsi `view_notes()`:** Membuka dan membaca isi file (`myNotes.txt`) dalam mode 'read' (`\"r\"`). Jika file tidak ditemukan atau kosong, pesan yang sesuai akan ditampilkan.\n",
    "* **Fungsi `delete_notes()`:** Meminta konfirmasi pengguna sebelum membuka file (`myNotes.txt`) dalam mode 'write' (`\"w\"`), yang akan menimpa dan mengosongkan seluruh isinya.\n",
    "* **Loop Utama (`while True`):** Program terus berjalan hingga pengguna memilih opsi untuk keluar.\n",
    "* **Penanganan Pilihan:** Berdasarkan input pengguna, fungsi yang sesuai akan dipanggil.\n",
    "* **Validasi Input:** Menangani pilihan menu yang tidak valid.\n",
    "\n",
    "Jalankan sel kode di bawah untuk mulai mencatat!"
   ]
  },
  {
   "cell_type": "code",
   "execution_count": 1,
   "id": "25981ffc-ea2b-4ec1-80e0-e07d279a25be",
   "metadata": {},
   "outputs": [
    {
     "name": "stdout",
     "output_type": "stream",
     "text": [
      "\n",
      "--- Note-Taking App Menu ---\n",
      "1. Add a new note\n",
      "2. View all notes\n",
      "3. Delete all notes\n",
      "4. Exit\n"
     ]
    },
    {
     "name": "stdin",
     "output_type": "stream",
     "text": [
      "Enter your choice (1-4):  2\n"
     ]
    },
    {
     "name": "stdout",
     "output_type": "stream",
     "text": [
      "\n",
      "No notes found.\n",
      "\n",
      "--- Note-Taking App Menu ---\n",
      "1. Add a new note\n",
      "2. View all notes\n",
      "3. Delete all notes\n",
      "4. Exit\n"
     ]
    },
    {
     "name": "stdin",
     "output_type": "stream",
     "text": [
      "Enter your choice (1-4):  1\n",
      "Enter your note:  Nur Fatih Alam\n"
     ]
    },
    {
     "name": "stdout",
     "output_type": "stream",
     "text": [
      "Note added successfully!\n",
      "\n",
      "--- Note-Taking App Menu ---\n",
      "1. Add a new note\n",
      "2. View all notes\n",
      "3. Delete all notes\n",
      "4. Exit\n"
     ]
    },
    {
     "name": "stdin",
     "output_type": "stream",
     "text": [
      "Enter your choice (1-4):  1\n",
      "Enter your note:  Learn Python\n"
     ]
    },
    {
     "name": "stdout",
     "output_type": "stream",
     "text": [
      "Note added successfully!\n",
      "\n",
      "--- Note-Taking App Menu ---\n",
      "1. Add a new note\n",
      "2. View all notes\n",
      "3. Delete all notes\n",
      "4. Exit\n"
     ]
    },
    {
     "name": "stdin",
     "output_type": "stream",
     "text": [
      "Enter your choice (1-4):  1\n",
      "Enter your note:  Learn Data Analytics\n"
     ]
    },
    {
     "name": "stdout",
     "output_type": "stream",
     "text": [
      "Note added successfully!\n",
      "\n",
      "--- Note-Taking App Menu ---\n",
      "1. Add a new note\n",
      "2. View all notes\n",
      "3. Delete all notes\n",
      "4. Exit\n"
     ]
    },
    {
     "name": "stdin",
     "output_type": "stream",
     "text": [
      "Enter your choice (1-4):  2\n"
     ]
    },
    {
     "name": "stdout",
     "output_type": "stream",
     "text": [
      "\n",
      "--- Your Notes ---\n",
      "Nur Fatih Alam\n",
      "Learn Python\n",
      "Learn Data Analytics\n",
      "\n",
      "\n",
      "--- Note-Taking App Menu ---\n",
      "1. Add a new note\n",
      "2. View all notes\n",
      "3. Delete all notes\n",
      "4. Exit\n"
     ]
    },
    {
     "name": "stdin",
     "output_type": "stream",
     "text": [
      "Enter your choice (1-4):  4\n"
     ]
    },
    {
     "name": "stdout",
     "output_type": "stream",
     "text": [
      "Exiting Note-Taking App. Goodbye!\n"
     ]
    }
   ],
   "source": [
    "# Note-Taking App\n",
    "\n",
    "# Step 1: Define file name\n",
    "FILE_NAME = \"myNotes.txt\"\n",
    "\n",
    "# Step 2: Display menu options\n",
    "def show_menu():\n",
    "  print(\"\\n--- Note-Taking App Menu ---\")\n",
    "  print(\"1. Add a new note\")\n",
    "  print(\"2. View all notes\")\n",
    "  print(\"3. Delete all notes\")\n",
    "  print(\"4. Exit\")\n",
    "\n",
    "# Step 3: Add a new note\n",
    "def add_note():\n",
    "  note = input(\"Enter your note: \")\n",
    "  with open(FILE_NAME, \"a\") as file:\n",
    "    file.write(note + \"\\n\")\n",
    "  print(\"Note added successfully!\")\n",
    "\n",
    "# Step 4: View all notes\n",
    "def view_notes():\n",
    "  try:\n",
    "    with open(FILE_NAME, \"r\") as file:\n",
    "      content = file.read()\n",
    "      if content:\n",
    "        print(\"\\n--- Your Notes ---\")\n",
    "        print(content)\n",
    "      else:\n",
    "        print(\"\\nNo notes found.\")\n",
    "  except FileNotFoundError:\n",
    "    print(\"No notes found.\")\n",
    "\n",
    "# Step 5: Delete all notes\n",
    "def delete_notes():\n",
    "  confirm = input(\"Are you sure you want to delete all notes? (Yes/n): \")\n",
    "  if confirm.lower() == \"yes\":\n",
    "    with open(FILE_NAME, \"w\") as file:\n",
    "      pass\n",
    "    print(\"All notes have been deleted\")\n",
    "  else:\n",
    "    print(\"Deletion cancelled\")\n",
    "\n",
    "# Step 6: Main Program Loop\n",
    "while True:\n",
    "  show_menu()\n",
    "  choice = input(\"Enter your choice (1-4): \")\n",
    "\n",
    "  if choice == \"1\":\n",
    "    add_note()\n",
    "  elif choice == \"2\":\n",
    "    view_notes()\n",
    "  elif choice == \"3\":\n",
    "    delete_notes()\n",
    "  elif choice == \"4\":\n",
    "    print(\"Exiting Note-Taking App. Goodbye!\")\n",
    "    break\n",
    "  else:\n",
    "    print(\"Invalid choice. Please enter a number between 1 and 4.\")"
   ]
  }
 ],
 "metadata": {
  "kernelspec": {
   "display_name": "Python 3 (ipykernel)",
   "language": "python",
   "name": "python3"
  },
  "language_info": {
   "codemirror_mode": {
    "name": "ipython",
    "version": 3
   },
   "file_extension": ".py",
   "mimetype": "text/x-python",
   "name": "python",
   "nbconvert_exporter": "python",
   "pygments_lexer": "ipython3",
   "version": "3.12.7"
  }
 },
 "nbformat": 4,
 "nbformat_minor": 5
}
