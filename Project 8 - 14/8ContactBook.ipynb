{
 "cells": [
  {
   "cell_type": "markdown",
   "id": "8792354b-f1c7-48e7-b9be-aa6f07d940f1",
   "metadata": {},
   "source": [
    "# ⚙️ Implementasi Aplikasi Buku Kontak Interaktif dengan Python (Dictionary)"
   ]
  },
  {
   "cell_type": "markdown",
   "id": "02350902-f7c8-49ed-bf90-72f7a0d9cdf6",
   "metadata": {},
   "source": [
    "Berikut adalah skrip Python untuk aplikasi buku kontak sederhana:\n",
    "\n",
    "* **Inisialisasi Dictionary:** Sebuah dictionary kosong bernama `contacts` digunakan untuk menyimpan informasi kontak, dengan nama sebagai kunci dan dictionary berisi 'phone' dan 'email' sebagai nilai.\n",
    "* **Fungsi `show_menu()`:** Menampilkan opsi menu kepada pengguna.\n",
    "* **Fungsi `add_contact()`:** Meminta input nama, nomor telepon, dan email, lalu menyimpannya sebagai entri baru dalam dictionary `contacts`.\n",
    "* **Fungsi `view_contacts()`:** Menampilkan semua kontak yang tersimpan dalam format yang mudah dibaca.\n",
    "* **Fungsi `search_contact()`:** Meminta nama kontak yang ingin dicari dan menampilkan detailnya jika ditemukan.\n",
    "* **Fungsi `edit_contact()`:** Meminta nama kontak yang ingin diubah dan memperbarui nomor telepon dan emailnya.\n",
    "* **Fungsi `delete_contact()`:** Meminta nama kontak yang ingin dihapus dan menghapusnya dari dictionary `contacts`.\n",
    "* **Loop Utama (`while True`):** Program terus berjalan hingga pengguna memilih opsi untuk keluar.\n",
    "* **Penanganan Pilihan:** Berdasarkan input pengguna, fungsi yang sesuai akan dipanggil.\n",
    "* **Validasi Input:** Menangani pilihan menu yang tidak valid.\n",
    "\n",
    "Jalankan sel kode di bawah untuk menggunakan aplikasi buku kontak ini!"
   ]
  },
  {
   "cell_type": "code",
   "execution_count": null,
   "id": "fbf3b8c6-aa92-4c4b-9f3a-97bd705abc82",
   "metadata": {},
   "outputs": [
    {
     "name": "stdout",
     "output_type": "stream",
     "text": [
      "\n",
      "--- Contact Book Menu ---\n",
      "1. Add Contact\n",
      "2. View Contacts\n",
      "3. Search Contact\n",
      "4. Edit Contact\n",
      "5. Delete Contact\n",
      "6. Exit\n"
     ]
    },
    {
     "name": "stdin",
     "output_type": "stream",
     "text": [
      "Enter your choice (1-6):  1\n",
      "Enter contact name:  Nur Fatih Alam\n",
      "Enter contact number:  123-456-789\n",
      "Enter contact email:  nfa@email.com\n"
     ]
    },
    {
     "name": "stdout",
     "output_type": "stream",
     "text": [
      "Contact Nur Fatih Alam has been added to your contact book successfully!\n",
      "\n",
      "--- Contact Book Menu ---\n",
      "1. Add Contact\n",
      "2. View Contacts\n",
      "3. Search Contact\n",
      "4. Edit Contact\n",
      "5. Delete Contact\n",
      "6. Exit\n"
     ]
    },
    {
     "name": "stdin",
     "output_type": "stream",
     "text": [
      "Enter your choice (1-6):  2\n"
     ]
    },
    {
     "name": "stdout",
     "output_type": "stream",
     "text": [
      "\n",
      "--- Contact List ---\n",
      "Name: Nur Fatih Alam\n",
      "Phone: 123-456-789\n",
      "Email: nfa@email.com\n",
      "\n",
      "--- Contact Book Menu ---\n",
      "1. Add Contact\n",
      "2. View Contacts\n",
      "3. Search Contact\n",
      "4. Edit Contact\n",
      "5. Delete Contact\n",
      "6. Exit\n"
     ]
    },
    {
     "name": "stdin",
     "output_type": "stream",
     "text": [
      "Enter your choice (1-6):  4\n",
      "Enter the name of the contact you want to edit:  Nur Fatih Alam\n",
      "Enter new phone number:  456-123-789\n",
      "Enter new email:  afn@email.com\n"
     ]
    },
    {
     "name": "stdout",
     "output_type": "stream",
     "text": [
      "Contact Nur Fatih Alam has been updated successfully!\n",
      "\n",
      "--- Contact Book Menu ---\n",
      "1. Add Contact\n",
      "2. View Contacts\n",
      "3. Search Contact\n",
      "4. Edit Contact\n",
      "5. Delete Contact\n",
      "6. Exit\n"
     ]
    },
    {
     "name": "stdin",
     "output_type": "stream",
     "text": [
      "Enter your choice (1-6):  2\n"
     ]
    },
    {
     "name": "stdout",
     "output_type": "stream",
     "text": [
      "\n",
      "--- Contact List ---\n",
      "Name: Nur Fatih Alam\n",
      "Phone: 456-123-789\n",
      "Email: afn@email.com\n",
      "\n",
      "--- Contact Book Menu ---\n",
      "1. Add Contact\n",
      "2. View Contacts\n",
      "3. Search Contact\n",
      "4. Edit Contact\n",
      "5. Delete Contact\n",
      "6. Exit\n"
     ]
    }
   ],
   "source": [
    "#### Contact Book\n",
    "\n",
    "# Step 1: Initialize an empty contact book\n",
    "contacts = {}\n",
    "\n",
    "# Step 2: Display the menu\n",
    "def show_menu():\n",
    "  print(\"\\n--- Contact Book Menu ---\")\n",
    "  print(\"1. Add Contact\")\n",
    "  print(\"2. View Contacts\")\n",
    "  print(\"3. Search Contact\")\n",
    "  print(\"4. Edit Contact\")\n",
    "  print(\"5. Delete Contact\")\n",
    "  print(\"6. Exit\")\n",
    "\n",
    "# Step 3: Add a Contact\n",
    "def add_contact():\n",
    "  name = input(\"Enter contact name: \")\n",
    "  phone = input(\"Enter contact number: \")\n",
    "  email = input(\"Enter contact email: \")\n",
    "  contacts[name] = {\"phone\": phone, \"email\": email}\n",
    "  print(f\"Contact {name} has been added to your contact book successfully!\")\n",
    "\n",
    "# Step 4: View All Contacts\n",
    "def view_contacts():\n",
    "  if contacts:\n",
    "    print(\"\\n--- Contact List ---\")\n",
    "    for name, details in contacts.items():\n",
    "      print(f\"Name: {name}\")\n",
    "      print(f\"Phone: {details['phone']}\")\n",
    "      print(f\"Email: {details['email']}\")\n",
    "  else:\n",
    "    print(\"Your contact book is empty.\")\n",
    "\n",
    "# Step 5: Search a Contact\n",
    "def search_contact():\n",
    "  name = input(\"Enter the name of the contact you want to search: \")\n",
    "  if name in contacts:\n",
    "    print(f\"\\n--- Contact Details for {name} ---\")\n",
    "    print(f\"Name: {name}\")\n",
    "    print(f\"Phone: {contacts[name]['phone']}\")\n",
    "    print(f\"Email: {contacts[name]['email']}\")\n",
    "  else:\n",
    "    print(f\"Contact {name} not found in your contact book.\")\n",
    "\n",
    "# Step 6: Edit a contact\n",
    "def edit_contact():\n",
    "  name = input(\"Enter the name of the contact you want to edit: \")\n",
    "  if name in contacts:\n",
    "    phone = input(\"Enter new phone number: \")\n",
    "    email = input(\"Enter new email: \")\n",
    "    contacts[name] = {\"phone\": phone, \"email\": email}\n",
    "    print(f\"Contact {name} has been updated successfully!\")\n",
    "  else:\n",
    "    print(f\"Contact {name} not found in your contact book.\")\n",
    "\n",
    "# Step 7: Delete a contact\n",
    "def delete_contact():\n",
    "  name = input(\"Enter the name of the contact you want to delete: \")\n",
    "  if name in contacts:\n",
    "    del contacts[name]\n",
    "    print(f\"Contact {name} has been deleted successfully!\")\n",
    "  else:\n",
    "    print(f\"Contact {name} not found in your contact book.\")\n",
    "\n",
    "# Step 8: Main Program Loop\n",
    "while True:\n",
    "  show_menu()\n",
    "  choice = input(\"Enter your choice (1-6): \")\n",
    "\n",
    "  if choice == \"1\":\n",
    "    add_contact()\n",
    "  elif choice == \"2\":\n",
    "    view_contacts()\n",
    "  elif choice == \"3\":\n",
    "    search_contact()\n",
    "  elif choice == \"4\":\n",
    "    edit_contact()\n",
    "  elif choice == \"5\":\n",
    "    delete_contact()\n",
    "  elif choice == \"6\":\n",
    "    print(\"Thank you for using the Contact Book. Goodbye!\")\n",
    "    break\n",
    "  else:\n",
    "    print(\"Invalid choice. Please select a valid option (1-6).\")"
   ]
  }
 ],
 "metadata": {
  "kernelspec": {
   "display_name": "Python 3 (ipykernel)",
   "language": "python",
   "name": "python3"
  },
  "language_info": {
   "codemirror_mode": {
    "name": "ipython",
    "version": 3
   },
   "file_extension": ".py",
   "mimetype": "text/x-python",
   "name": "python",
   "nbconvert_exporter": "python",
   "pygments_lexer": "ipython3",
   "version": "3.12.7"
  }
 },
 "nbformat": 4,
 "nbformat_minor": 5
}
