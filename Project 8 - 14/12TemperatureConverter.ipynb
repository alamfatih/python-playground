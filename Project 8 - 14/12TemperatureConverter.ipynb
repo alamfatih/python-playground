{
 "cells": [
  {
   "cell_type": "markdown",
   "id": "6db1c05a-0d4b-4ee1-8c5a-1bfb1c2b2602",
   "metadata": {},
   "source": [
    "# 🌡️ Implementasi Konverter Suhu dengan Fungsi di Python"
   ]
  },
  {
   "cell_type": "markdown",
   "id": "8d84bf38-dff4-4ea8-9ac0-47a3df0cc18a",
   "metadata": {},
   "source": [
    "Berikut adalah skrip Python untuk konverter suhu:\n",
    "\n",
    "* **Fungsi Konversi:** Beberapa fungsi didefinisikan untuk melakukan konversi suhu spesifik (misalnya, `celsius_to_fahrenheit`, `fahrenheit_to_kelvin`, dll.). Setiap fungsi menerima nilai suhu dalam satu skala dan mengembalikan nilai suhu dalam skala lain.\n",
    "* **Fungsi `show_menu()`:** Menampilkan menu pilihan konversi suhu kepada pengguna.\n",
    "* **Loop Utama (`while True`):** Program terus berjalan hingga pengguna memilih opsi untuk keluar.\n",
    "* **Input Pilihan:** Pengguna diminta untuk memasukkan pilihan menu (1-4).\n",
    "* **Logika Berdasarkan Pilihan:**\n",
    "    * **1-3:** Meminta input suhu dalam skala yang sesuai, memanggil fungsi konversi yang relevan, dan menampilkan hasilnya dengan dua angka desimal.\n",
    "    * **4:** Menampilkan pesan perpisahan dan mengakhiri loop.\n",
    "* **Validasi Input:** Menangani pilihan menu yang tidak valid.\n",
    "\n",
    "Jalankan sel kode di bawah untuk mulai mengonversi suhu!"
   ]
  },
  {
   "cell_type": "code",
   "execution_count": 1,
   "id": "abb6acd4-0abb-45eb-b176-cdc9ae9b0f84",
   "metadata": {},
   "outputs": [
    {
     "name": "stdout",
     "output_type": "stream",
     "text": [
      "\n",
      "--- Temperature Converter Menu ---\n",
      "1. Celsius to Fahrenheit & Kelvin\n",
      "2. Fahrenheit to Celsius & Kelvin\n",
      "3. Kelvin to Celsius & Fahrenheit\n",
      "4. Exit\n"
     ]
    },
    {
     "name": "stdin",
     "output_type": "stream",
     "text": [
      "Enter your choice (1/2/3/4):  1\n",
      "Enter temperature in Celsius:  38\n"
     ]
    },
    {
     "name": "stdout",
     "output_type": "stream",
     "text": [
      "Fahrenheit: 100.40\n",
      "Kelvin: 311.15\n",
      "\n",
      "--- Temperature Converter Menu ---\n",
      "1. Celsius to Fahrenheit & Kelvin\n",
      "2. Fahrenheit to Celsius & Kelvin\n",
      "3. Kelvin to Celsius & Fahrenheit\n",
      "4. Exit\n"
     ]
    },
    {
     "name": "stdin",
     "output_type": "stream",
     "text": [
      "Enter your choice (1/2/3/4):  2\n",
      "Enter temperature in Fahrenheit:  98\n"
     ]
    },
    {
     "name": "stdout",
     "output_type": "stream",
     "text": [
      "Celsius: 36.67\n",
      "Kelvin: 309.82\n",
      "\n",
      "--- Temperature Converter Menu ---\n",
      "1. Celsius to Fahrenheit & Kelvin\n",
      "2. Fahrenheit to Celsius & Kelvin\n",
      "3. Kelvin to Celsius & Fahrenheit\n",
      "4. Exit\n"
     ]
    },
    {
     "name": "stdin",
     "output_type": "stream",
     "text": [
      "Enter your choice (1/2/3/4):  4\n"
     ]
    },
    {
     "name": "stdout",
     "output_type": "stream",
     "text": [
      "Exiting the program. Goodbye!\n"
     ]
    }
   ],
   "source": [
    "# Temperature Converter\n",
    "\n",
    "# Step 1: Define conversion functions\n",
    "def celsius_to_fahrenheit(celsius):\n",
    "  return (celsius * 9/5) + 32\n",
    "\n",
    "def celsius_to_kelvin(celsius):\n",
    "  return celsius + 273.15\n",
    "\n",
    "def fahrenheit_to_celsius(fahrenheit):\n",
    "  return (fahrenheit - 32) * 5/9\n",
    "\n",
    "def fahrenheit_to_kelvin(fahrenheit):\n",
    "  return (fahrenheit - 32) * 5/9 + 273.15\n",
    "\n",
    "def kelvin_to_celsius(kelvin):\n",
    "  return kelvin - 273.15\n",
    "\n",
    "def kelvin_to_fahrenheit(kelvin):\n",
    "  return (kelvin - 273.15) * 9/5 + 32\n",
    "\n",
    "# Step 2: Display the menu\n",
    "def show_menu():\n",
    "  print(\"\\n--- Temperature Converter Menu ---\")\n",
    "  print(\"1. Celsius to Fahrenheit & Kelvin\")\n",
    "  print(\"2. Fahrenheit to Celsius & Kelvin\")\n",
    "  print(\"3. Kelvin to Celsius & Fahrenheit\")\n",
    "  print(\"4. Exit\")\n",
    "\n",
    "# Step 3: Main Program Loop\n",
    "while True:\n",
    "  show_menu()\n",
    "  choice = input(\"Enter your choice (1/2/3/4): \")\n",
    "\n",
    "  if choice == '1':\n",
    "    celsius = float(input(\"Enter temperature in Celsius: \"))\n",
    "    print(f\"Fahrenheit: {celsius_to_fahrenheit(celsius):.2f}\")\n",
    "    print(f\"Kelvin: {celsius_to_kelvin(celsius):.2f}\")\n",
    "  elif choice == '2':\n",
    "    fahrenheit = float(input(\"Enter temperature in Fahrenheit: \"))\n",
    "    print(f\"Celsius: {fahrenheit_to_celsius(fahrenheit):.2f}\")\n",
    "    print(f\"Kelvin: {fahrenheit_to_kelvin(fahrenheit):.2f}\")\n",
    "  elif choice == '3':\n",
    "    kelvin = float(input(\"Enter temperature in Kelvin: \"))\n",
    "    print(f\"Celsius: {kelvin_to_celsius(kelvin):.2f}\")\n",
    "    print(f\"Fahrenheit: {kelvin_to_fahrenheit(kelvin):.2f}\")\n",
    "  elif choice == '4':\n",
    "    print(\"Exiting the program. Goodbye!\")\n",
    "    break\n",
    "  else:\n",
    "    print(\"Invalid choice. Please select a valid option.\")"
   ]
  }
 ],
 "metadata": {
  "kernelspec": {
   "display_name": "Python 3 (ipykernel)",
   "language": "python",
   "name": "python3"
  },
  "language_info": {
   "codemirror_mode": {
    "name": "ipython",
    "version": 3
   },
   "file_extension": ".py",
   "mimetype": "text/x-python",
   "name": "python",
   "nbconvert_exporter": "python",
   "pygments_lexer": "ipython3",
   "version": "3.12.7"
  }
 },
 "nbformat": 4,
 "nbformat_minor": 5
}
