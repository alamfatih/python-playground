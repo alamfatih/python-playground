{
 "cells": [
  {
   "cell_type": "markdown",
   "id": "5bb51ffd-407f-4a99-a428-91be4e9015ec",
   "metadata": {},
   "source": [
    "# ⚙️ Implementasi Aplikasi Penampil Resep dari File Teks dengan Python"
   ]
  },
  {
   "cell_type": "markdown",
   "id": "be7e709e-3e9c-4c88-af30-9af4920451b9",
   "metadata": {},
   "source": [
    "Berikut adalah skrip Python untuk aplikasi penampil resep:\n",
    "\n",
    "* **Fungsi `load_recipes(file_path)`:** Fungsi ini membaca file teks (`recipes.txt`), memproses konten untuk memisahkan resep berdasarkan baris kosong, dan kemudian memparsing setiap resep untuk mendapatkan nama, bahan, dan instruksi. Resep disimpan dalam dictionary dengan nama resep sebagai kunci. Fungsi ini juga menangani `FileNotFoundError`.\n",
    "* **Fungsi `show_menu()`:** Menampilkan opsi menu kepada pengguna.\n",
    "* **Fungsi `view_recipe(recipes)`:** Meminta nama resep dari pengguna dan menampilkan detail bahan dan instruksinya jika resep ditemukan dalam dictionary `recipes`.\n",
    "* **Loop Utama (`while True`):** Program terus berjalan hingga pengguna memilih opsi untuk keluar.\n",
    "* **Penanganan Pilihan:** Berdasarkan input pengguna, fungsi yang sesuai akan dipanggil untuk melihat resep berdasarkan nama atau menampilkan daftar semua resep.\n",
    "* **Variabel `recipe_file`:** Menentukan nama file teks yang berisi resep.\n",
    "\n",
    "Pastikan file `recipes.txt` ada di direktori yang sama dengan skrip ini dan ikuti format penulisan resep yang dijelaskan. Jalankan sel kode di bawah untuk melihat resep-resepnya!"
   ]
  },
  {
   "cell_type": "code",
   "execution_count": null,
   "id": "960808cf-67d4-4333-b3f5-8a1e72e71830",
   "metadata": {},
   "outputs": [
    {
     "name": "stdout",
     "output_type": "stream",
     "text": [
      "\n",
      "--- Recipe Viewer Menu ---\n",
      "1. View Recipe by Name\n",
      "2. List All Recipes\n",
      "3. Exit\n"
     ]
    },
    {
     "name": "stdin",
     "output_type": "stream",
     "text": [
      "Enter your choice (1/2/3):  2\n"
     ]
    },
    {
     "name": "stdout",
     "output_type": "stream",
     "text": [
      "\n",
      "--- All Recipes ---\n",
      "Pancakes\n",
      "Salad\n",
      "Smoothie\n",
      "\n",
      "--- Recipe Viewer Menu ---\n",
      "1. View Recipe by Name\n",
      "2. List All Recipes\n",
      "3. Exit\n"
     ]
    },
    {
     "name": "stdin",
     "output_type": "stream",
     "text": [
      "Enter your choice (1/2/3):  1\n",
      "Enter the name of the recipe:  Pancakes\n"
     ]
    },
    {
     "name": "stdout",
     "output_type": "stream",
     "text": [
      "\n",
      "--- Recipe Pancakes Details ---\n",
      "Ingredients: Flour, Milk, Eggs, Sugar\n",
      "Instructions: Mix the ingredients and fry.\n",
      "\n",
      "--- Recipe Viewer Menu ---\n",
      "1. View Recipe by Name\n",
      "2. List All Recipes\n",
      "3. Exit\n"
     ]
    },
    {
     "name": "stdin",
     "output_type": "stream",
     "text": [
      "Enter your choice (1/2/3):  1\n",
      "Enter the name of the recipe:  Salad\n"
     ]
    },
    {
     "name": "stdout",
     "output_type": "stream",
     "text": [
      "\n",
      "--- Recipe Salad Details ---\n",
      "Ingredients: Lettuce, Tomato, Cucumber, Dressing\n",
      "Instructions: Chop ingredients and mix\n",
      "\n",
      "--- Recipe Viewer Menu ---\n",
      "1. View Recipe by Name\n",
      "2. List All Recipes\n",
      "3. Exit\n"
     ]
    }
   ],
   "source": [
    "## Recipe Viewer App\n",
    "\n",
    "# Step 1: Load Recipes from File\n",
    "def load_recipes(file_path):\n",
    "  try:\n",
    "    with open(file_path, \"r\") as file:\n",
    "      content = file.read()\n",
    "      recipes = content.split(\"\\n\\n\")\n",
    "      recipe_dict = {}\n",
    "      for recipe in recipes:\n",
    "        lines = recipe.split(\"\\n\")\n",
    "        if len(lines) >= 3:\n",
    "          name = lines[0].strip()\n",
    "          ingredients = lines[1].replace('Ingredients: ','').strip()\n",
    "          instructions = lines[2].replace('Instructions: ', '').strip()\n",
    "          recipe_dict[name] = {\"ingredients\": ingredients, \"instructions\": instructions}\n",
    "      return recipe_dict\n",
    "  except FileNotFoundError:\n",
    "    print(\"File not found.\")\n",
    "    return {}\n",
    "\n",
    "# Step 2: Display Recipe Menu\n",
    "def show_menu():\n",
    "  print(\"\\n--- Recipe Viewer Menu ---\")\n",
    "  print(\"1. View Recipe by Name\")\n",
    "  print(\"2. List All Recipes\")\n",
    "  print(\"3. Exit\")\n",
    "\n",
    "# Step 3: Display Recipe Details\n",
    "def view_recipe(recipes):\n",
    "  name = input(\"Enter the name of the recipe: \").strip()\n",
    "  if name in recipes:\n",
    "    print(f\"\\n--- Recipe {name} Details ---\")\n",
    "    print(f\"Ingredients: {recipes[name]['ingredients']}\")\n",
    "    print(f\"Instructions: {recipes[name]['instructions']}\")\n",
    "  else:\n",
    "    print(\"Recipe not found.\")\n",
    "\n",
    "# Step 4: Main Program\n",
    "recipe_file = \"recipes.txt\"\n",
    "recipes = load_recipes(recipe_file)\n",
    "\n",
    "while True:\n",
    "  show_menu()\n",
    "  choice = input(\"Enter your choice (1/2/3): \")\n",
    "\n",
    "  if choice == '1':\n",
    "    view_recipe(recipes)\n",
    "  elif choice == '2':\n",
    "    print(\"\\n--- All Recipes ---\")\n",
    "    for name in recipes:\n",
    "      print(name)\n",
    "  elif choice == '3':\n",
    "    print(\"Exiting the program.\")\n",
    "    break\n",
    "  else:\n",
    "    print(\"Invalid choice. Please try again.\")"
   ]
  }
 ],
 "metadata": {
  "kernelspec": {
   "display_name": "Python 3 (ipykernel)",
   "language": "python",
   "name": "python3"
  },
  "language_info": {
   "codemirror_mode": {
    "name": "ipython",
    "version": 3
   },
   "file_extension": ".py",
   "mimetype": "text/x-python",
   "name": "python",
   "nbconvert_exporter": "python",
   "pygments_lexer": "ipython3",
   "version": "3.12.7"
  }
 },
 "nbformat": 4,
 "nbformat_minor": 5
}
