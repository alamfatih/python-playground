{
 "cells": [
  {
   "cell_type": "markdown",
   "id": "5c931f75-748f-4ee5-8e85-5a709f367595",
   "metadata": {},
   "source": [
    "# ⚙️ Implementasi Generator Laporan Siswa dengan Modul `csv` di Python"
   ]
  },
  {
   "cell_type": "markdown",
   "id": "e649a18a-696d-4dec-ba23-5a865f61f715",
   "metadata": {},
   "source": [
    "Berikut adalah skrip Python untuk menghasilkan laporan nilai siswa:\n",
    "\n",
    "* **Fungsi `process_student_data(input_file, output_file)`:**\n",
    "    * Membuka dan membaca data siswa dari file `input_file` (diasumsikan berformat CSV) menggunakan `csv.DictReader`.\n",
    "    * Iterasi melalui setiap baris (data siswa), mengambil nama dan nilai mata pelajaran.\n",
    "    * Mengonversi nilai mata pelajaran menjadi integer dan menghitung nilai rata-rata, membulatkannya hingga dua desimal.\n",
    "    * Menentukan status kelulusan berdasarkan nilai rata-rata (>= 60 adalah \"Pass\").\n",
    "    * Menyimpan data siswa yang telah diproses (termasuk rata-rata dan status) ke dalam list `student_reports`.\n",
    "    * Membuka file `output_file` untuk penulisan dalam format CSV menggunakan `csv.DictWriter`.\n",
    "    * Menulis header kolom ke file output.\n",
    "    * Menulis semua data laporan siswa dari list `student_reports` ke file output.\n",
    "    * Menampilkan pesan keberhasilan atau pesan error jika file tidak ditemukan atau format kolom tidak sesuai.\n",
    "* **Penanganan Error:** Blok `try-except` digunakan untuk menangani `FileNotFoundError` (jika file input tidak ditemukan), `KeyError` (jika nama kolom di file input tidak sesuai), dan `Exception` umum untuk error lainnya.\n",
    "* **Variabel `input_file` dan `output_file`:** Menentukan nama file input dan output.\n",
    "* **Pemanggilan Fungsi:** Memanggil fungsi `process_student_data` dengan nama file yang ditentukan.\n",
    "\n",
    "Pastikan file `students.csv` berada di direktori yang sama dan memiliki header kolom 'Name', 'Math', 'Science', dan 'English'. Jalankan sel kode di bawah untuk menghasilkan laporan siswa!"
   ]
  },
  {
   "cell_type": "code",
   "execution_count": 11,
   "id": "1112092f-5624-40b4-8878-20ee84de3332",
   "metadata": {},
   "outputs": [
    {
     "name": "stdout",
     "output_type": "stream",
     "text": [
      "Student report generated in student_report.csv successfully.\n"
     ]
    }
   ],
   "source": [
    "# Student Report Generator\n",
    "import csv\n",
    "\n",
    "# Step 1: Read student data and calculate avergaes\n",
    "def process_student_data(input_file, output_file):\n",
    "  try:\n",
    "    with open(input_file, 'r') as infile:\n",
    "      reader = csv.DictReader(infile)\n",
    "      student_reports = []\n",
    "\n",
    "      for row in reader:\n",
    "        name = row['Name']\n",
    "        math = int(row['Math'])\n",
    "        science = int(row['Science'])\n",
    "        english = int(row['English'])\n",
    "        average = round((math + science + english) / 3, 2)\n",
    "        status = \"Pass\" if average >= 60 else \"Fail\"\n",
    "\n",
    "        student_reports.append({\n",
    "          'Name': name,\n",
    "          'Math': math,\n",
    "          'Science': science,\n",
    "          'English': english,\n",
    "          'Average': average,\n",
    "          'Status': status\n",
    "        })\n",
    "\n",
    "    # Step 2: Write processed data to a new CSV\n",
    "    with open(output_file, 'w', newline='') as outfile:\n",
    "      fieldnames = ['Name', 'Math', 'Science', 'English', 'Average', 'Status']\n",
    "      writer = csv.DictWriter(outfile, fieldnames=fieldnames)\n",
    "      writer.writeheader()\n",
    "      writer.writerows(student_reports)\n",
    "\n",
    "    print(f\"Student report generated in {output_file} successfully.\")\n",
    "\n",
    "  except FileNotFoundError:\n",
    "    print(f\"Error: File '{input_file}' not found\")\n",
    "  except KeyError:\n",
    "    print(\"Error: Invalid column names in the input file\")\n",
    "  except Exception as e:\n",
    "    print(f\"An error occurred: {e}\")\n",
    "\n",
    "# Main Program\n",
    "input_file = 'students.csv'\n",
    "output_file = 'student_report.csv'\n",
    "\n",
    "process_student_data(input_file, output_file)"
   ]
  }
 ],
 "metadata": {
  "kernelspec": {
   "display_name": "Python 3 (ipykernel)",
   "language": "python",
   "name": "python3"
  },
  "language_info": {
   "codemirror_mode": {
    "name": "ipython",
    "version": 3
   },
   "file_extension": ".py",
   "mimetype": "text/x-python",
   "name": "python",
   "nbconvert_exporter": "python",
   "pygments_lexer": "ipython3",
   "version": "3.12.7"
  }
 },
 "nbformat": 4,
 "nbformat_minor": 5
}
