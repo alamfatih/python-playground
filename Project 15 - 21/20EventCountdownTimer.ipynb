{
 "cells": [
  {
   "cell_type": "markdown",
   "id": "dd4b1952-c772-48da-b276-25fd7c2909fd",
   "metadata": {},
   "source": [
    "# 🗓️ Implementasi Penghitung Mundur Acara dengan Modul `datetime` dan `time` di Python"
   ]
  },
  {
   "cell_type": "markdown",
   "id": "44eec7d9-0349-4887-b4f3-fafe648c4d81",
   "metadata": {},
   "source": [
    "Berikut adalah skrip Python untuk menghitung mundur waktu hingga acara tertentu:\n",
    "\n",
    "* **Fungsi `get_event_datetime()`:** Meminta pengguna memasukkan tanggal dan waktu acara dalam format yang ditentukan dan mengonversinya menjadi objek `datetime`. Menangani kesalahan jika format input tidak valid.\n",
    "* **Fungsi `calculate_time_remaining(event_date)`:** Menghitung selisih waktu antara waktu acara yang ditentukan dan waktu saat ini (`datetime.now()`), menghasilkan objek `timedelta`.\n",
    "* **Fungsi `display_countdown(time_left)`:** Menerima objek `timedelta` dan menampilkan sisa waktu dalam format hari, jam, menit, dan detik.\n",
    "* **Fungsi `start_countdown(event_date)`:** Melakukan loop tak terbatas yang terus menghitung dan menampilkan sisa waktu. Loop akan berhenti ketika sisa waktu kurang dari atau sama dengan nol, dan menampilkan pesan \"Countdown Complete!\". Fungsi `time.sleep(1)` digunakan untuk memberikan jeda 1 detik antara setiap pembaruan hitungan mundur.\n",
    "* **Program Utama:** Memanggil `get_event_datetime()` untuk mendapatkan waktu acara dari pengguna. Jika input valid, program akan memulai hitungan mundur menggunakan `start_countdown()`.\n",
    "\n",
    "Atur waktu acara spesialmu dan saksikan hitungan mundurnya!"
   ]
  },
  {
   "cell_type": "code",
   "execution_count": 3,
   "id": "057354bc-0697-4ff9-aafd-b0ab04ecf5ae",
   "metadata": {},
   "outputs": [
    {
     "name": "stdin",
     "output_type": "stream",
     "text": [
      "Enter the event date (YYYY-MM-DD HH:MM:SS):  2025-05-02 17:57:00\n"
     ]
    },
    {
     "name": "stdout",
     "output_type": "stream",
     "text": [
      "Event set for: 2025-05-02 17:57:00\n",
      "\n",
      "Time Remaining: 0 days, 0 hours, 0 minutes, 54 seconds\n",
      "Time Remaining: 0 days, 0 hours, 0 minutes, 53 seconds\n",
      "Time Remaining: 0 days, 0 hours, 0 minutes, 52 seconds\n",
      "Time Remaining: 0 days, 0 hours, 0 minutes, 51 seconds\n",
      "Time Remaining: 0 days, 0 hours, 0 minutes, 50 seconds\n",
      "Time Remaining: 0 days, 0 hours, 0 minutes, 49 seconds\n",
      "Time Remaining: 0 days, 0 hours, 0 minutes, 48 seconds\n",
      "Time Remaining: 0 days, 0 hours, 0 minutes, 47 seconds\n",
      "Time Remaining: 0 days, 0 hours, 0 minutes, 46 seconds\n",
      "Time Remaining: 0 days, 0 hours, 0 minutes, 45 seconds\n",
      "Time Remaining: 0 days, 0 hours, 0 minutes, 44 seconds\n",
      "Time Remaining: 0 days, 0 hours, 0 minutes, 43 seconds\n",
      "Time Remaining: 0 days, 0 hours, 0 minutes, 42 seconds\n",
      "Time Remaining: 0 days, 0 hours, 0 minutes, 41 seconds\n",
      "Time Remaining: 0 days, 0 hours, 0 minutes, 40 seconds\n",
      "Time Remaining: 0 days, 0 hours, 0 minutes, 39 seconds\n",
      "Time Remaining: 0 days, 0 hours, 0 minutes, 38 seconds\n",
      "Time Remaining: 0 days, 0 hours, 0 minutes, 37 seconds\n",
      "Time Remaining: 0 days, 0 hours, 0 minutes, 36 seconds\n",
      "Time Remaining: 0 days, 0 hours, 0 minutes, 35 seconds\n",
      "Time Remaining: 0 days, 0 hours, 0 minutes, 34 seconds\n",
      "Time Remaining: 0 days, 0 hours, 0 minutes, 33 seconds\n",
      "Time Remaining: 0 days, 0 hours, 0 minutes, 32 seconds\n",
      "Time Remaining: 0 days, 0 hours, 0 minutes, 31 seconds\n",
      "Time Remaining: 0 days, 0 hours, 0 minutes, 30 seconds\n",
      "Time Remaining: 0 days, 0 hours, 0 minutes, 29 seconds\n",
      "Time Remaining: 0 days, 0 hours, 0 minutes, 28 seconds\n",
      "Time Remaining: 0 days, 0 hours, 0 minutes, 27 seconds\n",
      "Time Remaining: 0 days, 0 hours, 0 minutes, 26 seconds\n",
      "Time Remaining: 0 days, 0 hours, 0 minutes, 25 seconds\n",
      "Time Remaining: 0 days, 0 hours, 0 minutes, 24 seconds\n",
      "Time Remaining: 0 days, 0 hours, 0 minutes, 23 seconds\n",
      "Time Remaining: 0 days, 0 hours, 0 minutes, 22 seconds\n",
      "Time Remaining: 0 days, 0 hours, 0 minutes, 21 seconds\n",
      "Time Remaining: 0 days, 0 hours, 0 minutes, 20 seconds\n",
      "Time Remaining: 0 days, 0 hours, 0 minutes, 19 seconds\n",
      "Time Remaining: 0 days, 0 hours, 0 minutes, 18 seconds\n",
      "Time Remaining: 0 days, 0 hours, 0 minutes, 17 seconds\n",
      "Time Remaining: 0 days, 0 hours, 0 minutes, 16 seconds\n",
      "Time Remaining: 0 days, 0 hours, 0 minutes, 15 seconds\n",
      "Time Remaining: 0 days, 0 hours, 0 minutes, 14 seconds\n",
      "Time Remaining: 0 days, 0 hours, 0 minutes, 13 seconds\n",
      "Time Remaining: 0 days, 0 hours, 0 minutes, 12 seconds\n",
      "Time Remaining: 0 days, 0 hours, 0 minutes, 11 seconds\n",
      "Time Remaining: 0 days, 0 hours, 0 minutes, 10 seconds\n",
      "Time Remaining: 0 days, 0 hours, 0 minutes, 9 seconds\n",
      "Time Remaining: 0 days, 0 hours, 0 minutes, 8 seconds\n",
      "Time Remaining: 0 days, 0 hours, 0 minutes, 7 seconds\n",
      "Time Remaining: 0 days, 0 hours, 0 minutes, 6 seconds\n",
      "Time Remaining: 0 days, 0 hours, 0 minutes, 5 seconds\n",
      "Time Remaining: 0 days, 0 hours, 0 minutes, 4 seconds\n",
      "Time Remaining: 0 days, 0 hours, 0 minutes, 3 seconds\n",
      "Time Remaining: 0 days, 0 hours, 0 minutes, 2 seconds\n",
      "Time Remaining: 0 days, 0 hours, 0 minutes, 1 seconds\n",
      "Time Remaining: 0 days, 0 hours, 0 minutes, 0 seconds\n",
      "Countdown Complete!\n"
     ]
    }
   ],
   "source": [
    "# Event Countdown Timer\n",
    "from datetime import datetime, timedelta\n",
    "import time\n",
    "\n",
    "# Step 1: Get Event Date and Time from User\n",
    "def get_event_datetime():\n",
    "  try:\n",
    "    date_input = input(\"Enter the event date (YYYY-MM-DD HH:MM:SS): \")\n",
    "    return datetime.strptime(date_input, \"%Y-%m-%d %H:%M:%S\")\n",
    "  except ValueError:\n",
    "    print(\"Invalid date format. Please use YYYY-MM-DD HH:MM:SS format.\")\n",
    "    return None\n",
    "\n",
    "# Step 2: Calculating Time Remaining\n",
    "def calculate_time_remaining(event_date):\n",
    "  current_datetime = datetime.now()\n",
    "  time_difference = event_date - current_datetime\n",
    "  return time_difference\n",
    "\n",
    "# Step 3: Display Countdown\n",
    "def display_countdown(time_left):\n",
    "  days = time_left.days\n",
    "  hours, remainder = divmod(time_left.seconds, 3600)\n",
    "  minutes, seconds = divmod(remainder, 60)\n",
    "  print(f\"\\nTime Remaining: {days} days, {hours} hours, {minutes} minutes, {seconds} seconds\", end=\"\")\n",
    "\n",
    "# Step 4: Main Countdown Loop\n",
    "def start_countdown(event_date):\n",
    "  while True:\n",
    "    time_left = calculate_time_remaining(event_date)\n",
    "    if time_left.total_seconds() <= 0:\n",
    "      print(\"\\nCountdown Complete!\")\n",
    "      break\n",
    "    display_countdown(time_left)\n",
    "    time.sleep(1)\n",
    "\n",
    "\n",
    "# Main Program\n",
    "event_datetime = get_event_datetime()\n",
    "if event_datetime:\n",
    "  print(f\"Event set for: {event_datetime}\")\n",
    "  start_countdown(event_datetime)"
   ]
  },
  {
   "cell_type": "code",
   "execution_count": null,
   "id": "abcef70c-d23d-49f1-9f1f-8f9b7d2c023d",
   "metadata": {},
   "outputs": [],
   "source": []
  }
 ],
 "metadata": {
  "kernelspec": {
   "display_name": "Python 3 (ipykernel)",
   "language": "python",
   "name": "python3"
  },
  "language_info": {
   "codemirror_mode": {
    "name": "ipython",
    "version": 3
   },
   "file_extension": ".py",
   "mimetype": "text/x-python",
   "name": "python",
   "nbconvert_exporter": "python",
   "pygments_lexer": "ipython3",
   "version": "3.12.7"
  }
 },
 "nbformat": 4,
 "nbformat_minor": 5
}
