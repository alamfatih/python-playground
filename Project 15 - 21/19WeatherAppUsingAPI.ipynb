{
 "cells": [
  {
   "cell_type": "markdown",
   "id": "778eeff7-f41e-48eb-ab21-635e228a4f34",
   "metadata": {},
   "source": [
    "# ⚙️ Implementasi Aplikasi Cuaca dengan OpenWeatherMap API di Python"
   ]
  },
  {
   "cell_type": "markdown",
   "id": "28f70c7f-3ef9-4bb0-9705-f50f0a7ad2b2",
   "metadata": {},
   "source": [
    "Berikut adalah skrip Python untuk mengambil dan menampilkan informasi cuaca:\n",
    "\n",
    "* **Pengaturan API:** Mendefinisikan `API_KEY` untuk otentikasi dengan OpenWeatherMap dan `BASE_URL` untuk endpoint API cuaca saat ini.\n",
    "* **Fungsi `get_weather(city)`:**\n",
    "    * Membuat URL permintaan API dengan nama kota, kunci API, dan unit suhu (Celsius).\n",
    "    * Mengirimkan permintaan GET ke API.\n",
    "    * Memproses respons JSON jika status kode adalah 200 (berhasil), mengekstrak informasi cuaca yang relevan (Kota, Suhu, Kondisi Cuaca, Kelembaban, Kecepatan Angin), dan mengembalikannya dalam bentuk dictionary.\n",
    "    * Menangani kasus jika kota tidak ditemukan (status kode 404) atau terjadi error lain.\n",
    "* **Fungsi `display_weather(weather)`:** Menerima dictionary informasi cuaca dan menampilkannya dengan format yang mudah dibaca.\n",
    "* **Loop Utama (`while True`):** Program terus berjalan hingga pengguna memasukkan 'q' untuk keluar. Program meminta nama kota, memanggil fungsi `get_weather`, dan jika data cuaca berhasil diambil, memanggil fungsi `display_weather`.\n",
    "\n",
    "Pastikan kamu telah mengganti `\"YOUR_API_KEY\"` dengan kunci API yang valid dari OpenWeatherMap agar aplikasi ini dapat berfungsi. Jalankan sel kode di bawah untuk melihat cuaca di berbagai kota!"
   ]
  },
  {
   "cell_type": "code",
   "execution_count": 3,
   "id": "9702f55d-6822-4c77-bc3e-d4a9951064b7",
   "metadata": {},
   "outputs": [
    {
     "name": "stdout",
     "output_type": "stream",
     "text": [
      "\n",
      "--- Weather App ---\n"
     ]
    },
    {
     "name": "stdin",
     "output_type": "stream",
     "text": [
      "Enter a city name (or 'q' to quit):  London\n"
     ]
    },
    {
     "name": "stdout",
     "output_type": "stream",
     "text": [
      "\n",
      "--- Weather Information ---\n",
      "City: London\n",
      "Temperature: 21.73C\n",
      "Weather: Clear Sky\n",
      "Humidity: 61%\n",
      "Wind Speed: 1.54m/s\n",
      "\n",
      "--- Weather App ---\n"
     ]
    },
    {
     "name": "stdin",
     "output_type": "stream",
     "text": [
      "Enter a city name (or 'q' to quit):  q\n"
     ]
    }
   ],
   "source": [
    "# Weather App using OpenWeatherMap API\n",
    "import requests\n",
    "\n",
    "#Step 1: API SETUP\n",
    "API_KEY = \"edf2e4659d181acefd7bc4bcd7412597\"\n",
    "BASE_URL = \"https://api.openweathermap.org/data/2.5/weather\"\n",
    "\n",
    "# Step 2: Get Weather Data\n",
    "def get_weather(city):\n",
    "  try:\n",
    "    url = f\"{BASE_URL}?q={city}&appid={API_KEY}&units=metric\"\n",
    "    response = requests.get(url)\n",
    "    if response.status_code == 200:\n",
    "      data = response.json()\n",
    "      weather = {\n",
    "          \"City\": data[\"name\"],\n",
    "          \"Temperature\": f\"{data['main']['temp']}C\",\n",
    "          \"Weather\": data[\"weather\"][0]['description'].title(),\n",
    "          \"Humidity\": f\"{data['main']['humidity']}%\",\n",
    "          \"Wind Speed\": f\"{data['wind']['speed']}m/s\"\n",
    "      }\n",
    "      return weather\n",
    "    elif response.status_code == 404:\n",
    "      print(\"City not found.\")\n",
    "    else:\n",
    "      print(\"An error occurred. Status Code: \", response.status_code)\n",
    "  except Exception as e:\n",
    "    print(\"An error occurred: \", e)\n",
    "  return None\n",
    "\n",
    "# Step 3: Display Weather Information\n",
    "def display_weather(weather):\n",
    "  print(\"\\n--- Weather Information ---\")\n",
    "  for key,value in weather.items():\n",
    "    print(f\"{key}: {value}\")\n",
    "\n",
    "# Step 4: Main Program Loop\n",
    "while True:\n",
    "  print(\"\\n--- Weather App ---\")\n",
    "  city = input(\"Enter a city name (or 'q' to quit): \").strip()\n",
    "  if city.lower() == 'q':\n",
    "    break\n",
    "  weather = get_weather(city)\n",
    "  if weather:\n",
    "    display_weather(weather)"
   ]
  }
 ],
 "metadata": {
  "kernelspec": {
   "display_name": "Python 3 (ipykernel)",
   "language": "python",
   "name": "python3"
  },
  "language_info": {
   "codemirror_mode": {
    "name": "ipython",
    "version": 3
   },
   "file_extension": ".py",
   "mimetype": "text/x-python",
   "name": "python",
   "nbconvert_exporter": "python",
   "pygments_lexer": "ipython3",
   "version": "3.12.7"
  }
 },
 "nbformat": 4,
 "nbformat_minor": 5
}
