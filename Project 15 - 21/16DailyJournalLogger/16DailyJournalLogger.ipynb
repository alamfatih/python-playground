{
 "cells": [
  {
   "cell_type": "markdown",
   "id": "690d869c-2f21-4b71-802b-11ed60e387ec",
   "metadata": {},
   "source": [
    "# 💾 Implementasi Aplikasi Jurnal Harian dengan File Teks di Python"
   ]
  },
  {
   "cell_type": "markdown",
   "id": "11789de1-9fe7-49be-bb80-8cd70f390135",
   "metadata": {},
   "source": [
    "Berikut adalah skrip Python untuk aplikasi jurnal harian sederhana:\n",
    "\n",
    "* **Konstanta `JOURNAL_FILE`:** Menentukan nama file teks (`daily_journal.txt`) tempat catatan harian akan disimpan.\n",
    "* **Fungsi `add_entry()`:** Meminta input catatan dari pengguna dan menambahkannya ke akhir file (`daily_journal.txt`) dalam mode 'append' (`'a'`).\n",
    "* **Fungsi `view_entries()`:** Membuka dan membaca isi file (`daily_journal.txt`) dalam mode 'read' (`'r'`). Menangani kasus jika file tidak ditemukan atau kosong.\n",
    "* **Fungsi `search_entries()`:** Meminta kata kunci dari pengguna, membaca setiap baris dari file, dan menampilkan baris yang mengandung kata kunci tersebut (case-insensitive).\n",
    "* **Fungsi `show_menu()`:** Menampilkan opsi menu kepada pengguna.\n",
    "* **Loop Utama (`while True`):** Program terus berjalan hingga pengguna memilih opsi untuk keluar.\n",
    "* **Penanganan Pilihan:** Berdasarkan input pengguna, fungsi yang sesuai akan dipanggil.\n",
    "* **Validasi Input:** Menangani pilihan menu yang tidak valid.\n",
    "\n",
    "Jalankan sel kode di bawah untuk mulai mencatat hari ini!"
   ]
  },
  {
   "cell_type": "code",
   "execution_count": null,
   "id": "27029bde-5f4d-4672-a00b-a234d79f2ec1",
   "metadata": {},
   "outputs": [
    {
     "name": "stdout",
     "output_type": "stream",
     "text": [
      "\n",
      "--- Daily Journal Logger ---\n",
      "1. Add a new entry\n",
      "2. View all entries\n",
      "3. Search entries by keyword\n",
      "4. Exit\n"
     ]
    },
    {
     "name": "stdin",
     "output_type": "stream",
     "text": [
      "Enter your choice (1-4):  2\n"
     ]
    },
    {
     "name": "stdout",
     "output_type": "stream",
     "text": [
      "No entries found. Start writing today\n",
      "\n",
      "--- Daily Journal Logger ---\n",
      "1. Add a new entry\n",
      "2. View all entries\n",
      "3. Search entries by keyword\n",
      "4. Exit\n"
     ]
    },
    {
     "name": "stdin",
     "output_type": "stream",
     "text": [
      "Enter your choice (1-4):  1\n",
      "Write your journal entry:  Day 1: Learn Python\n"
     ]
    },
    {
     "name": "stdout",
     "output_type": "stream",
     "text": [
      "Entry added successfully!\n",
      "\n",
      "--- Daily Journal Logger ---\n",
      "1. Add a new entry\n",
      "2. View all entries\n",
      "3. Search entries by keyword\n",
      "4. Exit\n"
     ]
    },
    {
     "name": "stdin",
     "output_type": "stream",
     "text": [
      "Enter your choice (1-4):  1\n",
      "Write your journal entry:  Day 2: Learn Data Analytics\n"
     ]
    },
    {
     "name": "stdout",
     "output_type": "stream",
     "text": [
      "Entry added successfully!\n",
      "\n",
      "--- Daily Journal Logger ---\n",
      "1. Add a new entry\n",
      "2. View all entries\n",
      "3. Search entries by keyword\n",
      "4. Exit\n"
     ]
    },
    {
     "name": "stdin",
     "output_type": "stream",
     "text": [
      "Enter your choice (1-4):  1\n",
      "Write your journal entry:  Day 3: Learn Data Visualization with Tableau\n"
     ]
    },
    {
     "name": "stdout",
     "output_type": "stream",
     "text": [
      "Entry added successfully!\n",
      "\n",
      "--- Daily Journal Logger ---\n",
      "1. Add a new entry\n",
      "2. View all entries\n",
      "3. Search entries by keyword\n",
      "4. Exit\n"
     ]
    },
    {
     "name": "stdin",
     "output_type": "stream",
     "text": [
      "Enter your choice (1-4):  2\n"
     ]
    },
    {
     "name": "stdout",
     "output_type": "stream",
     "text": [
      "\n",
      "--- Your Journal Entries ---\n",
      "Day 1: Learn Python\n",
      "Day 2: Learn Data Analytics\n",
      "Day 3: Learn Data Visualization with Tableau\n",
      "\n",
      "\n",
      "--- Daily Journal Logger ---\n",
      "1. Add a new entry\n",
      "2. View all entries\n",
      "3. Search entries by keyword\n",
      "4. Exit\n"
     ]
    }
   ],
   "source": [
    "# Daily Journal Logger\n",
    "\n",
    "# Step 1: Define the journal file\n",
    "JOURNAL_FILE = 'daily_journal.txt'\n",
    "\n",
    "# Step 2: Add a new entry\n",
    "def add_entry():\n",
    "  entry = input(\"Write your journal entry: \")\n",
    "  with open(JOURNAL_FILE, 'a') as file:\n",
    "    file.write(entry + '\\n')\n",
    "  print(\"Entry added successfully!\")\n",
    "\n",
    "# Step 3: View all entries\n",
    "def view_entries():\n",
    "  try:\n",
    "    with open(JOURNAL_FILE, 'r') as file:\n",
    "      content = file.read()\n",
    "      if content:\n",
    "        print(\"\\n--- Your Journal Entries ---\")\n",
    "        print(content)\n",
    "      else:\n",
    "        print(\"No entries found. Start writing today\")\n",
    "  except FileNotFoundError:\n",
    "    print(\"No journal file found. Add an entry first!\")\n",
    "\n",
    "# Step 4: Search entries by keyword\n",
    "def search_entries():\n",
    "  keyword = input(\"Enter a keyword to search for: \").lower()\n",
    "  try:\n",
    "    with open(JOURNAL_FILE, 'r') as file:\n",
    "      content = file.readlines()\n",
    "      found = False\n",
    "      print(\"\\n--- Search Results ---\")\n",
    "      for entry in content:\n",
    "        if keyword in entry.lower():\n",
    "          print(entry.strip())\n",
    "          found = True\n",
    "      if not found:\n",
    "        print(\"No matching entries found.\")\n",
    "  except FileNotFoundError:\n",
    "    print(\"No journal file found. Add an entry first!\")\n",
    "\n",
    "\n",
    "# Step 5: Display Menu\n",
    "def show_menu():\n",
    "  print(\"\\n--- Daily Journal Logger ---\")\n",
    "  print(\"1. Add a new entry\")\n",
    "  print(\"2. View all entries\")\n",
    "  print(\"3. Search entries by keyword\")\n",
    "  print(\"4. Exit\")\n",
    "\n",
    "# Step 6: Main Program Loop\n",
    "while True:\n",
    "  show_menu()\n",
    "  choice = input(\"Enter your choice (1-4): \").strip()\n",
    "\n",
    "  if choice == '1':\n",
    "    add_entry()\n",
    "  elif choice == '2':\n",
    "    view_entries()\n",
    "  elif choice == '3':\n",
    "    search_entries()\n",
    "  elif choice == '4':\n",
    "    print(\"Exiting the program. Goodbye!\")\n",
    "    break\n",
    "  else:\n",
    "    print(\"Invalid choice. Please enter a number between 1 and 4.\")"
   ]
  }
 ],
 "metadata": {
  "kernelspec": {
   "display_name": "Python 3 (ipykernel)",
   "language": "python",
   "name": "python3"
  },
  "language_info": {
   "codemirror_mode": {
    "name": "ipython",
    "version": 3
   },
   "file_extension": ".py",
   "mimetype": "text/x-python",
   "name": "python",
   "nbconvert_exporter": "python",
   "pygments_lexer": "ipython3",
   "version": "3.12.7"
  }
 },
 "nbformat": 4,
 "nbformat_minor": 5
}
