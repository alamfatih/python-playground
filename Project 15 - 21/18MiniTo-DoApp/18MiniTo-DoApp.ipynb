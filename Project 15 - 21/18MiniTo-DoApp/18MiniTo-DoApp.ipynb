{
 "cells": [
  {
   "cell_type": "markdown",
   "id": "91d1d38b-2b53-47a6-955b-1a1927525d81",
   "metadata": {},
   "source": [
    "# ⚙️ Implementasi Aplikasi To-Do Mini dengan Penyimpanan JSON di Python"
   ]
  },
  {
   "cell_type": "markdown",
   "id": "203e53f9-38b8-454c-aa2c-a12996ede3dd",
   "metadata": {},
   "source": [
    "Berikut adalah skrip Python untuk aplikasi daftar tugas sederhana:\n",
    "\n",
    "* **Penyimpanan JSON (`my_tasks.json`):** Data tugas disimpan dalam file JSON untuk persistensi. Program akan membuat file ini jika belum ada.\n",
    "* **Fungsi `load_tasks()`:** Membaca data tugas dari file JSON.\n",
    "* **Fungsi `save_tasks(tasks)`:** Menyimpan daftar tugas ke dalam file JSON dengan format yang mudah dibaca (`indent=2`).\n",
    "* **Fungsi `add_task()`:** Meminta nama tugas baru dari pengguna dan menambahkannya ke daftar tugas dengan status \"Incomplete\".\n",
    "* **Fungsi `view_tasks()`:** Menampilkan semua tugas beserta nomor urut dan statusnya.\n",
    "* **Fungsi `update_status()`:** Memungkinkan pengguna memilih tugas berdasarkan nomor urut dan mengubah statusnya menjadi \"Complete\" atau \"Incomplete\".\n",
    "* **Fungsi `delete_task()`:** Memungkinkan pengguna memilih tugas berdasarkan nomor urut dan menghapusnya dari daftar.\n",
    "* **Fungsi `display_menu()`:** Menampilkan opsi menu kepada pengguna.\n",
    "* **Loop Utama (`while True`):** Program terus berjalan hingga pengguna memilih opsi untuk keluar.\n",
    "* **Penanganan Input:** Melakukan validasi sederhana untuk input nomor tugas.\n",
    "\n",
    "Jalankan sel kode di bawah untuk mulai mengelola tugasmu!"
   ]
  },
  {
   "cell_type": "code",
   "execution_count": null,
   "id": "12e92202-504d-422f-9700-80543978da0b",
   "metadata": {},
   "outputs": [
    {
     "name": "stdout",
     "output_type": "stream",
     "text": [
      "\n",
      "--- Mini To-Do App ---\n",
      "1. Add a new task\n",
      "2. View all tasks\n",
      "3. Update Task status\n",
      "4. Delete a task\n",
      "5. Exit\n"
     ]
    },
    {
     "name": "stdin",
     "output_type": "stream",
     "text": [
      "Enter your choice (1-5):  1\n",
      "Enter the task name:  Day 1: Learn Python\n"
     ]
    },
    {
     "name": "stdout",
     "output_type": "stream",
     "text": [
      "Task \"Day 1: Learn Python\" added successfully!\n",
      "\n",
      "--- Mini To-Do App ---\n",
      "1. Add a new task\n",
      "2. View all tasks\n",
      "3. Update Task status\n",
      "4. Delete a task\n",
      "5. Exit\n"
     ]
    },
    {
     "name": "stdin",
     "output_type": "stream",
     "text": [
      "Enter your choice (1-5):  1\n",
      "Enter the task name:  Day 2: Learn Data Analytics\n"
     ]
    },
    {
     "name": "stdout",
     "output_type": "stream",
     "text": [
      "Task \"Day 2: Learn Data Analytics\" added successfully!\n",
      "\n",
      "--- Mini To-Do App ---\n",
      "1. Add a new task\n",
      "2. View all tasks\n",
      "3. Update Task status\n",
      "4. Delete a task\n",
      "5. Exit\n"
     ]
    },
    {
     "name": "stdin",
     "output_type": "stream",
     "text": [
      "Enter your choice (1-5):  3\n"
     ]
    },
    {
     "name": "stdout",
     "output_type": "stream",
     "text": [
      "\n",
      "--- To-Do List ---\n",
      "1. Day 1: Learn Python - Incomplete\n",
      "2. Day 2: Learn Data Analytics - Incomplete\n"
     ]
    },
    {
     "name": "stdin",
     "output_type": "stream",
     "text": [
      "Enter the task number to update:  1\n",
      "Enter the new status (Complete/Incomplete):  Complete\n"
     ]
    },
    {
     "name": "stdout",
     "output_type": "stream",
     "text": [
      "Task status updated successfully!\n",
      "\n",
      "--- Mini To-Do App ---\n",
      "1. Add a new task\n",
      "2. View all tasks\n",
      "3. Update Task status\n",
      "4. Delete a task\n",
      "5. Exit\n"
     ]
    },
    {
     "name": "stdin",
     "output_type": "stream",
     "text": [
      "Enter your choice (1-5):  2\n"
     ]
    },
    {
     "name": "stdout",
     "output_type": "stream",
     "text": [
      "\n",
      "--- To-Do List ---\n",
      "1. Day 1: Learn Python - Complete\n",
      "2. Day 2: Learn Data Analytics - Incomplete\n",
      "\n",
      "--- Mini To-Do App ---\n",
      "1. Add a new task\n",
      "2. View all tasks\n",
      "3. Update Task status\n",
      "4. Delete a task\n",
      "5. Exit\n"
     ]
    }
   ],
   "source": [
    "# Mini To-Do App using JSON\n",
    "import json\n",
    "import os\n",
    "\n",
    "# File for storing tasks\n",
    "TASK_FILE = 'my_tasks.json'\n",
    "\n",
    "# Ensure the tasks file exists\n",
    "if not os.path.exists(TASK_FILE):\n",
    "  with open(TASK_FILE, 'w') as file:\n",
    "    json.dump([], file)\n",
    "\n",
    "# Step 1: Load Tasks from JSON\n",
    "def load_tasks():\n",
    "  with open(TASK_FILE, 'r') as file:\n",
    "    return json.load(file)\n",
    "\n",
    "# Step 2: Save Tasks to JSON\n",
    "def save_tasks(tasks):\n",
    "  with open(TASK_FILE, 'w') as file:\n",
    "    json.dump(tasks, file, indent=2)\n",
    "\n",
    "# Step 3: Add a new task\n",
    "def add_task():\n",
    "  task_name = input(\"Enter the task name: \").strip()\n",
    "  tasks = load_tasks()\n",
    "  tasks.append({\"task\": task_name, \"status\": \"Incomplete\"})\n",
    "  save_tasks(tasks)\n",
    "  print(f'Task \"{task_name}\" added successfully!')\n",
    "\n",
    "# Step 4: View All Tasks\n",
    "def view_tasks():\n",
    "  tasks = load_tasks()\n",
    "  if tasks:\n",
    "    print(\"\\n--- To-Do List ---\")\n",
    "    for idx, task in enumerate(tasks, start=1):\n",
    "      print(f\"{idx}. {task['task']} - {task['status']}\")\n",
    "  else:\n",
    "    print(\"No tasks found.\")\n",
    "\n",
    "# Step 5: Update Task Status\n",
    "def update_status():\n",
    "  tasks = load_tasks()\n",
    "  view_tasks()\n",
    "  try:\n",
    "    task_index = int(input(\"Enter the task number to update: \")) - 1\n",
    "    if 0 <= task_index < len(tasks):\n",
    "      new_status = input(\"Enter the new status (Complete/Incomplete): \").strip()\n",
    "      tasks[task_index]['status'] = new_status\n",
    "      save_tasks(tasks)\n",
    "      print(\"Task status updated successfully!\")\n",
    "    else:\n",
    "      print(\"Invalid task number.\")\n",
    "  except ValueError:\n",
    "    print(\"Invalid input. Please enter a valid task number.\")\n",
    "\n",
    "# Step 6: Delete a Task\n",
    "def delete_task():\n",
    "  tasks = load_tasks()\n",
    "  view_tasks()\n",
    "  try:\n",
    "    task_index = int(input(\"Enter the task number to delete: \")) - 1\n",
    "    if 0 <= task_index < len(tasks):\n",
    "      deleted_task = tasks.pop(task_index)\n",
    "      save_tasks(tasks)\n",
    "      print(f'Task \"{deleted_task[\"task\"]}\" deleted successfully!')\n",
    "    else:\n",
    "      print(\"Invalid task number.\")\n",
    "  except ValueError:\n",
    "    print(\"Invalid input. Please enter a valid task number.\")\n",
    "\n",
    "# Step 7: Display Menu\n",
    "def display_menu():\n",
    "  print(\"\\n--- Mini To-Do App ---\")\n",
    "  print(\"1. Add a new task\")\n",
    "  print(\"2. View all tasks\")\n",
    "  print(\"3. Update Task status\")\n",
    "  print(\"4. Delete a task\")\n",
    "  print(\"5. Exit\")\n",
    "\n",
    "# Step 8: Main Program Loop\n",
    "while True:\n",
    "  display_menu()\n",
    "  choice = input(\"Enter your choice (1-5): \").strip()\n",
    "\n",
    "  if choice == '1':\n",
    "    add_task()\n",
    "  elif choice == '2':\n",
    "    view_tasks()\n",
    "  elif choice == '3':\n",
    "    update_status()\n",
    "  elif choice == '4':\n",
    "    delete_task()\n",
    "  elif choice == '5':\n",
    "    print(\"Exiting the To-Do List App. Goodbye!\")\n",
    "    break\n",
    "  else:\n",
    "    print(\"Invalid choice. Please enter a number between 1 and 5.\")"
   ]
  }
 ],
 "metadata": {
  "kernelspec": {
   "display_name": "Python 3 (ipykernel)",
   "language": "python",
   "name": "python3"
  },
  "language_info": {
   "codemirror_mode": {
    "name": "ipython",
    "version": 3
   },
   "file_extension": ".py",
   "mimetype": "text/x-python",
   "name": "python",
   "nbconvert_exporter": "python",
   "pygments_lexer": "ipython3",
   "version": "3.12.7"
  }
 },
 "nbformat": 4,
 "nbformat_minor": 5
}
