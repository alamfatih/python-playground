{
 "cells": [
  {
   "cell_type": "markdown",
   "id": "d2c1c87f-e8d6-4ff7-93fc-a1b5831de3ce",
   "metadata": {},
   "source": [
    "# ⚙️ Implementasi Alat Pembersih Data dengan Pandas di Python"
   ]
  },
  {
   "cell_type": "markdown",
   "id": "8c8ac4b3-2e6a-41af-af1f-fecd111b4244",
   "metadata": {},
   "source": [
    "Berikut adalah skrip Python yang mengotomatisasi proses pembersihan data sederhana dari file CSV:\n",
    "\n",
    "* **Fungsi `load_data(file_path)`:** Memuat data dari file CSV menggunakan `pd.read_csv()` dan menangani potensi error saat pemuatan file.\n",
    "* **Fungsi `clean_data(df)`:** Menerima DataFrame Pandas sebagai input dan melakukan langkah-langkah pembersihan:\n",
    "    * Menampilkan bentuk awal DataFrame.\n",
    "    * Menghapus baris yang mengandung nilai kosong menggunakan `df.dropna()`.\n",
    "    * Menampilkan bentuk DataFrame setelah menghapus nilai kosong.\n",
    "    * Menghapus baris duplikat menggunakan `df.drop_duplicates()`.\n",
    "    * Menampilkan bentuk DataFrame setelah menghapus duplikat.\n",
    "    * Mengembalikan DataFrame yang sudah dibersihkan.\n",
    "* **Fungsi `save_data(df, output_path)`:** Menyimpan DataFrame yang sudah dibersihkan ke file CSV baru menggunakan `df.to_csv()` tanpa menyertakan indeks. Menangani potensi error saat penyimpanan file.\n",
    "* **Fungsi `main()`:** Fungsi utama program yang:\n",
    "    * Menyapa pengguna.\n",
    "    * Meminta jalur file CSV input.\n",
    "    * Memuat data menggunakan `load_data()`.\n",
    "    * Menampilkan beberapa baris pertama dari data awal.\n",
    "    * Membersihkan data menggunakan `clean_data()`.\n",
    "    * Meminta jalur file untuk menyimpan data yang sudah dibersihkan.\n",
    "    * Menyimpan data bersih menggunakan `save_data()`.\n",
    "* **Blok `if __name__ == \"__main__\":`:** Memastikan fungsi `main()` hanya dijalankan ketika skrip dieksekusi secara langsung.\n",
    "\n",
    "Jalankan sel kode di bawah untuk membersihkan dataset-mu dengan cepat!"
   ]
  },
  {
   "cell_type": "code",
   "execution_count": 1,
   "id": "91df674c-d108-4929-8604-3fd1b0e25339",
   "metadata": {},
   "outputs": [
    {
     "name": "stdout",
     "output_type": "stream",
     "text": [
      "Welcome to the Data Cleaner Tool!\n"
     ]
    },
    {
     "name": "stdin",
     "output_type": "stream",
     "text": [
      "Enter the path to your CSV file:  data.csv\n"
     ]
    },
    {
     "name": "stdout",
     "output_type": "stream",
     "text": [
      "Data loaded successfully!\n",
      "\n",
      "--- Initial Data ---\n",
      "     name   age  sex  location\n",
      "0  Vivian   NaN    M       ATL\n",
      "1    John  35.0    M       MSP\n",
      "2    Jane  34.0    F       DCA\n",
      "3    Mary  55.0  NaN       SEA\n",
      "4  Vivian  40.0    M       ATL\n",
      "\n",
      "--- Cleaning Data ---\n",
      "Initial Shape: (8, 4)\n",
      "\n",
      "Handling Missing Values...\n",
      "After Dropping Missing Values: (6, 4)\n",
      "\n",
      "Removing Duplicates...\n",
      "After Removing Duplicates: (4, 4)\n"
     ]
    },
    {
     "name": "stdin",
     "output_type": "stream",
     "text": [
      "\n",
      "Enter the path to save the cleaned CSV file:  dataclean2.csv\n"
     ]
    },
    {
     "name": "stdout",
     "output_type": "stream",
     "text": [
      "Cleaned data saved to dataclean2.csv\n"
     ]
    }
   ],
   "source": [
    "import pandas as pd\n",
    "\n",
    "def load_data(file_path):\n",
    "    \"\"\"Load data from a CSV file.\"\"\"\n",
    "    try:\n",
    "        df = pd.read_csv(file_path)\n",
    "        print(\"Data loaded successfully!\")\n",
    "        return df\n",
    "    except Exception as e:\n",
    "        print(\"Error loading data:\", e)\n",
    "        return None\n",
    "\n",
    "def clean_data(df):\n",
    "    \"\"\"Clean the data.\"\"\"\n",
    "    print(\"\\n--- Cleaning Data ---\")\n",
    "    print(\"Initial Shape:\", df.shape)\n",
    "\n",
    "    # Handle Missing Values\n",
    "    print(\"\\nHandling Missing Values...\")\n",
    "    df = df.dropna()  # Drop rows with missing values\n",
    "    print(\"After Dropping Missing Values:\", df.shape)\n",
    "\n",
    "    # Remove Duplicates\n",
    "    print(\"\\nRemoving Duplicates...\")\n",
    "    df = df.drop_duplicates()\n",
    "    print(\"After Removing Duplicates:\", df.shape)\n",
    "\n",
    "    return df\n",
    "\n",
    "def save_data(df, output_path):\n",
    "    \"\"\"Save the cleaned data to a new CSV file.\"\"\"\n",
    "    try:\n",
    "        df.to_csv(output_path, index=False)\n",
    "        print(f\"Cleaned data saved to {output_path}\")\n",
    "    except Exception as e:\n",
    "        print(\"Error saving data:\", e)\n",
    "\n",
    "def main():\n",
    "    print(\"Welcome to the Data Cleaner Tool!\")\n",
    "    \n",
    "    # Input File\n",
    "    input_file = input(\"Enter the path to your CSV file: \")\n",
    "    df = load_data(input_file)\n",
    "    if df is None:\n",
    "        return\n",
    "    \n",
    "    # Show Initial Data\n",
    "    print(\"\\n--- Initial Data ---\")\n",
    "    print(df.head())\n",
    "    \n",
    "    # Clean the Data\n",
    "    df = clean_data(df)\n",
    "    \n",
    "    # Save Cleaned Data\n",
    "    output_file = input(\"\\nEnter the path to save the cleaned CSV file: \")\n",
    "    save_data(df, output_file)\n",
    "    \n",
    "if __name__ == \"__main__\":\n",
    "    main()"
   ]
  }
 ],
 "metadata": {
  "kernelspec": {
   "display_name": "Python [conda env:base] *",
   "language": "python",
   "name": "conda-base-py"
  },
  "language_info": {
   "codemirror_mode": {
    "name": "ipython",
    "version": 3
   },
   "file_extension": ".py",
   "mimetype": "text/x-python",
   "name": "python",
   "nbconvert_exporter": "python",
   "pygments_lexer": "ipython3",
   "version": "3.12.7"
  }
 },
 "nbformat": 4,
 "nbformat_minor": 5
}
