{
 "cells": [
  {
   "cell_type": "markdown",
   "id": "2136fbbf-e1e8-41e6-9df7-afd18216a779",
   "metadata": {},
   "source": [
    "# ⚙️ Implementasi Dasbor Cuaca Global dengan Python Requests dan Matplotlib"
   ]
  },
  {
   "cell_type": "markdown",
   "id": "75db59e7-a611-4c94-9765-55439708fd35",
   "metadata": {},
   "source": [
    "Berikut adalah skrip Python yang membangun dasbor cuaca interaktif:\n",
    "\n",
    "* **Mengimpor Library:** Menggunakan `requests` untuk berinteraksi dengan OpenWeatherMap API dan `matplotlib.pyplot` untuk visualisasi.\n",
    "* **Konstanta `API_KEY` dan `BASE_URL`:** Menyimpan kunci API OpenWeatherMap dan URL dasar API. **Pastikan untuk mengganti `\"YOUR_API_KEY\"` dengan API key kamu yang sebenarnya.**\n",
    "* **Fungsi `fetch_weather_data(city)`:** Mengirim permintaan ke OpenWeatherMap API untuk mendapatkan data cuaca kota yang diberikan. Mengembalikan data JSON jika berhasil, atau `None` jika terjadi error.\n",
    "* **Fungsi `display_weather_data(data)`:** Menerima data cuaca JSON dan mencetak informasi yang relevan seperti nama kota, suhu, kondisi cuaca, kelembaban, dan kecepatan angin.\n",
    "* **Fungsi `plot_weather_trend(days, temperatures)`:** Membuat dan menampilkan plot garis tren suhu (saat ini tidak digunakan dalam menu utama).\n",
    "* **Fungsi `compare_weather(cities)`:** Menerima daftar nama kota, mengambil data suhu untuk setiap kota, dan membuat grafik batang perbandingan suhu menggunakan `matplotlib.pyplot`.\n",
    "* **Fungsi `main()`:** Menampilkan menu interaktif kepada pengguna untuk memilih antara melihat cuaca satu kota, membandingkan cuaca beberapa kota, atau keluar dari program.\n",
    "\n",
    "**Catatan:** Program ini memerlukan koneksi internet dan API key OpenWeatherMap yang valid untuk berfungsi.\n",
    "\n",
    "Jelajahi cuaca dunia melalui kode!"
   ]
  },
  {
   "cell_type": "code",
   "execution_count": 1,
   "id": "3fb117ef-e599-4585-bddc-c07677a41103",
   "metadata": {},
   "outputs": [
    {
     "name": "stdout",
     "output_type": "stream",
     "text": [
      "Welcome to the Global Weather Dashboard!\n",
      "\n",
      "Menu:\n",
      "1. View Weather for a City\n",
      "2. Compare Weather for Multiple Cities\n",
      "3. Exit\n"
     ]
    },
    {
     "name": "stdin",
     "output_type": "stream",
     "text": [
      "Choose an option:  1\n",
      "Enter the city name:  London\n"
     ]
    },
    {
     "name": "stdout",
     "output_type": "stream",
     "text": [
      "City: London\n",
      "Temperature: 8.89°C\n",
      "Weather: Overcast Clouds\n",
      "Humidity: 81%\n",
      "Wind Speed: 2.06 m/s\n",
      "\n",
      "Menu:\n",
      "1. View Weather for a City\n",
      "2. Compare Weather for Multiple Cities\n",
      "3. Exit\n"
     ]
    },
    {
     "name": "stdin",
     "output_type": "stream",
     "text": [
      "Choose an option:  2\n",
      "Enter city names separated by commas:  London, Tokyo\n"
     ]
    },
    {
     "data": {
      "image/png": "[encoded data removed]",
      "text/plain": [
       "<Figure size 640x480 with 1 Axes>"
      ]
     },
     "metadata": {},
     "output_type": "display_data"
    },
    {
     "name": "stdout",
     "output_type": "stream",
     "text": [
      "\n",
      "Menu:\n",
      "1. View Weather for a City\n",
      "2. Compare Weather for Multiple Cities\n",
      "3. Exit\n"
     ]
    },
    {
     "name": "stdin",
     "output_type": "stream",
     "text": [
      "Choose an option:  3\n"
     ]
    },
    {
     "name": "stdout",
     "output_type": "stream",
     "text": [
      "Goodbye!\n"
     ]
    }
   ],
   "source": [
    "import requests\n",
    "import matplotlib.pyplot as plt\n",
    "\n",
    "API_KEY = \"edf2e4659d181acefd7bc4bcd7412597\"\n",
    "BASE_URL = \"https://api.openweathermap.org/data/2.5/weather\"\n",
    "\n",
    "def fetch_weather_data(city):\n",
    "    params = {\n",
    "        \"q\": city,\n",
    "        \"appid\": API_KEY,\n",
    "        \"units\": \"metric\"\n",
    "    }\n",
    "    response = requests.get(BASE_URL, params=params)\n",
    "    if response.status_code == 200:\n",
    "        return response.json()\n",
    "    else:\n",
    "        print(\"Error fetching data:\", response.status_code)\n",
    "        return None\n",
    "\n",
    "def display_weather_data(data):\n",
    "    print(f\"City: {data['name']}\")\n",
    "    print(f\"Temperature: {data['main']['temp']}°C\")\n",
    "    print(f\"Weather: {data['weather'][0]['description'].title()}\")\n",
    "    print(f\"Humidity: {data['main']['humidity']}%\")\n",
    "    print(f\"Wind Speed: {data['wind']['speed']} m/s\")\n",
    "\n",
    "def plot_weather_trend(days, temperatures):\n",
    "    plt.plot(days, temperatures, marker='o', color='blue')\n",
    "    plt.title(\"Temperature Trend\")\n",
    "    plt.xlabel(\"Days\")\n",
    "    plt.ylabel(\"Temperature (°C)\")\n",
    "    plt.grid()\n",
    "    plt.show()\n",
    "\n",
    "def compare_weather(cities):\n",
    "    temps = []\n",
    "    for city in cities:\n",
    "        data = fetch_weather_data(city)\n",
    "        if data:\n",
    "            temps.append((city, data['main']['temp']))\n",
    "\n",
    "    city_names = [t[0] for t in temps]\n",
    "    city_temps = [t[1] for t in temps]\n",
    "    plt.bar(city_names, city_temps, color='skyblue')\n",
    "    plt.title(\"Temperature Comparison\")\n",
    "    plt.xlabel(\"City\")\n",
    "    plt.ylabel(\"Temperature (°C)\")\n",
    "    plt.show()\n",
    "\n",
    "def main():\n",
    "    print(\"Welcome to the Global Weather Dashboard!\")\n",
    "    while True:\n",
    "        print(\"\\nMenu:\")\n",
    "        print(\"1. View Weather for a City\")\n",
    "        print(\"2. Compare Weather for Multiple Cities\")\n",
    "        print(\"3. Exit\")\n",
    "        choice = input(\"Choose an option: \")\n",
    "\n",
    "        if choice == \"1\":\n",
    "            city = input(\"Enter the city name: \")\n",
    "            weather_data = fetch_weather_data(city)\n",
    "            if weather_data:\n",
    "                display_weather_data(weather_data)\n",
    "        elif choice == \"2\":\n",
    "            cities = input(\"Enter city names separated by commas: \").split(\",\")\n",
    "            compare_weather([city.strip() for city in cities])\n",
    "        elif choice == \"3\":\n",
    "            print(\"Goodbye!\")\n",
    "            break\n",
    "        else:\n",
    "            print(\"Invalid choice. Please try again.\")\n",
    "\n",
    "if __name__ == \"__main__\":\n",
    "    main()"
   ]
  }
 ],
 "metadata": {
  "kernelspec": {
   "display_name": "Python [conda env:base] *",
   "language": "python",
   "name": "conda-base-py"
  },
  "language_info": {
   "codemirror_mode": {
    "name": "ipython",
    "version": 3
   },
   "file_extension": ".py",
   "mimetype": "text/x-python",
   "name": "python",
   "nbconvert_exporter": "python",
   "pygments_lexer": "ipython3",
   "version": "3.12.7"
  }
 },
 "nbformat": 4,
 "nbformat_minor": 5
}
