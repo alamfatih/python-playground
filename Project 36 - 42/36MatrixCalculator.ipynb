{
 "cells": [
  {
   "cell_type": "markdown",
   "id": "19cd9c5d-62cd-4605-bc6c-e8749a7c2947",
   "metadata": {},
   "source": [
    "# ⚙️ Implementasi Kalkulator Matriks Interaktif dengan NumPy di Python"
   ]
  },
  {
   "cell_type": "markdown",
   "id": "daf1efda-38b7-4c7e-b726-eaeaa20afda3",
   "metadata": {},
   "source": [
    "Berikut adalah skrip Python yang mengimplementasikan kalkulator matriks:\n",
    "\n",
    "* **Mengimpor NumPy:** Menggunakan library `numpy` untuk operasi matematika matriks yang efisien.\n",
    "* **Fungsi `get_matrix()`:** Meminta pengguna untuk memasukkan dimensi dan elemen-elemen matriks, dengan validasi sederhana untuk memastikan jumlah kolom sesuai. Mengembalikan matriks NumPy.\n",
    "* **Fungsi `matrix_operations(A, B)`:** Menerima dua matriks (A dan B) sebagai input dan melakukan berbagai operasi:\n",
    "    * Penjumlahan, Pengurangan, dan Perkalian Element-wise dengan penanganan `ValueError` jika dimensi tidak sesuai.\n",
    "    * Dot Product dengan penanganan `ValueError` jika dimensi tidak sesuai.\n",
    "    * Menghitung dan menampilkan transpose dari kedua matriks.\n",
    "    * Menghitung dan menampilkan determinan dan invers dari Matriks A dengan penanganan `np.linalg.LinAlgError` jika matriks tidak persegi atau tidak invertible.\n",
    "* **Fungsi `main()`:** Fungsi utama program yang memanggil `get_matrix()` untuk mendapatkan input matriks dari pengguna dan kemudian memanggil `matrix_operations()` untuk melakukan perhitungan.\n",
    "* **Blok `if __name__ == \"__main__\":`:** Memastikan fungsi `main()` hanya dijalankan ketika skrip dieksekusi secara langsung.\n",
    "\n",
    "Jalankan sel kode di bawah untuk melakukan perhitungan matriksmu!"
   ]
  },
  {
   "cell_type": "code",
   "execution_count": 6,
   "id": "7efdef4d-cf4f-4391-bc0b-3cf7b8962a76",
   "metadata": {},
   "outputs": [
    {
     "name": "stdout",
     "output_type": "stream",
     "text": [
      "Matrix Calculator\n",
      "=================\n",
      "Input Matrix A:\n"
     ]
    },
    {
     "name": "stdin",
     "output_type": "stream",
     "text": [
      "Enter the number of rows:  2\n",
      "Enter the number of columns:  2\n"
     ]
    },
    {
     "name": "stdout",
     "output_type": "stream",
     "text": [
      "Enter the matrix elements row by row:\n"
     ]
    },
    {
     "name": "stdin",
     "output_type": "stream",
     "text": [
      " 1 2\n",
      " 3 4\n"
     ]
    },
    {
     "name": "stdout",
     "output_type": "stream",
     "text": [
      "\n",
      "Input Matrix B:\n"
     ]
    },
    {
     "name": "stdin",
     "output_type": "stream",
     "text": [
      "Enter the number of rows:  2\n",
      "Enter the number of columns:  2\n"
     ]
    },
    {
     "name": "stdout",
     "output_type": "stream",
     "text": [
      "Enter the matrix elements row by row:\n"
     ]
    },
    {
     "name": "stdin",
     "output_type": "stream",
     "text": [
      " 5 6\n",
      " 7 8\n"
     ]
    },
    {
     "name": "stdout",
     "output_type": "stream",
     "text": [
      "\n",
      "Matrix A:\n",
      " [[1. 2.]\n",
      " [3. 4.]]\n",
      "\n",
      "Matrix B:\n",
      " [[5. 6.]\n",
      " [7. 8.]]\n",
      "\n",
      "Addition:\n",
      " [[ 6.  8.]\n",
      " [10. 12.]]\n",
      "\n",
      "Subtraction:\n",
      " [[-4. -4.]\n",
      " [-4. -4.]]\n",
      "\n",
      "Element-wise Multiplication:\n",
      " [[ 5. 12.]\n",
      " [21. 32.]]\n",
      "\n",
      "Dot Product:\n",
      " [[19. 22.]\n",
      " [43. 50.]]\n",
      "\n",
      "Transpose of A:\n",
      " [[1. 3.]\n",
      " [2. 4.]]\n",
      "\n",
      "Transpose of B:\n",
      " [[5. 7.]\n",
      " [6. 8.]]\n",
      "\n",
      "Determinant of A: -2.0000000000000004\n",
      "\n",
      "Inverse of A:\n",
      " [[-2.   1. ]\n",
      " [ 1.5 -0.5]]\n"
     ]
    }
   ],
   "source": [
    "import numpy as np\n",
    "\n",
    "# Function to Get Matrix Input\n",
    "def get_matrix():\n",
    "    try:\n",
    "        rows = int(input(\"Enter the number of rows: \"))\n",
    "        cols = int(input(\"Enter the number of columns: \"))\n",
    "        print(\"Enter the matrix elements row by row:\")\n",
    "        elements = []\n",
    "        for _ in range(rows):\n",
    "            row = list(map(float, input().split()))\n",
    "            if len(row) != cols:\n",
    "                raise ValueError(\"Number of columns doesn't match.\")\n",
    "            elements.append(row)\n",
    "        return np.array(elements)\n",
    "    except ValueError as e:\n",
    "        print(\"Error:\", e)\n",
    "        return None\n",
    "\n",
    "# Matrix Operations\n",
    "def matrix_operations(A, B):\n",
    "    print(\"\\nMatrix A:\\n\", A)\n",
    "    print(\"\\nMatrix B:\\n\", B)\n",
    "\n",
    "    try:\n",
    "        print(\"\\nAddition:\\n\", A + B)\n",
    "    except ValueError:\n",
    "        print(\"\\nAddition: Matrices must have the same dimensions.\")\n",
    "\n",
    "    try:\n",
    "        print(\"\\nSubtraction:\\n\", A - B)\n",
    "    except ValueError:\n",
    "        print(\"\\nSubtraction: Matrices must have the same dimensions.\")\n",
    "\n",
    "    try:\n",
    "        print(\"\\nElement-wise Multiplication:\\n\", A * B)\n",
    "    except ValueError:\n",
    "        print(\"\\nElement-wise Multiplication: Matrices must have the same dimensions.\")\n",
    "\n",
    "    try:\n",
    "        print(\"\\nDot Product:\\n\", np.dot(A, B))\n",
    "    except ValueError:\n",
    "        print(\"\\nDot Product: Number of columns in A must equal the number of rows in B.\")\n",
    "\n",
    "    print(\"\\nTranspose of A:\\n\", A.T)\n",
    "    print(\"\\nTranspose of B:\\n\", B.T)\n",
    "\n",
    "    try:\n",
    "        print(\"\\nDeterminant of A:\", np.linalg.det(A))\n",
    "    except np.linalg.LinAlgError:\n",
    "        print(\"\\nDeterminant of A: Not applicable (Matrix must be square).\")\n",
    "\n",
    "    try:\n",
    "        print(\"\\nInverse of A:\\n\", np.linalg.inv(A))\n",
    "    except np.linalg.LinAlgError:\n",
    "        print(\"\\nInverse of A: Not invertible.\")\n",
    "\n",
    "# Main Program\n",
    "def main():\n",
    "    print(\"Matrix Calculator\")\n",
    "    print(\"=================\")\n",
    "    print(\"Input Matrix A:\")\n",
    "    A = get_matrix()\n",
    "    if A is None:\n",
    "        return\n",
    "\n",
    "    print(\"\\nInput Matrix B:\")\n",
    "    B = get_matrix()\n",
    "    if B is None:\n",
    "        return\n",
    "\n",
    "    matrix_operations(A, B)\n",
    "\n",
    "if __name__ == \"__main__\":\n",
    "    main()"
   ]
  }
 ],
 "metadata": {
  "kernelspec": {
   "display_name": "Python [conda env:base] *",
   "language": "python",
   "name": "conda-base-py"
  },
  "language_info": {
   "codemirror_mode": {
    "name": "ipython",
    "version": 3
   },
   "file_extension": ".py",
   "mimetype": "text/x-python",
   "name": "python",
   "nbconvert_exporter": "python",
   "pygments_lexer": "ipython3",
   "version": "3.12.7"
  }
 },
 "nbformat": 4,
 "nbformat_minor": 5
}
