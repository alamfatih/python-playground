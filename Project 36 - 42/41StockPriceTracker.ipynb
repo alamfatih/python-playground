{
 "cells": [
  {
   "cell_type": "markdown",
   "id": "17f7bbac-83ed-476b-8f95-1a43de7643de",
   "metadata": {},
   "source": [
    "# ⚙️ Implementasi Pelacak Harga Saham dengan Web Scraping (Yahoo Finance) di Python"
   ]
  },
  {
   "cell_type": "markdown",
   "id": "c48d3023-8c7f-4395-bd2d-4ff8e8b3b0d9",
   "metadata": {},
   "source": [
    "Berikut adalah skrip Python yang menggunakan *web scraping* untuk mendapatkan harga saham:\n",
    "\n",
    "* **Mengimpor Library:** Menggunakan `requests` untuk mengambil konten halaman web, `BeautifulSoup` untuk mengurai HTML, dan `time` untuk mengatur interval.\n",
    "* **Fungsi `fetch_page(url)`:** Mengirim permintaan HTTP GET ke URL yang diberikan dan mengembalikan konten HTML jika berhasil (status kode 200). Menampilkan pesan error jika gagal.\n",
    "* **Fungsi `parse_html(html)`:** Mengurai konten HTML menggunakan BeautifulSoup.\n",
    "* **Fungsi `get_stock_price(ticker)`:** Membuat URL Yahoo Finance untuk ticker yang diberikan, mengambil konten HTML, mengurainya, dan mencari elemen HTML yang berisi harga saham saat ini.\n",
    "* **Fungsi `track_stock_price(ticker, interval=60)`:** Melakukan loop tak terbatas untuk terus-menerus mendapatkan dan mencetak harga saham sesuai dengan interval yang ditentukan. **Interval default adalah 60 detik untuk mengurangi risiko pemblokiran server.**\n",
    "* **Fungsi `main()`:** Meminta pengguna untuk memasukkan ticker saham dan interval pembaruan, lalu memanggil fungsi `track_stock_price()`.\n",
    "\n",
    "**Peringatan:** *Web scraping* bisa rentan terhadap perubahan struktur situs web dan mungkin melanggar ketentuan layanan situs. Pertimbangkan untuk menggunakan API data keuangan resmi untuk solusi yang lebih andal.\n",
    "\n",
    "Jalankan sel kode di bawah untuk mulai memantau harga saham!"
   ]
  },
  {
   "cell_type": "code",
   "execution_count": 5,
   "id": "0ffb2502-5702-4ce3-b649-6f826bbb7205",
   "metadata": {},
   "outputs": [
    {
     "name": "stdout",
     "output_type": "stream",
     "text": [
      "Welcome to the Stock Price Tracker!\n"
     ]
    },
    {
     "name": "stdin",
     "output_type": "stream",
     "text": [
      "Enter the stock ticker symbol (e.g., AAPL, TSLA):  AAPL\n",
      "Enter the update interval (in seconds):  61\n"
     ]
    },
    {
     "name": "stdout",
     "output_type": "stream",
     "text": [
      "Tracking stock prices for AAPL every 61 seconds...\n",
      "Failed to fetch page: 429\n"
     ]
    },
    {
     "ename": "KeyboardInterrupt",
     "evalue": "",
     "output_type": "error",
     "traceback": [
      "\u001b[1;31m---------------------------------------------------------------------------\u001b[0m",
      "\u001b[1;31mKeyboardInterrupt\u001b[0m                         Traceback (most recent call last)",
      "Cell \u001b[1;32mIn[5], line 46\u001b[0m\n\u001b[0;32m     43\u001b[0m     track_stock_price(ticker, interval)\n\u001b[0;32m     45\u001b[0m \u001b[38;5;28;01mif\u001b[39;00m \u001b[38;5;18m__name__\u001b[39m \u001b[38;5;241m==\u001b[39m \u001b[38;5;124m\"\u001b[39m\u001b[38;5;124m__main__\u001b[39m\u001b[38;5;124m\"\u001b[39m:\n\u001b[1;32m---> 46\u001b[0m     main()\n",
      "Cell \u001b[1;32mIn[5], line 43\u001b[0m, in \u001b[0;36mmain\u001b[1;34m()\u001b[0m\n\u001b[0;32m     41\u001b[0m interval \u001b[38;5;241m=\u001b[39m \u001b[38;5;28mint\u001b[39m(\u001b[38;5;28minput\u001b[39m(\u001b[38;5;124m\"\u001b[39m\u001b[38;5;124mEnter the update interval (in seconds): \u001b[39m\u001b[38;5;124m\"\u001b[39m))\n\u001b[0;32m     42\u001b[0m \u001b[38;5;28mprint\u001b[39m(\u001b[38;5;124mf\u001b[39m\u001b[38;5;124m\"\u001b[39m\u001b[38;5;124mTracking stock prices for \u001b[39m\u001b[38;5;132;01m{\u001b[39;00mticker\u001b[38;5;132;01m}\u001b[39;00m\u001b[38;5;124m every \u001b[39m\u001b[38;5;132;01m{\u001b[39;00minterval\u001b[38;5;132;01m}\u001b[39;00m\u001b[38;5;124m seconds...\u001b[39m\u001b[38;5;124m\"\u001b[39m)\n\u001b[1;32m---> 43\u001b[0m track_stock_price(ticker, interval)\n",
      "Cell \u001b[1;32mIn[5], line 36\u001b[0m, in \u001b[0;36mtrack_stock_price\u001b[1;34m(ticker, interval)\u001b[0m\n\u001b[0;32m     34\u001b[0m \u001b[38;5;28;01mif\u001b[39;00m price:\n\u001b[0;32m     35\u001b[0m     \u001b[38;5;28mprint\u001b[39m(\u001b[38;5;124mf\u001b[39m\u001b[38;5;124m\"\u001b[39m\u001b[38;5;132;01m{\u001b[39;00mticker\u001b[38;5;132;01m}\u001b[39;00m\u001b[38;5;124m: $\u001b[39m\u001b[38;5;132;01m{\u001b[39;00mprice\u001b[38;5;132;01m}\u001b[39;00m\u001b[38;5;124m\"\u001b[39m)\n\u001b[1;32m---> 36\u001b[0m time\u001b[38;5;241m.\u001b[39msleep(interval)\n",
      "\u001b[1;31mKeyboardInterrupt\u001b[0m: "
     ]
    }
   ],
   "source": [
    "import requests\n",
    "from bs4 import BeautifulSoup\n",
    "import time\n",
    "\n",
    "def fetch_page(url):\n",
    "    response = requests.get(url)\n",
    "    if response.status_code == 200:\n",
    "        return response.text\n",
    "    else:\n",
    "        print(f\"Failed to fetch page: {response.status_code}\")\n",
    "        return None\n",
    "\n",
    "def parse_html(html):\n",
    "    soup = BeautifulSoup(html, \"html.parser\")\n",
    "    return soup\n",
    "\n",
    "def get_stock_price(ticker):\n",
    "    url = f\"https://finance.yahoo.com/quote/{ticker}\"\n",
    "    html = fetch_page(url)\n",
    "    if not html:\n",
    "        return None\n",
    "\n",
    "    soup = parse_html(html)\n",
    "    price_tag = soup.find(\"fin-streamer\", {\"data-symbol\": ticker, \"data-field\": \"regularMarketPrice\"})\n",
    "    if price_tag:\n",
    "        return price_tag.text\n",
    "    else:\n",
    "        print(\"Stock price not found.\")\n",
    "        return None\n",
    "\n",
    "def track_stock_price(ticker, interval=60):\n",
    "    while True:\n",
    "        price = get_stock_price(ticker)\n",
    "        if price:\n",
    "            print(f\"{ticker}: ${price}\")\n",
    "        time.sleep(interval)\n",
    "\n",
    "def main():\n",
    "    print(\"Welcome to the Stock Price Tracker!\")\n",
    "    ticker = input(\"Enter the stock ticker symbol (e.g., AAPL, TSLA): \").upper()\n",
    "    interval = int(input(\"Enter the update interval (in seconds): \"))\n",
    "    print(f\"Tracking stock prices for {ticker} every {interval} seconds...\")\n",
    "    track_stock_price(ticker, interval)\n",
    "\n",
    "if __name__ == \"__main__\":\n",
    "    main()"
   ]
  }
 ],
 "metadata": {
  "kernelspec": {
   "display_name": "Python [conda env:base] *",
   "language": "python",
   "name": "conda-base-py"
  },
  "language_info": {
   "codemirror_mode": {
    "name": "ipython",
    "version": 3
   },
   "file_extension": ".py",
   "mimetype": "text/x-python",
   "name": "python",
   "nbconvert_exporter": "python",
   "pygments_lexer": "ipython3",
   "version": "3.12.7"
  }
 },
 "nbformat": 4,
 "nbformat_minor": 5
}
