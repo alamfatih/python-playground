{
 "cells": [
  {
   "cell_type": "markdown",
   "id": "ac5d6fea-32e2-4979-88b2-33412c0d1555",
   "metadata": {},
   "source": [
    "# ⚙️ Implementasi Aplikasi Analisis Laporan Penjualan dengan Pandas dan Matplotlib di Python"
   ]
  },
  {
   "cell_type": "markdown",
   "id": "71dfeb16-d8a0-45f5-8f4d-bd1154d79a11",
   "metadata": {},
   "source": [
    "Berikut adalah skrip Python yang mengotomatisasi analisis laporan penjualan:\n",
    "\n",
    "* **Mengimpor Modul:** Mengimpor `pandas` untuk manipulasi data dan `matplotlib.pyplot` untuk visualisasi.\n",
    "* **Fungsi `load_data(file_path)`:** Memuat data penjualan dari file CSV menggunakan `pd.read_csv()` dan menangani potensi error saat pemuatan file.\n",
    "* **Fungsi `clean_data(data)`:** Menerima DataFrame Pandas sebagai input dan melakukan pembersihan dan prapemrosesan:\n",
    "    * Mengisi nilai kosong pada kolom 'Product_Category' dengan \"Unknown\".\n",
    "    * Menghapus baris yang mengandung nilai kosong di kolom lain.\n",
    "    * Mengonversi kolom 'Date' ke tipe datetime dan 'Sales_Amount' ke numerik.\n",
    "    * Membuat kolom 'Year_Month' dari kolom 'Date'.\n",
    "    * Membuat kolom 'Revenue' jika kolom 'Quantity' dan 'Price' tersedia.\n",
    "* **Fungsi `analyze_data(data)`:** Menganalisis data penjualan:\n",
    "    * Menghitung dan menampilkan total penjualan bulanan menggunakan `groupby()` dan `sum()`.\n",
    "    * Menghitung dan menampilkan 5 produk terlaris berdasarkan pendapatan (jika kolom 'Revenue' tersedia) menggunakan `groupby()`, `sum()`, dan `sort_values()`.\n",
    "    * Membuat dan menampilkan grafik batang penjualan bulanan menggunakan `matplotlib.pyplot`.\n",
    "* **Fungsi `main()`:** Fungsi utama program yang:\n",
    "    * Menyapa pengguna.\n",
    "    * Meminta jalur file CSV laporan penjualan.\n",
    "    * Memuat data menggunakan `load_data()`.\n",
    "    * Membersihkan data menggunakan `clean_data()`.\n",
    "    * Menganalisis dan memvisualisasikan data menggunakan `analyze_data()`.\n",
    "* **Blok `if __name__ == \"__main__\":`:** Memastikan fungsi `main()` hanya dijalankan ketika skrip dieksekusi secara langsung.\n",
    "\n",
    "Jalankan sel kode di bawah untuk menganalisis laporan penjualanmu dan mendapatkan insight berharga!"
   ]
  },
  {
   "cell_type": "code",
   "execution_count": 1,
   "id": "518f0f85-fae3-4e08-978a-cf43d27521f9",
   "metadata": {},
   "outputs": [
    {
     "name": "stdout",
     "output_type": "stream",
     "text": [
      "Welcome to the Sales Report Analyzer!\n"
     ]
    },
    {
     "name": "stdin",
     "output_type": "stream",
     "text": [
      "Enter the path to your sales CSV file:  sales_data.csv\n"
     ]
    },
    {
     "name": "stdout",
     "output_type": "stream",
     "text": [
      "Data loaded successfully!\n",
      "\n",
      "Cleaning Data...\n",
      "Data cleaned successfully!\n",
      "\n",
      "--- Sales Insights ---\n",
      "\n",
      "Monthly Sales:\n",
      "Year_Month\n",
      "2023-01    764.80\n",
      "2023-02    145.94\n",
      "Freq: M, Name: Sales_Amount, dtype: float64\n",
      "\n",
      "Top 5 Products by Revenue:\n",
      "Product_Name\n",
      "Jacket, Winter      99.99\n",
      "Shoes, Running      79.99\n",
      "Shirt, Medium       77.97\n",
      "Sweatshirt, Gray    69.98\n",
      "Dress, Black        64.99\n",
      "Name: Revenue, dtype: float64\n"
     ]
    },
    {
     "data": {
      "image/png": "[encoded data removed]",
      "text/plain": [
       "<Figure size 1000x600 with 1 Axes>"
      ]
     },
     "metadata": {},
     "output_type": "display_data"
    }
   ],
   "source": [
    "import pandas as pd\n",
    "import matplotlib.pyplot as plt\n",
    "\n",
    "def load_data(file_path):\n",
    "    \"\"\"Load sales data from a CSV file.\"\"\"\n",
    "    try:\n",
    "        data = pd.read_csv(file_path)\n",
    "        print(\"Data loaded successfully!\")\n",
    "        return data\n",
    "    except Exception as e:\n",
    "        print(\"Error loading data:\", e)\n",
    "        return None\n",
    "\n",
    "def clean_data(data):\n",
    "    \"\"\"Clean and preprocess the data.\"\"\"\n",
    "    print(\"\\nCleaning Data...\")\n",
    "    # Fill Missing Values\n",
    "    data['Product_Category'] = data['Product_Category'].fillna(\"Unknown\")\n",
    "    data = data.dropna()\n",
    "\n",
    "    # Convert Columns\n",
    "    data['Date'] = pd.to_datetime(data['Date'])\n",
    "    data['Sales_Amount'] = pd.to_numeric(data['Sales_Amount'], errors='coerce')\n",
    "    \n",
    "    # Add New Columns\n",
    "    data['Year_Month'] = data['Date'].dt.to_period('M')\n",
    "    if 'Quantity' in data.columns and 'Price' in data.columns:\n",
    "        data['Revenue'] = data['Quantity'] * data['Price']\n",
    "    \n",
    "    print(\"Data cleaned successfully!\")\n",
    "    return data\n",
    "\n",
    "def analyze_data(data):\n",
    "    \"\"\"Analyze and display insights from the data.\"\"\"\n",
    "    print(\"\\n--- Sales Insights ---\")\n",
    "    \n",
    "    # Total Sales by Month\n",
    "    monthly_sales = data.groupby('Year_Month')['Sales_Amount'].sum()\n",
    "    print(\"\\nMonthly Sales:\")\n",
    "    print(monthly_sales)\n",
    "\n",
    "    # Top 5 Products by Revenue\n",
    "    if 'Revenue' in data.columns:\n",
    "        top_products = data.groupby('Product_Name')['Revenue'].sum().sort_values(ascending=False).head(5)\n",
    "        print(\"\\nTop 5 Products by Revenue:\")\n",
    "        print(top_products)\n",
    "    \n",
    "    # Visualize Monthly Sales\n",
    "    monthly_sales.plot(kind='bar', figsize=(10, 6), color='skyblue')\n",
    "    plt.title(\"Monthly Sales\")\n",
    "    plt.xlabel(\"Month\")\n",
    "    plt.ylabel(\"Total Sales\")\n",
    "    plt.xticks(rotation=45)\n",
    "    plt.show()\n",
    "\n",
    "def main():\n",
    "    print(\"Welcome to the Sales Report Analyzer!\")\n",
    "    \n",
    "    # Load Data\n",
    "    file_path = input(\"Enter the path to your sales CSV file: \")\n",
    "    data = load_data(file_path)\n",
    "    if data is None:\n",
    "        return\n",
    "    \n",
    "    # Clean Data\n",
    "    data = clean_data(data)\n",
    "    \n",
    "    # Analyze Data\n",
    "    analyze_data(data)\n",
    "\n",
    "if __name__ == \"__main__\":\n",
    "    main()"
   ]
  }
 ],
 "metadata": {
  "kernelspec": {
   "display_name": "Python [conda env:base] *",
   "language": "python",
   "name": "conda-base-py"
  },
  "language_info": {
   "codemirror_mode": {
    "name": "ipython",
    "version": 3
   },
   "file_extension": ".py",
   "mimetype": "text/x-python",
   "name": "python",
   "nbconvert_exporter": "python",
   "pygments_lexer": "ipython3",
   "version": "3.12.7"
  }
 },
 "nbformat": 4,
 "nbformat_minor": 5
}
